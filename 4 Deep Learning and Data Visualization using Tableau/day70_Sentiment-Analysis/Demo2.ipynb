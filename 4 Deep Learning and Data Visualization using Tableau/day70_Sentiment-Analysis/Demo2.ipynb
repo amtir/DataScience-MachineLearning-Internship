{
 "cells": [
  {
   "cell_type": "code",
   "execution_count": 1,
   "id": "1bc621bb-4f74-4795-8064-fd9dd87b6d55",
   "metadata": {},
   "outputs": [],
   "source": [
    "# Demo 2 \n"
   ]
  },
  {
   "cell_type": "code",
   "execution_count": 10,
   "id": "dccaa221-a668-4b57-9a6f-e7f82331f1e2",
   "metadata": {},
   "outputs": [
    {
     "name": "stdout",
     "output_type": "stream",
     "text": [
      "['Negative']\n",
      "['Negative']\n"
     ]
    }
   ],
   "source": [
    "from sklearn.feature_extraction.text import TfidfVectorizer\n",
    "from sklearn.model_selection import train_test_split\n",
    "from sklearn.naive_bayes import MultinomialNB\n",
    "from sklearn.pipeline import make_pipeline\n",
    "\n",
    "# Sample dataset\n",
    "X = [\"I love this product!\", \"This is the worst thing ever!\", \"It's okay, not great.\"]\n",
    "y = [\"Positive\", \"Negative\", \"Neutral\"]\n",
    "\n",
    "# Convert text into numerical features\n",
    "vectorizer = TfidfVectorizer()\n",
    "X_train, X_test, y_train, y_test = train_test_split(X, y, test_size=0.2, random_state=42)\n",
    "\n",
    "# Train Naïve Bayes Model\n",
    "model = make_pipeline(TfidfVectorizer(), MultinomialNB())\n",
    "model.fit(X_train, y_train)\n",
    "\n",
    "# Predict on test data\n",
    "print(model.predict([\"This product is fantastic!\"]))  # Output: ['Positive']\n",
    "print(model.predict([\"I hate this service.\"]))  # Output: ['Negative']\n"
   ]
  },
  {
   "cell_type": "code",
   "execution_count": null,
   "id": "6524dde6-8b65-47ff-825c-1112f8a360a9",
   "metadata": {},
   "outputs": [],
   "source": []
  },
  {
   "cell_type": "code",
   "execution_count": null,
   "id": "8629a837-ec3c-45c8-80b8-e5eaaec0300b",
   "metadata": {},
   "outputs": [],
   "source": []
  }
 ],
 "metadata": {
  "kernelspec": {
   "display_name": "Python 3 (ipykernel)",
   "language": "python",
   "name": "python3"
  },
  "language_info": {
   "codemirror_mode": {
    "name": "ipython",
    "version": 3
   },
   "file_extension": ".py",
   "mimetype": "text/x-python",
   "name": "python",
   "nbconvert_exporter": "python",
   "pygments_lexer": "ipython3",
   "version": "3.12.4"
  }
 },
 "nbformat": 4,
 "nbformat_minor": 5
}
