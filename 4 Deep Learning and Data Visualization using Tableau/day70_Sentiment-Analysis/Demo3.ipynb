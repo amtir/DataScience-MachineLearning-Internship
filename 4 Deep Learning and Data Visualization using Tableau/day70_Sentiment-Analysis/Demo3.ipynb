{
 "cells": [
  {
   "cell_type": "code",
   "execution_count": 1,
   "id": "6dd7d86c-70f6-41a6-8641-6eebe3ec6b9e",
   "metadata": {},
   "outputs": [],
   "source": [
    "# Demo3"
   ]
  },
  {
   "cell_type": "code",
   "execution_count": 15,
   "id": "b932c2e9-4289-4d94-9389-2f16265d4186",
   "metadata": {},
   "outputs": [
    {
     "name": "stdout",
     "output_type": "stream",
     "text": [
      "Sentiment Polarity: 0.625\n",
      "Subjectivity Score: 0.75\n"
     ]
    }
   ],
   "source": [
    "from textblob import TextBlob\n",
    "\n",
    "# Sample text\n",
    "text = \"The product is absolutely amazing! I love it.\"\n",
    "\n",
    "# Create TextBlob object\n",
    "blob = TextBlob(text)\n",
    "\n",
    "# Get sentiment polarity & subjectivity\n",
    "polarity = blob.sentiment.polarity  # -1 (negative) to +1 (positive)\n",
    "subjectivity = blob.sentiment.subjectivity  # 0 (objective) to 1 (subjective)\n",
    "\n",
    "print(f\"Sentiment Polarity: {polarity}\")\n",
    "print(f\"Subjectivity Score: {subjectivity}\")\n"
   ]
  },
  {
   "cell_type": "code",
   "execution_count": 13,
   "id": "33f21abd-4366-4aa9-ae57-61f75c898326",
   "metadata": {},
   "outputs": [
    {
     "name": "stdout",
     "output_type": "stream",
     "text": [
      "                                               tweet  sentiment  \\\n",
      "0  I love the new iPhone! The camera is fantastic...   0.390152   \n",
      "1  The customer service was terrible, never buyin...  -1.000000   \n",
      "2  Not sure how I feel about this update. It's ok...   0.125000   \n",
      "\n",
      "  sentiment_label  \n",
      "0        Positive  \n",
      "1        Negative  \n",
      "2         Neutral  \n"
     ]
    }
   ],
   "source": [
    "import pandas as pd\n",
    "from textblob import TextBlob\n",
    "\n",
    "# Sample dataset (tweets)\n",
    "data = {'tweet': [\n",
    "    \"I love the new iPhone! The camera is fantastic! 📱😍\",\n",
    "    \"The customer service was terrible, never buying from them again.\",\n",
    "    \"Not sure how I feel about this update. It's okay, I guess.\"\n",
    "]}\n",
    "\n",
    "# Convert to DataFrame\n",
    "df = pd.DataFrame(data)\n",
    "\n",
    "# Function to get sentiment polarity\n",
    "def get_sentiment(text):\n",
    "    return TextBlob(text).sentiment.polarity\n",
    "\n",
    "# Apply sentiment analysis\n",
    "df['sentiment'] = df['tweet'].apply(get_sentiment)\n",
    "\n",
    "# Categorize sentiment\n",
    "df['sentiment_label'] = df['sentiment'].apply(lambda x: 'Positive' if x > 0.2 else ('Negative' if x < -0.2 else 'Neutral'))\n",
    "\n",
    "# Display results\n",
    "print(df)\n"
   ]
  },
  {
   "cell_type": "code",
   "execution_count": null,
   "id": "2c583138-da17-4628-925c-de4637708694",
   "metadata": {},
   "outputs": [],
   "source": []
  }
 ],
 "metadata": {
  "kernelspec": {
   "display_name": "Python 3 (ipykernel)",
   "language": "python",
   "name": "python3"
  },
  "language_info": {
   "codemirror_mode": {
    "name": "ipython",
    "version": 3
   },
   "file_extension": ".py",
   "mimetype": "text/x-python",
   "name": "python",
   "nbconvert_exporter": "python",
   "pygments_lexer": "ipython3",
   "version": "3.12.4"
  }
 },
 "nbformat": 4,
 "nbformat_minor": 5
}
