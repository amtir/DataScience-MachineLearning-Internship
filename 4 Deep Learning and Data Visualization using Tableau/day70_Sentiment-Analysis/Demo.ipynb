{
 "cells": [
  {
   "cell_type": "code",
   "execution_count": 1,
   "id": "1cea04c3-de60-4c59-943d-466aade59cd9",
   "metadata": {},
   "outputs": [],
   "source": [
    "# Demo sentiment analysis"
   ]
  },
  {
   "cell_type": "code",
   "execution_count": 7,
   "id": "25c029a2-e388-40c4-925c-b93914cd46f1",
   "metadata": {},
   "outputs": [
    {
     "name": "stdout",
     "output_type": "stream",
     "text": [
      "Filtered Sentiment Data: \n",
      "                                               Review  Polarity  Subjectivity\n",
      "0       The phone is great, I love the battery life!    0.7125         0.675\n",
      "2  Worst experience ever, the screen cracked in a...   -1.0000         1.000\n"
     ]
    }
   ],
   "source": [
    "from textblob import TextBlob\n",
    "import pandas as pd\n",
    "\n",
    "# Sample dataset\n",
    "reviews = [\n",
    "    \"The phone is great, I love the battery life!\",  # Positive & Opinionated\n",
    "    \"This phone has a 5000mAh battery and 128GB storage.\",  # Neutral & Factual\n",
    "    \"Worst experience ever, the screen cracked in a week!\",  # Negative & Opinionated\n",
    "    \"The phone is available in 3 colors: black, white, and blue.\"  # Neutral & Factual\n",
    "]\n",
    "\n",
    "# Create DataFrame\n",
    "df = pd.DataFrame(reviews, columns=[\"Review\"])\n",
    "\n",
    "# Function to get polarity & subjectivity\n",
    "def analyze_sentiment(text):\n",
    "    blob = TextBlob(text)\n",
    "    return blob.sentiment.polarity, blob.sentiment.subjectivity\n",
    "\n",
    "# Apply sentiment analysis\n",
    "df[['Polarity', 'Subjectivity']] = df['Review'].apply(lambda x: pd.Series(analyze_sentiment(x)))\n",
    "\n",
    "# Filter: Keep only strong opinions (subjectivity > 0.5) and non-neutral sentiment\n",
    "df_filtered = df[(df['Subjectivity'] > 0.5) & (df['Polarity'].abs() > 0.2)]\n",
    "\n",
    "# Show results\n",
    "\n",
    "print(\"Filtered Sentiment Data: \\n\", df_filtered)\n"
   ]
  },
  {
   "cell_type": "code",
   "execution_count": null,
   "id": "84699ccf-5ffb-4e67-bb45-08359e6adcbf",
   "metadata": {},
   "outputs": [],
   "source": []
  }
 ],
 "metadata": {
  "kernelspec": {
   "display_name": "Python 3 (ipykernel)",
   "language": "python",
   "name": "python3"
  },
  "language_info": {
   "codemirror_mode": {
    "name": "ipython",
    "version": 3
   },
   "file_extension": ".py",
   "mimetype": "text/x-python",
   "name": "python",
   "nbconvert_exporter": "python",
   "pygments_lexer": "ipython3",
   "version": "3.12.4"
  }
 },
 "nbformat": 4,
 "nbformat_minor": 5
}
