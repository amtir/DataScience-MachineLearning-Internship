{
 "cells": [
  {
   "cell_type": "code",
   "execution_count": 1,
   "id": "53f98b77-84e5-4f45-93b5-3c1c3982ab63",
   "metadata": {},
   "outputs": [],
   "source": [
    "# DIY Demo "
   ]
  },
  {
   "cell_type": "code",
   "execution_count": 3,
   "id": "dadff4e1-42e1-4ed5-825b-6e4fea9574b8",
   "metadata": {},
   "outputs": [
    {
     "name": "stdout",
     "output_type": "stream",
     "text": [
      "Tokenized Words: ['What', 'is', 'Lorem', 'Ipsum', '?', 'Lorem', 'Ipsum', 'is', 'simply', 'dummy', 'text', 'of', 'the', 'printing', 'and', 'typesetting', 'industry', '.', 'Lorem', 'Ipsum', 'has', 'been', 'the', 'industry', \"'s\", 'standard', 'dummy', 'text', 'ever', 'since', 'the', '1500s', ',', 'when', 'an', 'unknown', 'printer', 'took', 'a', 'galley', 'of', 'type', 'and', 'scrambled', 'it', 'to', 'make', 'a', 'type', 'specimen', 'book', '.', 'It', 'has', 'survived', 'not', 'only', 'five', 'centuries', ',', 'but', 'also', 'the', 'leap', 'into', 'electronic', 'typesetting', ',', 'remaining', 'essentially', 'unchanged', '.', 'It', 'was', 'popularised', 'in', 'the', '1960s', 'with', 'the', 'release', 'of', 'Letraset', 'sheets', 'containing', 'Lorem', 'Ipsum', 'passages', ',', 'and', 'more', 'recently', 'with', 'desktop', 'publishing', 'software', 'like', 'Aldus', 'PageMaker', 'including', 'versions', 'of', 'Lorem', 'Ipsum', '.']\n",
      "Lowercase Tokens: ['what', 'is', 'lorem', 'ipsum', '?', 'lorem', 'ipsum', 'is', 'simply', 'dummy', 'text', 'of', 'the', 'printing', 'and', 'typesetting', 'industry', '.', 'lorem', 'ipsum', 'has', 'been', 'the', 'industry', \"'s\", 'standard', 'dummy', 'text', 'ever', 'since', 'the', '1500s', ',', 'when', 'an', 'unknown', 'printer', 'took', 'a', 'galley', 'of', 'type', 'and', 'scrambled', 'it', 'to', 'make', 'a', 'type', 'specimen', 'book', '.', 'it', 'has', 'survived', 'not', 'only', 'five', 'centuries', ',', 'but', 'also', 'the', 'leap', 'into', 'electronic', 'typesetting', ',', 'remaining', 'essentially', 'unchanged', '.', 'it', 'was', 'popularised', 'in', 'the', '1960s', 'with', 'the', 'release', 'of', 'letraset', 'sheets', 'containing', 'lorem', 'ipsum', 'passages', ',', 'and', 'more', 'recently', 'with', 'desktop', 'publishing', 'software', 'like', 'aldus', 'pagemaker', 'including', 'versions', 'of', 'lorem', 'ipsum', '.']\n",
      "Tokens after Stopword Removal: ['lorem', 'ipsum', '?', 'lorem', 'ipsum', 'simply', 'dummy', 'text', 'printing', 'typesetting', 'industry', '.', 'lorem', 'ipsum', 'industry', \"'s\", 'standard', 'dummy', 'text', 'ever', 'since', '1500s', ',', 'unknown', 'printer', 'took', 'galley', 'type', 'scrambled', 'make', 'type', 'specimen', 'book', '.', 'survived', 'five', 'centuries', ',', 'also', 'leap', 'electronic', 'typesetting', ',', 'remaining', 'essentially', 'unchanged', '.', 'popularised', '1960s', 'release', 'letraset', 'sheets', 'containing', 'lorem', 'ipsum', 'passages', ',', 'recently', 'desktop', 'publishing', 'software', 'like', 'aldus', 'pagemaker', 'including', 'versions', 'lorem', 'ipsum', '.']\n",
      "Cleaned Tokens: ['lorem', 'ipsum', 'lorem', 'ipsum', 'simply', 'dummy', 'text', 'printing', 'typesetting', 'industry', 'lorem', 'ipsum', 'industry', 's', 'standard', 'dummy', 'text', 'ever', 'since', '1500s', 'unknown', 'printer', 'took', 'galley', 'type', 'scrambled', 'make', 'type', 'specimen', 'book', 'survived', 'five', 'centuries', 'also', 'leap', 'electronic', 'typesetting', 'remaining', 'essentially', 'unchanged', 'popularised', '1960s', 'release', 'letraset', 'sheets', 'containing', 'lorem', 'ipsum', 'passages', 'recently', 'desktop', 'publishing', 'software', 'like', 'aldus', 'pagemaker', 'including', 'versions', 'lorem', 'ipsum']\n",
      "Bigrams: [('lorem', 'ipsum'), ('ipsum', 'lorem'), ('lorem', 'ipsum'), ('ipsum', 'simply'), ('simply', 'dummy'), ('dummy', 'text'), ('text', 'printing'), ('printing', 'typesetting'), ('typesetting', 'industry'), ('industry', 'lorem'), ('lorem', 'ipsum'), ('ipsum', 'industry'), ('industry', 's'), ('s', 'standard'), ('standard', 'dummy'), ('dummy', 'text'), ('text', 'ever'), ('ever', 'since'), ('since', '1500s'), ('1500s', 'unknown'), ('unknown', 'printer'), ('printer', 'took'), ('took', 'galley'), ('galley', 'type'), ('type', 'scrambled'), ('scrambled', 'make'), ('make', 'type'), ('type', 'specimen'), ('specimen', 'book'), ('book', 'survived'), ('survived', 'five'), ('five', 'centuries'), ('centuries', 'also'), ('also', 'leap'), ('leap', 'electronic'), ('electronic', 'typesetting'), ('typesetting', 'remaining'), ('remaining', 'essentially'), ('essentially', 'unchanged'), ('unchanged', 'popularised'), ('popularised', '1960s'), ('1960s', 'release'), ('release', 'letraset'), ('letraset', 'sheets'), ('sheets', 'containing'), ('containing', 'lorem'), ('lorem', 'ipsum'), ('ipsum', 'passages'), ('passages', 'recently'), ('recently', 'desktop'), ('desktop', 'publishing'), ('publishing', 'software'), ('software', 'like'), ('like', 'aldus'), ('aldus', 'pagemaker'), ('pagemaker', 'including'), ('including', 'versions'), ('versions', 'lorem'), ('lorem', 'ipsum')]\n",
      "Trigrams: [('lorem', 'ipsum', 'lorem'), ('ipsum', 'lorem', 'ipsum'), ('lorem', 'ipsum', 'simply'), ('ipsum', 'simply', 'dummy'), ('simply', 'dummy', 'text'), ('dummy', 'text', 'printing'), ('text', 'printing', 'typesetting'), ('printing', 'typesetting', 'industry'), ('typesetting', 'industry', 'lorem'), ('industry', 'lorem', 'ipsum'), ('lorem', 'ipsum', 'industry'), ('ipsum', 'industry', 's'), ('industry', 's', 'standard'), ('s', 'standard', 'dummy'), ('standard', 'dummy', 'text'), ('dummy', 'text', 'ever'), ('text', 'ever', 'since'), ('ever', 'since', '1500s'), ('since', '1500s', 'unknown'), ('1500s', 'unknown', 'printer'), ('unknown', 'printer', 'took'), ('printer', 'took', 'galley'), ('took', 'galley', 'type'), ('galley', 'type', 'scrambled'), ('type', 'scrambled', 'make'), ('scrambled', 'make', 'type'), ('make', 'type', 'specimen'), ('type', 'specimen', 'book'), ('specimen', 'book', 'survived'), ('book', 'survived', 'five'), ('survived', 'five', 'centuries'), ('five', 'centuries', 'also'), ('centuries', 'also', 'leap'), ('also', 'leap', 'electronic'), ('leap', 'electronic', 'typesetting'), ('electronic', 'typesetting', 'remaining'), ('typesetting', 'remaining', 'essentially'), ('remaining', 'essentially', 'unchanged'), ('essentially', 'unchanged', 'popularised'), ('unchanged', 'popularised', '1960s'), ('popularised', '1960s', 'release'), ('1960s', 'release', 'letraset'), ('release', 'letraset', 'sheets'), ('letraset', 'sheets', 'containing'), ('sheets', 'containing', 'lorem'), ('containing', 'lorem', 'ipsum'), ('lorem', 'ipsum', 'passages'), ('ipsum', 'passages', 'recently'), ('passages', 'recently', 'desktop'), ('recently', 'desktop', 'publishing'), ('desktop', 'publishing', 'software'), ('publishing', 'software', 'like'), ('software', 'like', 'aldus'), ('like', 'aldus', 'pagemaker'), ('aldus', 'pagemaker', 'including'), ('pagemaker', 'including', 'versions'), ('including', 'versions', 'lorem'), ('versions', 'lorem', 'ipsum')]\n"
     ]
    },
    {
     "name": "stderr",
     "output_type": "stream",
     "text": [
      "[nltk_data] Downloading package punkt to\n",
      "[nltk_data]     C:\\Users\\akram\\AppData\\Roaming\\nltk_data...\n",
      "[nltk_data]   Package punkt is already up-to-date!\n",
      "[nltk_data] Downloading package stopwords to\n",
      "[nltk_data]     C:\\Users\\akram\\AppData\\Roaming\\nltk_data...\n",
      "[nltk_data]   Package stopwords is already up-to-date!\n"
     ]
    }
   ],
   "source": [
    "import nltk\n",
    "import re\n",
    "from nltk.tokenize import word_tokenize\n",
    "from nltk.corpus import stopwords\n",
    "from nltk.util import bigrams, trigrams\n",
    "\n",
    "# Download necessary NLTK resources\n",
    "nltk.download('punkt')\n",
    "nltk.download('stopwords')\n",
    "\n",
    "# 1. Load the demotext.txt text file\n",
    "file_path = \"demotext.txt\"  # Ensure this file is in the working directory\n",
    "with open(file_path, \"r\", encoding=\"utf-8\") as file:\n",
    "    text = file.read()\n",
    "\n",
    "# 2. Word-wise tokenization\n",
    "tokens = word_tokenize(text)\n",
    "print(\"Tokenized Words:\", tokens)\n",
    "\n",
    "# 3. Convert tokens to lowercase\n",
    "lower_tokens = [word.lower() for word in tokens]\n",
    "print(\"Lowercase Tokens:\", lower_tokens)\n",
    "\n",
    "# 4. Remove stop words\n",
    "stop_words = set(stopwords.words(\"english\"))\n",
    "filtered_tokens = [word for word in lower_tokens if word not in stop_words]\n",
    "print(\"Tokens after Stopword Removal:\", filtered_tokens)\n",
    "\n",
    "# 5. Remove punctuation and special characters using regex\n",
    "clean_tokens = [re.sub(r'[^a-zA-Z0-9]', '', word) for word in filtered_tokens]\n",
    "clean_tokens = [word for word in clean_tokens if word]  # Remove empty strings\n",
    "print(\"Cleaned Tokens:\", clean_tokens)\n",
    "\n",
    "# 6. Generate bigrams and trigrams\n",
    "bigram_list = list(bigrams(clean_tokens))\n",
    "trigram_list = list(trigrams(clean_tokens))\n",
    "\n",
    "print(\"Bigrams:\", bigram_list)\n",
    "print(\"Trigrams:\", trigram_list)\n"
   ]
  },
  {
   "cell_type": "code",
   "execution_count": null,
   "id": "1481a1de-290f-4649-ad99-43cc07314188",
   "metadata": {},
   "outputs": [],
   "source": []
  }
 ],
 "metadata": {
  "kernelspec": {
   "display_name": "Python 3 (ipykernel)",
   "language": "python",
   "name": "python3"
  },
  "language_info": {
   "codemirror_mode": {
    "name": "ipython",
    "version": 3
   },
   "file_extension": ".py",
   "mimetype": "text/x-python",
   "name": "python",
   "nbconvert_exporter": "python",
   "pygments_lexer": "ipython3",
   "version": "3.12.4"
  }
 },
 "nbformat": 4,
 "nbformat_minor": 5
}
