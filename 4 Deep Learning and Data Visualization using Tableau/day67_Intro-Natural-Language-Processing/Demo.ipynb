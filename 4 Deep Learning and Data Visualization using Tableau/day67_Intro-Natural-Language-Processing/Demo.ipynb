{
 "cells": [
  {
   "cell_type": "code",
   "execution_count": 1,
   "id": "2128eac3-aa96-4186-a388-5d134f5b6e9d",
   "metadata": {},
   "outputs": [],
   "source": [
    "#"
   ]
  },
  {
   "cell_type": "code",
   "execution_count": 1,
   "id": "06717bc5-147e-4a02-b8c2-108ef054f302",
   "metadata": {},
   "outputs": [
    {
     "name": "stdout",
     "output_type": "stream",
     "text": [
      "3.12.4 | packaged by Anaconda, Inc. | (main, Jun 18 2024, 15:03:56) [MSC v.1929 64 bit (AMD64)]\n"
     ]
    }
   ],
   "source": [
    "import sys\n",
    "print(sys.version)\n",
    "\n"
   ]
  },
  {
   "cell_type": "code",
   "execution_count": 3,
   "id": "3fd1de27-a25a-466d-b8e3-9932537e6170",
   "metadata": {},
   "outputs": [
    {
     "name": "stderr",
     "output_type": "stream",
     "text": [
      "[nltk_data] Downloading package punkt to\n",
      "[nltk_data]     C:\\Users\\akram\\AppData\\Roaming\\nltk_data...\n",
      "[nltk_data]   Package punkt is already up-to-date!\n",
      "[nltk_data] Downloading package averaged_perceptron_tagger to\n",
      "[nltk_data]     C:\\Users\\akram\\AppData\\Roaming\\nltk_data...\n",
      "[nltk_data]   Package averaged_perceptron_tagger is already up-to-\n",
      "[nltk_data]       date!\n",
      "[nltk_data] Downloading package wordnet to\n",
      "[nltk_data]     C:\\Users\\akram\\AppData\\Roaming\\nltk_data...\n",
      "[nltk_data]   Package wordnet is already up-to-date!\n",
      "[nltk_data] Downloading package stopwords to\n",
      "[nltk_data]     C:\\Users\\akram\\AppData\\Roaming\\nltk_data...\n",
      "[nltk_data]   Package stopwords is already up-to-date!\n"
     ]
    },
    {
     "data": {
      "text/plain": [
       "True"
      ]
     },
     "execution_count": 3,
     "metadata": {},
     "output_type": "execute_result"
    }
   ],
   "source": [
    "import nltk\n",
    "nltk.download('punkt')\n",
    "nltk.download('averaged_perceptron_tagger')\n",
    "nltk.download('wordnet')\n",
    "nltk.download('stopwords')\n"
   ]
  },
  {
   "cell_type": "code",
   "execution_count": 5,
   "id": "6b2934a8-2f96-4ea2-a00a-1f708901698f",
   "metadata": {},
   "outputs": [
    {
     "name": "stdout",
     "output_type": "stream",
     "text": [
      "C:\\Users\\akram\\AppData\\Roaming\\nltk_data\\tokenizers\\punkt\\PY3\n"
     ]
    }
   ],
   "source": [
    "import nltk\n",
    "print(nltk.data.find('tokenizers/punkt'))\n"
   ]
  },
  {
   "cell_type": "code",
   "execution_count": 7,
   "id": "044bd208-c11e-4b8e-bdfe-773c8b969437",
   "metadata": {},
   "outputs": [
    {
     "name": "stdout",
     "output_type": "stream",
     "text": [
      "['Hello', ',', 'this', 'is', 'a', 'test', 'sentence', '.']\n"
     ]
    }
   ],
   "source": [
    "from nltk.tokenize import word_tokenize\n",
    "\n",
    "text = \"Hello, this is a test sentence.\"\n",
    "tokens = word_tokenize(text)\n",
    "print(tokens)\n"
   ]
  },
  {
   "cell_type": "code",
   "execution_count": 1,
   "id": "e05c9964-e08a-4ed4-b91c-de0ab019271d",
   "metadata": {},
   "outputs": [
    {
     "name": "stderr",
     "output_type": "stream",
     "text": [
      "[nltk_data] Downloading package punkt to\n",
      "[nltk_data]     C:\\Users\\akram\\AppData\\Roaming\\nltk_data...\n",
      "[nltk_data]   Package punkt is already up-to-date!\n",
      "[nltk_data] Downloading package stopwords to\n",
      "[nltk_data]     C:\\Users\\akram\\AppData\\Roaming\\nltk_data...\n",
      "[nltk_data]   Package stopwords is already up-to-date!\n",
      "[nltk_data] Downloading package wordnet to\n",
      "[nltk_data]     C:\\Users\\akram\\AppData\\Roaming\\nltk_data...\n",
      "[nltk_data]   Package wordnet is already up-to-date!\n",
      "[nltk_data] Downloading package averaged_perceptron_tagger to\n",
      "[nltk_data]     C:\\Users\\akram\\AppData\\Roaming\\nltk_data...\n",
      "[nltk_data]   Package averaged_perceptron_tagger is already up-to-\n",
      "[nltk_data]       date!\n",
      "[nltk_data] Downloading package maxent_ne_chunker to\n",
      "[nltk_data]     C:\\Users\\akram\\AppData\\Roaming\\nltk_data...\n",
      "[nltk_data]   Unzipping chunkers\\maxent_ne_chunker.zip.\n",
      "[nltk_data] Downloading package words to\n",
      "[nltk_data]     C:\\Users\\akram\\AppData\\Roaming\\nltk_data...\n",
      "[nltk_data]   Unzipping corpora\\words.zip.\n"
     ]
    },
    {
     "name": "stdout",
     "output_type": "stream",
     "text": [
      "Word Tokens: ['Alexa', ',', 'which', 'is', 'a', 'machine', ',', 'processes', 'natural', 'language', 'spoken', 'by', 'humans', 'and', 'provides', 'appropriate', 'responses', '.']\n",
      "Sentence Tokens: ['Alexa, which is a machine, processes natural language spoken by humans and provides appropriate responses.']\n",
      "Filtered Words: ['Alexa', ',', 'machine', ',', 'processes', 'natural', 'language', 'spoken', 'humans', 'provides', 'appropriate', 'responses', '.']\n",
      "Stemmed Words: ['alexa', ',', 'machin', ',', 'process', 'natur', 'languag', 'spoken', 'human', 'provid', 'appropri', 'respons', '.']\n",
      "Lemmatized Words: ['Alexa', ',', 'machine', ',', 'process', 'natural', 'language', 'spoken', 'human', 'provides', 'appropriate', 'response', '.']\n",
      "POS Tags: [('Alexa', 'NNP'), (',', ','), ('which', 'WDT'), ('is', 'VBZ'), ('a', 'DT'), ('machine', 'NN'), (',', ','), ('processes', 'VBZ'), ('natural', 'JJ'), ('language', 'NN'), ('spoken', 'VBN'), ('by', 'IN'), ('humans', 'NNS'), ('and', 'CC'), ('provides', 'VBZ'), ('appropriate', 'JJ'), ('responses', 'NNS'), ('.', '.')]\n",
      "Named Entities: (S\n",
      "  (PERSON Alexa/NNP)\n",
      "  ,/,\n",
      "  which/WDT\n",
      "  is/VBZ\n",
      "  a/DT\n",
      "  machine/NN\n",
      "  ,/,\n",
      "  processes/VBZ\n",
      "  natural/JJ\n",
      "  language/NN\n",
      "  spoken/VBN\n",
      "  by/IN\n",
      "  humans/NNS\n",
      "  and/CC\n",
      "  provides/VBZ\n",
      "  appropriate/JJ\n",
      "  responses/NNS\n",
      "  ./.)\n"
     ]
    }
   ],
   "source": [
    "import nltk\n",
    "from nltk.tokenize import word_tokenize, sent_tokenize\n",
    "from nltk.corpus import stopwords\n",
    "from nltk.stem import PorterStemmer, WordNetLemmatizer\n",
    "from nltk import pos_tag, ne_chunk\n",
    "\n",
    "# Download necessary resources\n",
    "nltk.download('punkt')\n",
    "nltk.download('stopwords')\n",
    "nltk.download('wordnet')\n",
    "nltk.download('averaged_perceptron_tagger')\n",
    "nltk.download('maxent_ne_chunker')\n",
    "nltk.download('words')\n",
    "\n",
    "# Sample Text\n",
    "txt = \"Alexa, which is a machine, processes natural language spoken by humans and provides appropriate responses.\"\n",
    "\n",
    "# 1. Tokenization\n",
    "words = word_tokenize(txt)\n",
    "sentences = sent_tokenize(txt)\n",
    "print(\"Word Tokens:\", words)\n",
    "print(\"Sentence Tokens:\", sentences)\n",
    "\n",
    "# 2. Stopword Removal\n",
    "stop_words = set(stopwords.words('english'))\n",
    "filtered_words = [word for word in words if word.lower() not in stop_words]\n",
    "print(\"Filtered Words:\", filtered_words)\n",
    "\n",
    "# 3. Stemming\n",
    "ps = PorterStemmer()\n",
    "stemmed_words = [ps.stem(word) for word in filtered_words]\n",
    "print(\"Stemmed Words:\", stemmed_words)\n",
    "\n",
    "# 4. Lemmatization\n",
    "lemmatizer = WordNetLemmatizer()\n",
    "lemmatized_words = [lemmatizer.lemmatize(word) for word in filtered_words]\n",
    "print(\"Lemmatized Words:\", lemmatized_words)\n",
    "\n",
    "# 5. POS Tagging\n",
    "pos_tags = pos_tag(words)\n",
    "print(\"POS Tags:\", pos_tags)\n",
    "\n",
    "# 6. Named Entity Recognition (NER)\n",
    "ner_tree = ne_chunk(pos_tags)\n",
    "print(\"Named Entities:\", ner_tree)"
   ]
  },
  {
   "cell_type": "code",
   "execution_count": null,
   "id": "c9fa30ed-0a95-4e0f-9e06-66e18fc9b46d",
   "metadata": {},
   "outputs": [],
   "source": []
  }
 ],
 "metadata": {
  "kernelspec": {
   "display_name": "Python 3 (ipykernel)",
   "language": "python",
   "name": "python3"
  },
  "language_info": {
   "codemirror_mode": {
    "name": "ipython",
    "version": 3
   },
   "file_extension": ".py",
   "mimetype": "text/x-python",
   "name": "python",
   "nbconvert_exporter": "python",
   "pygments_lexer": "ipython3",
   "version": "3.12.4"
  }
 },
 "nbformat": 4,
 "nbformat_minor": 5
}
