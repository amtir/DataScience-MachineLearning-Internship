{
 "cells": [
  {
   "cell_type": "code",
   "execution_count": 1,
   "id": "b4e2f6d3-6379-4ebe-a577-529f7c4670c8",
   "metadata": {},
   "outputs": [],
   "source": [
    "# Demo"
   ]
  },
  {
   "cell_type": "code",
   "execution_count": 1,
   "id": "c8c1b54d-768f-4d47-893b-53ad0343972a",
   "metadata": {},
   "outputs": [
    {
     "name": "stdout",
     "output_type": "stream",
     "text": [
      "Updated weights (input to hidden): [[0.24921513 0.1993274 ]\n",
      " [0.49960756 0.1496637 ]]\n",
      "Updated weights (hidden to output): [[0.66769329 0.40907027]\n",
      " [0.56799435 0.35898575]]\n"
     ]
    }
   ],
   "source": [
    "import numpy as np\n",
    "\n",
    "# Sigmoid activation function\n",
    "def sigmoid(x):\n",
    "    return 1 / (1 + np.exp(-x))\n",
    "\n",
    "def sigmoid_derivative(x):\n",
    "    return x * (1 - x)\n",
    "\n",
    "# Input data\n",
    "inputs = np.array([[0.1, 0.05]])\n",
    "\n",
    "# Target outputs\n",
    "targets = np.array([[0.02, 0.98]])\n",
    "\n",
    "# Initialize weights and biases\n",
    "weights_input_hidden = np.array([[0.25, 0.2], [0.5, 0.15]])\n",
    "weights_hidden_output = np.array([[0.7, 0.4], [0.6, 0.35]])\n",
    "bias_hidden = np.array([0.3])\n",
    "bias_output = np.array([0.9])\n",
    "\n",
    "# Forward propagation\n",
    "hidden_input = np.dot(inputs, weights_input_hidden) + bias_hidden\n",
    "hidden_output = sigmoid(hidden_input)\n",
    "\n",
    "output_input = np.dot(hidden_output, weights_hidden_output) + bias_output\n",
    "output = sigmoid(output_input)\n",
    "\n",
    "# Calculate error\n",
    "error = 0.5 * (targets - output)**2\n",
    "\n",
    "# Backpropagation (gradient calculation)\n",
    "output_error = targets - output\n",
    "output_delta = output_error * sigmoid_derivative(output)\n",
    "\n",
    "hidden_error = np.dot(output_delta, weights_hidden_output.T)\n",
    "hidden_delta = hidden_error * sigmoid_derivative(hidden_output)\n",
    "\n",
    "# Update weights\n",
    "learning_rate = 0.5\n",
    "weights_hidden_output += learning_rate * np.dot(hidden_output.T, output_delta)\n",
    "weights_input_hidden += learning_rate * np.dot(inputs.T, hidden_delta)\n",
    "\n",
    "print(\"Updated weights (input to hidden):\", weights_input_hidden)\n",
    "print(\"Updated weights (hidden to output):\", weights_hidden_output)"
   ]
  },
  {
   "cell_type": "code",
   "execution_count": null,
   "id": "ec2edb28-7b7f-4369-8993-f9e7597d215f",
   "metadata": {},
   "outputs": [],
   "source": []
  }
 ],
 "metadata": {
  "kernelspec": {
   "display_name": "Python 3 (ipykernel)",
   "language": "python",
   "name": "python3"
  },
  "language_info": {
   "codemirror_mode": {
    "name": "ipython",
    "version": 3
   },
   "file_extension": ".py",
   "mimetype": "text/x-python",
   "name": "python",
   "nbconvert_exporter": "python",
   "pygments_lexer": "ipython3",
   "version": "3.10.1"
  }
 },
 "nbformat": 4,
 "nbformat_minor": 5
}
