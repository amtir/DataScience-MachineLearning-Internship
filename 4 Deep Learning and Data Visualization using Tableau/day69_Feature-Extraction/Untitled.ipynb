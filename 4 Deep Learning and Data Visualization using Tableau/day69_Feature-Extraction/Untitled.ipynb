{
 "cells": [
  {
   "cell_type": "code",
   "execution_count": null,
   "id": "5bd0c87c-0c8c-4be2-bf49-e63722fc1e71",
   "metadata": {},
   "outputs": [],
   "source": []
  },
  {
   "cell_type": "code",
   "execution_count": null,
   "id": "3d26fb00-658d-4855-96d3-b7396eda4bf9",
   "metadata": {},
   "outputs": [],
   "source": []
  },
  {
   "cell_type": "code",
   "execution_count": 11,
   "id": "e552282a-49e8-4219-b67d-19e65991170e",
   "metadata": {},
   "outputs": [],
   "source": [
    "# Demo \n"
   ]
  },
  {
   "cell_type": "code",
   "execution_count": 7,
   "id": "9f1b59af-9710-4c58-b296-d6e34cd9130f",
   "metadata": {},
   "outputs": [
    {
     "name": "stdout",
     "output_type": "stream",
     "text": [
      "   boring  did  ending  good  lengthy  like  movie  really\n",
      "0       0    0       0     1        0     1      1       1\n",
      "1       1    0       1     1        0     0      1       0\n",
      "2       0    1       0     0        1     1      1       0\n"
     ]
    }
   ],
   "source": [
    "from sklearn.feature_extraction.text import CountVectorizer\n",
    "\n",
    "# Sample Reviews\n",
    "reviews = [\n",
    "    \"The movie was good and we really like it\",\n",
    "    \"The movie was good but the ending was boring\",\n",
    "    \"We did not like the movie as it was too lengthy\"\n",
    "]\n",
    "\n",
    "# Initialize BoW Model\n",
    "vectorizer = CountVectorizer(stop_words=\"english\")\n",
    "bow_matrix = vectorizer.fit_transform(reviews)\n",
    "\n",
    "# Convert BoW to a DataFrame\n",
    "import pandas as pd\n",
    "bow_df = pd.DataFrame(bow_matrix.toarray(), columns=vectorizer.get_feature_names_out())\n",
    "\n",
    "# Display the DataFrame\n",
    "print(bow_df)\n"
   ]
  },
  {
   "cell_type": "code",
   "execution_count": 9,
   "id": "044aef5c-c9fa-461b-93dd-fdc56f95ff30",
   "metadata": {},
   "outputs": [
    {
     "name": "stdout",
     "output_type": "stream",
     "text": [
      "     boring       did    ending      good   lengthy      like     movie  \\\n",
      "0  0.000000  0.000000  0.000000  0.480458  0.000000  0.480458  0.373119   \n",
      "1  0.584483  0.000000  0.584483  0.444514  0.000000  0.000000  0.345205   \n",
      "2  0.000000  0.584483  0.000000  0.000000  0.584483  0.444514  0.345205   \n",
      "\n",
      "     really  \n",
      "0  0.631745  \n",
      "1  0.000000  \n",
      "2  0.000000  \n"
     ]
    }
   ],
   "source": [
    "from sklearn.feature_extraction.text import TfidfVectorizer\n",
    "\n",
    "# Sample Reviews\n",
    "reviews = [\n",
    "    \"The movie was good and we really like it\",\n",
    "    \"The movie was good but the ending was boring\",\n",
    "    \"We did not like the movie as it was too lengthy\"\n",
    "]\n",
    "\n",
    "# Initialize TF-IDF Vectorizer\n",
    "vectorizer = TfidfVectorizer(stop_words=\"english\")\n",
    "tfidf_matrix = vectorizer.fit_transform(reviews)\n",
    "\n",
    "# Convert TF-IDF to a DataFrame\n",
    "tfidf_df = pd.DataFrame(tfidf_matrix.toarray(), columns=vectorizer.get_feature_names_out())\n",
    "\n",
    "# Display the DataFrame\n",
    "print(tfidf_df)\n"
   ]
  },
  {
   "cell_type": "code",
   "execution_count": null,
   "id": "2912f46c-dc6d-4844-af24-932d502deeb0",
   "metadata": {},
   "outputs": [],
   "source": []
  }
 ],
 "metadata": {
  "kernelspec": {
   "display_name": "Python 3 (ipykernel)",
   "language": "python",
   "name": "python3"
  },
  "language_info": {
   "codemirror_mode": {
    "name": "ipython",
    "version": 3
   },
   "file_extension": ".py",
   "mimetype": "text/x-python",
   "name": "python",
   "nbconvert_exporter": "python",
   "pygments_lexer": "ipython3",
   "version": "3.12.4"
  }
 },
 "nbformat": 4,
 "nbformat_minor": 5
}
