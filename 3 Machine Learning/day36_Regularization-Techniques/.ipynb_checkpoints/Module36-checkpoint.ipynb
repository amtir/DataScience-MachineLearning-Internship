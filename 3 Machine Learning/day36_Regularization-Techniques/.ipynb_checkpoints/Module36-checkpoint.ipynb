{
 "cells": [
  {
   "cell_type": "code",
   "execution_count": 15,
   "metadata": {
    "colab": {
     "base_uri": "https://localhost:8080/"
    },
    "id": "bhHu4e8y6Ir4",
    "outputId": "8f79cc3b-5683-4b60-ea01-637f21483fd1"
   },
   "outputs": [
    {
     "name": "stdout",
     "output_type": "stream",
     "text": [
      ".. _california_housing_dataset:\n",
      "\n",
      "California Housing dataset\n",
      "--------------------------\n",
      "\n",
      "**Data Set Characteristics:**\n",
      "\n",
      ":Number of Instances: 20640\n",
      "\n",
      ":Number of Attributes: 8 numeric, predictive attributes and the target\n",
      "\n",
      ":Attribute Information:\n",
      "    - MedInc        median income in block group\n",
      "    - HouseAge      median house age in block group\n",
      "    - AveRooms      average number of rooms per household\n",
      "    - AveBedrms     average number of bedrooms per household\n",
      "    - Population    block group population\n",
      "    - AveOccup      average number of household members\n",
      "    - Latitude      block group latitude\n",
      "    - Longitude     block group longitude\n",
      "\n",
      ":Missing Attribute Values: None\n",
      "\n",
      "This dataset was obtained from the StatLib repository.\n",
      "https://www.dcc.fc.up.pt/~ltorgo/Regression/cal_housing.html\n",
      "\n",
      "The target variable is the median house value for California districts,\n",
      "expressed in hundreds of thousands of dollars ($100,000).\n",
      "\n",
      "This dataset was derived from the 1990 U.S. census, using one row per census\n",
      "block group. A block group is the smallest geographical unit for which the U.S.\n",
      "Census Bureau publishes sample data (a block group typically has a population\n",
      "of 600 to 3,000 people).\n",
      "\n",
      "A household is a group of people residing within a home. Since the average\n",
      "number of rooms and bedrooms in this dataset are provided per household, these\n",
      "columns may take surprisingly large values for block groups with few households\n",
      "and many empty houses, such as vacation resorts.\n",
      "\n",
      "It can be downloaded/loaded using the\n",
      ":func:`sklearn.datasets.fetch_california_housing` function.\n",
      "\n",
      ".. rubric:: References\n",
      "\n",
      "- Pace, R. Kelley and Ronald Barry, Sparse Spatial Autoregressions,\n",
      "  Statistics and Probability Letters, 33 (1997) 291-297\n",
      "\n"
     ]
    }
   ],
   "source": [
    "# Import necessary libraries\n",
    "import numpy as np  # For numerical operations\n",
    "from sklearn.datasets import fetch_california_housing  # To fetch the California housing dataset\n",
    "from sklearn.model_selection import train_test_split  # For splitting data into training and test sets\n",
    "from sklearn.preprocessing import StandardScaler  # For standardizing the data\n",
    "from sklearn.linear_model import Lasso, Ridge, ElasticNet  # For L1, L2, and Elastic Net regression models\n",
    "from sklearn.metrics import mean_squared_error  # To calculate the performance metric\n",
    "\n",
    "import warnings\n",
    "warnings.filterwarnings(\"ignore\")\n",
    "\n",
    "# Load the California Housing dataset\n",
    "# This dataset contains information about housing prices in California.\n",
    "# It has 8 features (predictors) and a target (median house value).\n",
    "data = fetch_california_housing()\n",
    "\n",
    "# Display dataset description for context\n",
    "print(data.DESCR)  # Detailed description of the dataset"
   ]
  },
  {
   "cell_type": "code",
   "execution_count": 4,
   "metadata": {
    "colab": {
     "base_uri": "https://localhost:8080/"
    },
    "id": "H8_DUOEx62V4",
    "outputId": "8649eee7-e1eb-451e-8fc2-07e97a996496"
   },
   "outputs": [
    {
     "name": "stdout",
     "output_type": "stream",
     "text": [
      "Feature names: ['MedInc', 'HouseAge', 'AveRooms', 'AveBedrms', 'Population', 'AveOccup', 'Latitude', 'Longitude']\n",
      "First 5 rows of features:\n",
      " [[ 8.32520000e+00  4.10000000e+01  6.98412698e+00  1.02380952e+00\n",
      "   3.22000000e+02  2.55555556e+00  3.78800000e+01 -1.22230000e+02]\n",
      " [ 8.30140000e+00  2.10000000e+01  6.23813708e+00  9.71880492e-01\n",
      "   2.40100000e+03  2.10984183e+00  3.78600000e+01 -1.22220000e+02]\n",
      " [ 7.25740000e+00  5.20000000e+01  8.28813559e+00  1.07344633e+00\n",
      "   4.96000000e+02  2.80225989e+00  3.78500000e+01 -1.22240000e+02]\n",
      " [ 5.64310000e+00  5.20000000e+01  5.81735160e+00  1.07305936e+00\n",
      "   5.58000000e+02  2.54794521e+00  3.78500000e+01 -1.22250000e+02]\n",
      " [ 3.84620000e+00  5.20000000e+01  6.28185328e+00  1.08108108e+00\n",
      "   5.65000000e+02  2.18146718e+00  3.78500000e+01 -1.22250000e+02]]\n",
      "First 5 target values:\n",
      " [4.526 3.585 3.521 3.413 3.422]\n"
     ]
    }
   ],
   "source": [
    "# Features (X) and target (y)\n",
    "X, y = data.data, data.target  # X: Predictors, y: Target variable (median house value)\n",
    "\n",
    "# Display feature names and first few rows of the dataset\n",
    "print(\"Feature names:\", data.feature_names)\n",
    "print(\"First 5 rows of features:\\n\", X[:5])\n",
    "print(\"First 5 target values:\\n\", y[:5])"
   ]
  },
  {
   "cell_type": "code",
   "execution_count": 5,
   "metadata": {
    "id": "iFxY8wg77H7g"
   },
   "outputs": [],
   "source": [
    "# Split the dataset into training and test sets\n",
    "# 80% of the data will be used for training and 20% for testing\n",
    "X_train, X_test, y_train, y_test = train_test_split(X, y, test_size=0.2, random_state=42)"
   ]
  },
  {
   "cell_type": "code",
   "execution_count": 6,
   "metadata": {
    "id": "NCpgYb_67H24"
   },
   "outputs": [],
   "source": [
    "# Standardize the data\n",
    "# Standardization ensures that all features have mean 0 and standard deviation 1.\n",
    "# This is important for models like Lasso, Ridge, and Elastic Net to converge effectively.\n",
    "scaler = StandardScaler()\n",
    "X_train = scaler.fit_transform(X_train)  # Fit the scaler on training data and transform it\n",
    "X_test = scaler.transform(X_test)  # Transform the test data using the same scaler"
   ]
  },
  {
   "cell_type": "code",
   "execution_count": 7,
   "metadata": {
    "id": "n5t221ua7H1y"
   },
   "outputs": [],
   "source": [
    "# Lasso Regression (L1 Regularization)\n",
    "# L1 regularization penalizes the absolute magnitude of coefficients,\n",
    "# leading to some coefficients being reduced to exactly zero (sparsity).\n",
    "lasso = Lasso(alpha=0.1)  # alpha controls the regularization strength\n",
    "lasso.fit(X_train, y_train)  # Train the Lasso regression model\n",
    "y_pred_lasso = lasso.predict(X_test)  # Predict using the Lasso model\n",
    "mse_lasso = mean_squared_error(y_test, y_pred_lasso)  # Calculate Mean Squared Error"
   ]
  },
  {
   "cell_type": "code",
   "execution_count": 8,
   "metadata": {
    "id": "3tt773BA7Hx4"
   },
   "outputs": [],
   "source": [
    "# Ridge Regression (L2 Regularization)\n",
    "# L2 regularization penalizes the square of the magnitude of coefficients,\n",
    "# resulting in smaller coefficients but not exactly zero.\n",
    "ridge = Ridge(alpha=1.0)  # alpha controls the regularization strength\n",
    "ridge.fit(X_train, y_train)  # Train the Ridge regression model\n",
    "y_pred_ridge = ridge.predict(X_test)  # Predict using the Ridge model\n",
    "mse_ridge = mean_squared_error(y_test, y_pred_ridge)  # Calculate Mean Squared Error"
   ]
  },
  {
   "cell_type": "code",
   "execution_count": 9,
   "metadata": {
    "id": "1JBKs3nX7Hwz"
   },
   "outputs": [],
   "source": [
    "# Elastic Net Regression (Combination of L1 and L2)\n",
    "# Elastic Net combines L1 and L2 regularization. The balance is controlled by l1_ratio.\n",
    "# l1_ratio = 0.5 means equal weighting for L1 and L2.\n",
    "elastic_net = ElasticNet(alpha=0.1, l1_ratio=0.5)  # alpha and l1_ratio control the regularization\n",
    "elastic_net.fit(X_train, y_train)  # Train the Elastic Net model\n",
    "y_pred_elastic = elastic_net.predict(X_test)  # Predict using the Elastic Net model\n",
    "mse_elastic = mean_squared_error(y_test, y_pred_elastic)  # Calculate Mean Squared Error"
   ]
  },
  {
   "cell_type": "code",
   "execution_count": 10,
   "metadata": {
    "colab": {
     "base_uri": "https://localhost:8080/"
    },
    "id": "3MF1MwX_7HsU",
    "outputId": "c938f990-fa4e-42e7-9421-b1c34f607774"
   },
   "outputs": [
    {
     "name": "stdout",
     "output_type": "stream",
     "text": [
      "Mean Squared Error (Lasso): 0.6796290284328821\n"
     ]
    }
   ],
   "source": [
    "# Print Mean Squared Errors for comparison\n",
    "# Lower MSE indicates better model performance on the test data.\n",
    "print(\"Mean Squared Error (Lasso):\", mse_lasso)"
   ]
  },
  {
   "cell_type": "code",
   "execution_count": 11,
   "metadata": {
    "colab": {
     "base_uri": "https://localhost:8080/"
    },
    "id": "tXJtiqCA7Hrf",
    "outputId": "9844d9f5-f11d-4676-90ef-df36ee66614f"
   },
   "outputs": [
    {
     "name": "stdout",
     "output_type": "stream",
     "text": [
      "Mean Squared Error (Ridge): 0.5558548589435969\n"
     ]
    }
   ],
   "source": [
    "print(\"Mean Squared Error (Ridge):\", mse_ridge)"
   ]
  },
  {
   "cell_type": "code",
   "execution_count": 12,
   "metadata": {
    "colab": {
     "base_uri": "https://localhost:8080/"
    },
    "id": "hNBnnmur7o5c",
    "outputId": "0aabe442-7096-43a0-c52e-711f71169e96"
   },
   "outputs": [
    {
     "name": "stdout",
     "output_type": "stream",
     "text": [
      "Mean Squared Error (Elastic Net): 0.6358566879910775\n"
     ]
    }
   ],
   "source": [
    "print(\"Mean Squared Error (Elastic Net):\", mse_elastic)"
   ]
  },
  {
   "cell_type": "code",
   "execution_count": 16,
   "metadata": {
    "id": "UnoOdqrE71z2"
   },
   "outputs": [
    {
     "name": "stdout",
     "output_type": "stream",
     "text": [
      "Best Parameters: {'alpha': 0.1, 'l1_ratio': 0}\n",
      "Test Mean Squared Error: 0.5822654306706845\n"
     ]
    }
   ],
   "source": [
    "from sklearn.model_selection import GridSearchCV\n",
    "\n",
    "# Define the parameter grid\n",
    "param_grid = {\n",
    "    'alpha': [0.025, 0.05, 0.75, 0.1, 0.25],  # Mixing ratio for L1/L2\n",
    "    'l1_ratio': [0, 0.25, 0.5, 0.1,  0.25]  # Regularization strength\n",
    "}\n",
    "\n",
    "# Use GridSearchCV to find the best combination\n",
    "grid_search = GridSearchCV(estimator=elastic_net, param_grid=param_grid, cv=5, scoring='neg_mean_squared_error')\n",
    "grid_search.fit(X_train, y_train)\n",
    "\n",
    "# Get the best parameters\n",
    "print(\"Best Parameters:\", grid_search.best_params_)\n",
    "\n",
    "# Get the best model\n",
    "best_model = grid_search.best_estimator_\n",
    "\n",
    "# Evaluate on test data (if available)\n",
    "y_pred = best_model.predict(X_test)\n",
    "mse = mean_squared_error(y_test, y_pred)\n",
    "print(\"Test Mean Squared Error:\", mse)"
   ]
  },
  {
   "cell_type": "code",
   "execution_count": null,
   "metadata": {},
   "outputs": [],
   "source": []
  }
 ],
 "metadata": {
  "colab": {
   "provenance": []
  },
  "kernelspec": {
   "display_name": "Python 3 (ipykernel)",
   "language": "python",
   "name": "python3"
  },
  "language_info": {
   "codemirror_mode": {
    "name": "ipython",
    "version": 3
   },
   "file_extension": ".py",
   "mimetype": "text/x-python",
   "name": "python",
   "nbconvert_exporter": "python",
   "pygments_lexer": "ipython3",
   "version": "3.10.1"
  }
 },
 "nbformat": 4,
 "nbformat_minor": 4
}
