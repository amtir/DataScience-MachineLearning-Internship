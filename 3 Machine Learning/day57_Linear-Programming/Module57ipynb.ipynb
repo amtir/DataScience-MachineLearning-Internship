{
 "cells": [
  {
   "cell_type": "code",
   "execution_count": 2,
   "metadata": {
    "colab": {
     "base_uri": "https://localhost:8080/"
    },
    "id": "7zwSJC-3-Czo",
    "outputId": "edb7ac91-e0e9-42a0-fd50-79a643ed613d"
   },
   "outputs": [
    {
     "name": "stdout",
     "output_type": "stream",
     "text": [
      "Requirement already satisfied: pulp in c:\\users\\akram\\appdata\\local\\programs\\python\\python310\\lib\\site-packages (2.9.0)\n"
     ]
    }
   ],
   "source": [
    "!pip install pulp"
   ]
  },
  {
   "cell_type": "code",
   "execution_count": 3,
   "metadata": {
    "colab": {
     "base_uri": "https://localhost:8080/",
     "height": 35
    },
    "id": "TdC3GTOmFuJE",
    "outputId": "2cbd0df6-3837-491c-dd74-36171210f364"
   },
   "outputs": [
    {
     "data": {
      "text/plain": [
       "'  Z = 3x+2y               constraints:- x+2y<=20 ; 3x+y<=30 ; x>=0 ; y>=0'"
      ]
     },
     "execution_count": 3,
     "metadata": {},
     "output_type": "execute_result"
    }
   ],
   "source": [
    "'''  Z = 3x+2y               constraints:- x+2y<=20 ; 3x+y<=30 ; x>=0 ; y>=0'''"
   ]
  },
  {
   "cell_type": "code",
   "execution_count": 4,
   "metadata": {
    "colab": {
     "base_uri": "https://localhost:8080/"
    },
    "id": "vzTWpL75F-yL",
    "outputId": "35214609-b426-457c-94a5-78d1069b1ce6"
   },
   "outputs": [
    {
     "name": "stdout",
     "output_type": "stream",
     "text": [
      "1\n",
      "x =  8.0\n",
      "y =  6.0\n",
      "Z =  36.0\n"
     ]
    }
   ],
   "source": [
    "from pulp import LpMaximize , LpProblem, LpVariable, lpSum\n",
    "\n",
    "#Step-1:-  Define the linear programming\n",
    "lp = LpProblem('MaxZ',LpMaximize)\n",
    "\n",
    "#step-2:- Define the variables\n",
    "x = LpVariable('x',lowBound=0)\n",
    "y = LpVariable('y',lowBound=0)\n",
    "\n",
    "#Step-3:- Define the objective function\n",
    "lp += 3*x + 2*y #Objective function\n",
    "\n",
    "#Step-4:- Define the contraints\n",
    "lp+= x + 2*y<=20\n",
    "lp+= 3*x + y<=30\n",
    "\n",
    "#Step-5:- Solve\n",
    "lp.solve()\n",
    "\n",
    "#Step-6:- Results\n",
    "print(lp.status)\n",
    "print('x = ',x.varValue)\n",
    "print('y = ',y.varValue)\n",
    "print('Z = ',lp.objective.value())"
   ]
  },
  {
   "cell_type": "code",
   "execution_count": null,
   "metadata": {
    "id": "ZkbtdtPSHsmY"
   },
   "outputs": [],
   "source": []
  }
 ],
 "metadata": {
  "colab": {
   "provenance": []
  },
  "kernelspec": {
   "display_name": "Python 3 (ipykernel)",
   "language": "python",
   "name": "python3"
  },
  "language_info": {
   "codemirror_mode": {
    "name": "ipython",
    "version": 3
   },
   "file_extension": ".py",
   "mimetype": "text/x-python",
   "name": "python",
   "nbconvert_exporter": "python",
   "pygments_lexer": "ipython3",
   "version": "3.10.1"
  }
 },
 "nbformat": 4,
 "nbformat_minor": 4
}
