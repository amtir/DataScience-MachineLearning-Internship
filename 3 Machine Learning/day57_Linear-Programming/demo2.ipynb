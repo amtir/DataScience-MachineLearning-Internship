{
 "cells": [
  {
   "cell_type": "code",
   "execution_count": 1,
   "id": "6215255b-fd50-41f3-80ed-984db5296305",
   "metadata": {},
   "outputs": [
    {
     "name": "stdout",
     "output_type": "stream",
     "text": [
      "Status: 1\n",
      "x_am (Cans of Mixture 1): 0.0\n",
      "x_amc (Cans of Mixture 2): 18000.0\n",
      "x_mc (Cans of Mixture 3): 8000.0\n",
      "Total Return: 5600000.0\n"
     ]
    }
   ],
   "source": [
    "from pulp import LpMaximize, LpProblem, LpVariable, lpSum\n",
    "\n",
    "# Define the problem\n",
    "problem = LpProblem(\"Maximize_Return\", LpMaximize)\n",
    "\n",
    "# Define the variables\n",
    "x_am = LpVariable(\"x_am\", lowBound=0)  # Number of cans of mixture 1 (apple and mango)\n",
    "x_amc = LpVariable(\"x_amc\", lowBound=0)  # Number of cans of mixture 2 (apple, mango, and cherry)\n",
    "x_mc = LpVariable(\"x_mc\", lowBound=0)  # Number of cans of mixture 3 (mango and cherry)\n",
    "\n",
    "# Define the objective function\n",
    "problem += 100 * x_am + 200 * x_amc + 250 * x_mc, \"Total_Return\"\n",
    "\n",
    "# Add constraints\n",
    "problem += (0.5 * x_am + (1/3) * x_amc <= 10000), \"Apples_Constraint\"\n",
    "problem += (0.5 * x_am + (1/3) * x_amc + (3/4) * x_mc <= 12000), \"Mangoes_Constraint\"\n",
    "problem += ((1/3) * x_amc + (1/4) * x_mc <= 8000), \"Cherries_Constraint\"\n",
    "\n",
    "# Solve the problem\n",
    "problem.solve()\n",
    "\n",
    "# Extract results\n",
    "print(\"Status:\", problem.status)\n",
    "print(\"x_am (Cans of Mixture 1):\", x_am.value())\n",
    "print(\"x_amc (Cans of Mixture 2):\", x_amc.value())\n",
    "print(\"x_mc (Cans of Mixture 3):\", x_mc.value())\n",
    "print(\"Total Return:\", problem.objective.value())\n"
   ]
  },
  {
   "cell_type": "code",
   "execution_count": null,
   "id": "2c1b4529-2f71-4d93-8a39-bfc92881210f",
   "metadata": {},
   "outputs": [],
   "source": []
  }
 ],
 "metadata": {
  "kernelspec": {
   "display_name": "Python 3 (ipykernel)",
   "language": "python",
   "name": "python3"
  },
  "language_info": {
   "codemirror_mode": {
    "name": "ipython",
    "version": 3
   },
   "file_extension": ".py",
   "mimetype": "text/x-python",
   "name": "python",
   "nbconvert_exporter": "python",
   "pygments_lexer": "ipython3",
   "version": "3.10.1"
  }
 },
 "nbformat": 4,
 "nbformat_minor": 5
}
