{
 "cells": [
  {
   "cell_type": "code",
   "execution_count": null,
   "id": "6TzY9VVSNRrv",
   "metadata": {
    "id": "6TzY9VVSNRrv"
   },
   "outputs": [],
   "source": [
    "import numpy as np\n",
    "from sklearn.model_selection import KFold\n",
    "from sklearn.linear_model import LogisticRegression\n",
    "from sklearn.datasets import load_iris\n",
    "from sklearn.metrics import accuracy_score"
   ]
  },
  {
   "cell_type": "code",
   "execution_count": null,
   "id": "XwvIdgY_NSFD",
   "metadata": {
    "id": "XwvIdgY_NSFD"
   },
   "outputs": [],
   "source": [
    "# Load the Iris dataset\n",
    "data = load_iris()\n",
    "X = data.data\n",
    "y = data.target"
   ]
  },
  {
   "cell_type": "code",
   "execution_count": null,
   "id": "6XR6kHkwNTi6",
   "metadata": {
    "colab": {
     "base_uri": "https://localhost:8080/"
    },
    "id": "6XR6kHkwNTi6",
    "outputId": "d8fc3ec7-cf5d-44c8-8eb3-650e9f3dd2d9"
   },
   "outputs": [
    {
     "name": "stdout",
     "output_type": "stream",
     "text": [
      "Accuracy for each fold: [1.0, 1.0, 0.9333333333333333, 0.9666666666666667, 0.9666666666666667]\n",
      "Average accuracy: 0.9733333333333334\n"
     ]
    }
   ],
   "source": [
    "# Define the number of folds\n",
    "k = 5\n",
    "\n",
    "# Initialize KFold\n",
    "kf = KFold(n_splits=k, shuffle=True, random_state=42)\n",
    "\n",
    "# Initialize a model (e.g., Logistic Regression)\n",
    "model = LogisticRegression(max_iter=200)\n",
    "\n",
    "# List to store accuracy for each fold\n",
    "accuracies = []\n",
    "\n",
    "# K-Fold Cross Validation process\n",
    "for train_index, test_index in kf.split(X):\n",
    "    X_train, X_test = X[train_index], X[test_index]\n",
    "    y_train, y_test = y[train_index], y[test_index]\n",
    "\n",
    "    # Train the model\n",
    "    model.fit(X_train, y_train)\n",
    "\n",
    "    # Predict and evaluate\n",
    "    y_pred = model.predict(X_test)\n",
    "    accuracy = accuracy_score(y_test, y_pred)\n",
    "    accuracies.append(accuracy)\n",
    "\n",
    "# Print the accuracy for each fold\n",
    "print(f\"Accuracy for each fold: {accuracies}\")\n",
    "\n",
    "# Calculate and print the average accuracy\n",
    "average_accuracy = np.mean(accuracies)\n",
    "print(f\"Average accuracy: {average_accuracy}\")"
   ]
  },
  {
   "cell_type": "code",
   "execution_count": null,
   "id": "cbQNWxPANVF-",
   "metadata": {
    "id": "cbQNWxPANVF-"
   },
   "outputs": [],
   "source": []
  }
 ],
 "metadata": {
  "colab": {
   "provenance": []
  },
  "kernelspec": {
   "display_name": "Python 3 (ipykernel)",
   "language": "python",
   "name": "python3"
  },
  "language_info": {
   "codemirror_mode": {
    "name": "ipython",
    "version": 3
   },
   "file_extension": ".py",
   "mimetype": "text/x-python",
   "name": "python",
   "nbconvert_exporter": "python",
   "pygments_lexer": "ipython3",
   "version": "3.10.1"
  }
 },
 "nbformat": 4,
 "nbformat_minor": 5
}
