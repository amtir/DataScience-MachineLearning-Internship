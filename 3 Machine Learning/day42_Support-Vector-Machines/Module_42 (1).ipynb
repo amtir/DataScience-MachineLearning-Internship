{
 "cells": [
  {
   "cell_type": "code",
   "execution_count": 1,
   "metadata": {
    "colab": {
     "base_uri": "https://localhost:8080/",
     "height": 507
    },
    "id": "bmeq1bef5KZb",
    "outputId": "05607761-0a98-408e-8e46-ddc82198c831"
   },
   "outputs": [
    {
     "name": "stdout",
     "output_type": "stream",
     "text": [
      "Weights (w): [-0.25 -0.25]\n",
      "Bias (b): 1.75\n"
     ]
    },
    {
     "data": {
      "image/png": "[encoded data removed]",
      "text/plain": [
       "<Figure size 640x480 with 1 Axes>"
      ]
     },
     "metadata": {},
     "output_type": "display_data"
    }
   ],
   "source": [
    "import numpy as np\n",
    "import matplotlib.pyplot as plt\n",
    "from sklearn import svm\n",
    "\n",
    "# Step 1: Define the points (features) and their class labels\n",
    "X = np.array([[1, 2], [5, 6]])  # Points (1,2) for Class A, (5,6) for Class B\n",
    "y = np.array([1, -1])           # Class labels: 1 for Class A, -1 for Class B\n",
    "# y: This array contains the labels for the points in X. The first point (1,2) belongs to Class A (label = +1), and the second point (5,6)belongs to Class B (label = -1).\n",
    "\n",
    "# Step 2: Create the SVM model with a linear kernel (default)\n",
    "clf = svm.SVC(kernel='linear')  # Linear kernel means we're looking for a straight line to separate classes\n",
    "# clf: This is the Support Vector Classifier (SVC). It is a type of SVM specifically used for classification tasks.\n",
    "# kernel='linear': This specifies that we want a linear SVM, meaning that the SVM will try to separate the two classes using a straight line (hyperplane).\n",
    "\n",
    "# Step 3: Train the model on the data\n",
    "clf.fit(X, y)  # Fit the SVM to our points\n",
    "\n",
    "# Step 4: Get the hyperplane parameters (weights and bias)\n",
    "w = clf.coef_[0]               # Weights (w0, w1) for x1 and x2\n",
    "b = clf.intercept_[0]          # Bias (b)\n",
    "print(f\"Weights (w): {w}\")\n",
    "print(f\"Bias (b): {b}\")\n",
    "# The [0] is used to extract the first row, which is [w0, w1]. So clf.coef_[0] gives you the list [w0, w1].\n",
    "# clf.intercept_ is also an array like [b].The [0] is used to extract the first (and only) value, which is b. So clf.intercept_[0] gives you the value of b.\n",
    "\n",
    "# Step 5: Plot the points and decision boundary (hyperplane)\n",
    "plt.scatter(X[:, 0], X[:, 1], c=y, s=100, cmap='bwr')  # Plot points with colors based on their class\n",
    "# X[:, 0] refers to all the values in the first column (the x-coordinates of the points),\n",
    "# X[:, 1] refers to all the values in the second column (the y-coordinates of the points),\n",
    "# c=y colors the points based on their labels (+1 and -1),\n",
    "# s=100 sets the size of the points,\n",
    "# cmap='bwr' uses a color map (blue for -1, red for +1)\n",
    "\n",
    "# Create a line that represents the decision boundary\n",
    "x_values = np.linspace(0, 7, 100)                    # Generate 100 points for x-axis to plot the line\n",
    "# np.linspace(0, 7, 100): This generates 100 evenly spaced values between 0 and 7 for the x-axis.\n",
    "y_values = -(w[0] * x_values + b) / w[1]             # Calculate the corresponding y-values using the line equation\n",
    "# y_values = -(w[0] * x_values + b) / w[1]: This calculates the corresponding y-values for the hyperplane using the equation of the line:\n",
    "# y=−w0⋅x1 + b/w1\n",
    "\n",
    "plt.plot(x_values, y_values, 'k-')  # Plot the hyperplane (line)\n",
    "\n",
    "# Set the plot limits and labels\n",
    "plt.xlim(0, 7)\n",
    "plt.ylim(0, 7)\n",
    "plt.xlabel('x1')\n",
    "plt.ylabel('x2')\n",
    "plt.title('Simple SVM Example')\n",
    "plt.grid(True)\n",
    "plt.show()"
   ]
  },
  {
   "cell_type": "code",
   "execution_count": 4,
   "metadata": {
    "colab": {
     "base_uri": "https://localhost:8080/"
    },
    "id": "BgamYGpR77is",
    "outputId": "099ebb7d-2cc4-4018-cf64-9b5085898a15"
   },
   "outputs": [
    {
     "name": "stdout",
     "output_type": "stream",
     "text": [
      "[1]\n"
     ]
    }
   ],
   "source": [
    "# Gaussian RBF\n",
    "\n",
    "import numpy as np\n",
    "from sklearn import svm\n",
    "\n",
    "# Sample data\n",
    "X = np.array([[1, 2], [2, 3], [3, 3], [5, 5]])  # Feature set\n",
    "# Point (1, 2)\n",
    "# Point (2, 3)\n",
    "# Point (3, 3)\n",
    "# Point (5, 5)\n",
    "y = np.array([0, 0, 1, 1])                      # Class labels (binary)\n",
    "# The first two points are labeled 0 (Class 0).\n",
    "# The last two points are labeled 1 (Class 1)\n",
    "\n",
    "# SVM with RBF kernel (Gaussian)\n",
    "clf = svm.SVC(kernel='rbf')  # Gaussian RBF kernel\n",
    "clf.fit(X, y)\n",
    "\n",
    "# Predict for a new point\n",
    "print(clf.predict([[4, 4]]))  # Output: [1] or [0] (predicted class)\n",
    "# The model will look at the trained decision boundary and decide which side the point (4, 4) falls on.\n",
    "# It will classify the new point as either 1 (Class 1) or 0 (Class 0)."
   ]
  },
  {
   "cell_type": "code",
   "execution_count": 5,
   "metadata": {
    "colab": {
     "base_uri": "https://localhost:8080/"
    },
    "id": "wJdQ1cHP77wI",
    "outputId": "6d2262e3-663f-45db-f092-9c038f7ff9ee"
   },
   "outputs": [
    {
     "name": "stdout",
     "output_type": "stream",
     "text": [
      "[0]\n"
     ]
    }
   ],
   "source": [
    "# Polynomial\n",
    "\n",
    "from sklearn import svm\n",
    "\n",
    "# Data: Two points, two classes\n",
    "X = [[1, 2], [2, 3]]  # Feature set\n",
    "y = [0, 1]            # Class labels (binary)\n",
    "# [0, 1]: This indicates that the point (1, 2) belongs to Class 0, and the point (2, 3) belongs to Class 1.\n",
    "\n",
    "# SVM with a polynomial kernel\n",
    "clf = svm.SVC(kernel='poly', degree=2)  # Polynomial kernel with degree 2\n",
    "# degree=2: This sets the degree of the polynomial to 2, which means the SVM will try to fit a quadratic decision boundary (a curve).\n",
    "clf.fit(X, y)  # Train the model\n",
    "\n",
    "# Predict for a new point\n",
    "print(clf.predict([[1.5, 2.5]]))  # Output: [1] or [0] (predicted class)\n",
    "# The new point is (1.5, 2.5).The model will predict whether this point belongs to Class 0 or Class 1, based on the decision boundary it learned during training."
   ]
  },
  {
   "cell_type": "code",
   "execution_count": null,
   "metadata": {
    "id": "0YTPMLI2uNZ3"
   },
   "outputs": [],
   "source": []
  }
 ],
 "metadata": {
  "colab": {
   "provenance": []
  },
  "kernelspec": {
   "display_name": "Python 3 (ipykernel)",
   "language": "python",
   "name": "python3"
  },
  "language_info": {
   "codemirror_mode": {
    "name": "ipython",
    "version": 3
   },
   "file_extension": ".py",
   "mimetype": "text/x-python",
   "name": "python",
   "nbconvert_exporter": "python",
   "pygments_lexer": "ipython3",
   "version": "3.10.1"
  }
 },
 "nbformat": 4,
 "nbformat_minor": 4
}
