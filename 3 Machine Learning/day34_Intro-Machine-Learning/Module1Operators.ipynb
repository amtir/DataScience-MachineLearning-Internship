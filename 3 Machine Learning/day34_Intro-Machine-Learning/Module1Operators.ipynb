{
 "cells": [
  {
   "cell_type": "code",
   "execution_count": null,
   "id": "81d66649-906d-45bd-a182-5bc53bd27c4d",
   "metadata": {},
   "outputs": [],
   "source": [
    "a = 10\n",
    "A = 10\n",
    "print(a,A) "
   ]
  },
  {
   "cell_type": "code",
   "execution_count": null,
   "id": "a3c28543-e258-45c4-bbd5-4c304ba0461e",
   "metadata": {},
   "outputs": [],
   "source": [
    "a=10 ; b =10; sum = a+b; print(sum)"
   ]
  },
  {
   "cell_type": "code",
   "execution_count": null,
   "id": "bfb14d63-5396-4ad5-b249-642ffa7019d8",
   "metadata": {},
   "outputs": [],
   "source": [
    "#Hello Everyone\n",
    "a =10\n",
    "print(a)"
   ]
  },
  {
   "cell_type": "code",
   "execution_count": null,
   "id": "d48aee66-65f0-4772-b009-8bb15fa9ddf4",
   "metadata": {},
   "outputs": [],
   "source": [
    "'''Multiline\n",
    "comments'''\n",
    "a = \"Hello Welcome \\\n",
    "to Edureka\""
   ]
  },
  {
   "cell_type": "code",
   "execution_count": null,
   "id": "cb116b89-b8b4-4e4c-a9e9-bca1ade1d2d4",
   "metadata": {},
   "outputs": [],
   "source": [
    "a = int(input(\"Enter a number\"))\n",
    "b = 10\n",
    "print(a+b)"
   ]
  },
  {
   "cell_type": "code",
   "execution_count": 24,
   "id": "8647cb59-6bfe-4f9f-bf0c-ee6eb617910e",
   "metadata": {},
   "outputs": [
    {
     "name": "stdout",
     "output_type": "stream",
     "text": [
      "10\n",
      "4\n",
      "21\n",
      "2.3333333333333335\n",
      "2\n",
      "1\n",
      "343\n"
     ]
    }
   ],
   "source": [
    "#Arithmetic Operators (int)         (Arithmetic operators in Python are used to perform mathematical operations.)\n",
    "a = 7\n",
    "b = 3\n",
    "print(a + b)  # Addition\n",
    "print(a - b)  # Subtraction\n",
    "print(a * b)  # Multiplication\n",
    "print(a / b)  # Division\n",
    "print(a // b) # Floor Division\n",
    "print(a % b)  # Modulus / Remainder\n",
    "print(a ** b) # Exponentiation / Power"
   ]
  },
  {
   "cell_type": "code",
   "execution_count": 26,
   "id": "05340195-f2bd-4546-88f5-e81033ad7f5c",
   "metadata": {},
   "outputs": [
    {
     "name": "stdout",
     "output_type": "stream",
     "text": [
      "9.5\n",
      "5.5\n",
      "15.0\n",
      "3.75\n",
      "3.0\n",
      "1.5\n",
      "56.25\n"
     ]
    }
   ],
   "source": [
    "#Arithmetic Operators (float)\n",
    "a = 7.5\n",
    "b = 2.0\n",
    "print(a + b)  # Addition 9.5\n",
    "print(a - b)  # Subtraction  5.5\n",
    "print(a * b)  # Multiplication   9.5 , 5.5 , 15.0 , 3.75 , 3.0 , 1.5 , 56.25\n",
    "print(a / b)  # Division\n",
    "print(a // b) # Floor Division\n",
    "print(a % b)  # Modulus / Remainder\n",
    "print(a ** b) # Exponentiation / Power"
   ]
  },
  {
   "cell_type": "code",
   "execution_count": 28,
   "id": "9e014082-7113-4c41-930e-b12c557f1e26",
   "metadata": {},
   "outputs": [
    {
     "name": "stdout",
     "output_type": "stream",
     "text": [
      "False\n",
      "True\n",
      "True\n",
      "False\n",
      "True\n",
      "False\n"
     ]
    }
   ],
   "source": [
    "#Comparison Operators (int)           (Comparison operators in Python are used to compare values and return a boolean result (True or False))\n",
    "a = 7\n",
    "b = 3\n",
    "print(a == b)  # Equals to\n",
    "print(a != b)  # Not Equals to\n",
    "print(a > b)   # Greater than\n",
    "print(a < b)   # Lesser than\n",
    "print(a >= b)  # Greater than equals to\n",
    "print(a <= b)  # Lesser than equals to"
   ]
  },
  {
   "cell_type": "code",
   "execution_count": 30,
   "id": "f9b68bd5-fc9b-46f1-9a9a-fca5f24601ef",
   "metadata": {},
   "outputs": [
    {
     "name": "stdout",
     "output_type": "stream",
     "text": [
      "False\n",
      "True\n",
      "True\n",
      "False\n",
      "True\n",
      "False\n"
     ]
    }
   ],
   "source": [
    "#Comparison Operators (float)\n",
    "a = 7.5\n",
    "b = 2.5\n",
    "print(a == b)  # Equals to\n",
    "print(a != b)  # Not Equals to\n",
    "print(a > b)   # Greater than\n",
    "print(a < b)   # Lesser than\n",
    "print(a >= b)  # Greater than equals to\n",
    "print(a <= b)  # Lesser than equals to"
   ]
  },
  {
   "cell_type": "code",
   "execution_count": 32,
   "id": "c995928b-0f81-4fa7-a782-5bf4b6c00841",
   "metadata": {},
   "outputs": [
    {
     "name": "stdout",
     "output_type": "stream",
     "text": [
      "False\n",
      "True\n",
      "False\n",
      "True\n",
      "False\n",
      "True\n"
     ]
    }
   ],
   "source": [
    "#Comparison Operators (string)\n",
    "a = \"apple\"  #5 \n",
    "b = \"banana\" #6\n",
    "print(a == b)  # Equals to\n",
    "print(a != b)  # Not Equals to\n",
    "print(a > b)   # Greater than\n",
    "print(a < b)   # Lesser than\n",
    "print(a >= b)  # Greater than equals to\n",
    "print(a <= b)  # Lesser than equals to"
   ]
  },
  {
   "cell_type": "code",
   "execution_count": 34,
   "id": "a0ab4a36-3634-47e1-bb03-e450dbfafbe5",
   "metadata": {},
   "outputs": [
    {
     "name": "stdout",
     "output_type": "stream",
     "text": [
      "4.0\n"
     ]
    }
   ],
   "source": [
    "#Assignment Operators (Assignment operators in Python are used to assign values to variables and often combine assignment with another operation.)\n",
    "x = 7\n",
    "x += 3  # x = x+3 = 7+3 = 10\n",
    "x -= 2  # x = x-2 = 10-2 = 8\n",
    "x *= 4  # x = x*4 = 8*4 = 32\n",
    "x /= 8  # x = x/8 = 32/8 = 4\n",
    "x //= 2 # x = x//2 = 4//2 = 2.0\n",
    "x %= 3  # x = x%3 = 2.0% 3 =2.0\n",
    "x **= 2 # x = x**2 = 2**2 = 4.0\n",
    "print(x)"
   ]
  },
  {
   "cell_type": "code",
   "execution_count": 36,
   "id": "8eb9fbe6-59e2-4e3b-8a84-eefe53d3c4ca",
   "metadata": {},
   "outputs": [
    {
     "name": "stdout",
     "output_type": "stream",
     "text": [
      "False\n",
      "True\n",
      "True\n",
      "False\n"
     ]
    }
   ],
   "source": [
    "#Logical Operators (Logical operators in Python are used to perform logical operations on boolean values (True and False))\n",
    "a = True\n",
    "b = False\n",
    "result = a and b\n",
    "print(result)  # Output: False\n",
    "\n",
    "a = True\n",
    "b = True\n",
    "result = a and b\n",
    "print(result)  # Output: True\n",
    "\n",
    "a = True\n",
    "b = False\n",
    "result = a or b\n",
    "print(result)  # Output: True\n",
    "\n",
    "a = False\n",
    "b = False\n",
    "result = a or b\n",
    "print(result)  # Output: False"
   ]
  },
  {
   "cell_type": "code",
   "execution_count": null,
   "id": "e4002b9e-cb8b-4c44-9941-e76f3884ee6e",
   "metadata": {},
   "outputs": [],
   "source": [
    "#Bitwise Operators (Bitwise operators in Python operate on the binary representations of integers. These operators perform operations bit by bit)\n",
    "#Bitwise AND(&)\n",
    "a = 60      # 0011 1100 in binary\n",
    "b = 13      # 0000 1101 in binary\n",
    "result = a & b  # 0000 1100 in binary, which is 12 in decimal\n",
    "print(result)   # Output: 12\n",
    "\n",
    "#Bitwise OR(|)\n",
    "a = 60      # 0011 1100 in binary\n",
    "b = 13      # 0000 1101 in binary\n",
    "result = a | b  # 0011 1101 in binary, which is 61 in decimal\n",
    "print(result)   # Output: 61\n",
    "\n",
    "#Bitwise XOR(^)\n",
    "a = 60      # 0011 1100 in binary          0-1 -> 1 , 1-0 -> 1 (else 0)\n",
    "b = 13      # 0000 1101 in binary\n",
    "result = a ^ b  # 0011 0001 in binary, which is 49 in decimal\n",
    "print(result)   # Output: 49\n",
    "\n",
    "#Bitwise NOT(~)\n",
    "a = 60      # 0011 1100 in binary #195\n",
    "result = ~a  # 1100 0011 in binary, which is -61 in decimal (two's complement)\n",
    "print(result)  # Output: -61                 1. Invert all the bits (bitwise NOT): 0011 1100.\n",
    "                                         #   2. Add 1 to the result: 0011 1100 + 1 = 0011 1101.\n",
    "                                         #   3. Convert the result to decimal: 0+0+32+16+8+4+0+1=61 = 60+1 = 61\n",
    "                                         #   4. Apply the negative sign to get -61.\n",
    "\n",
    "#Bitwise Left Shift(<<)\n",
    "a = 60      # 0011 1100 in binary\n",
    "result = a << 2  # Shift left by 2 positions, 1111 0000 in binary, which is 240 in decimal\n",
    "print(result)    # Output: 240\n",
    "\n",
    "#Bitwise Right Shift(>>)\n",
    "a = 60      # 0011 1100 in binary\n",
    "result = a >> 2  # Shift right by 2 positions, 0000 1111 in binary, which is 15 in decimal\n",
    "print(result)    # Output: 15"
   ]
  },
  {
   "cell_type": "code",
   "execution_count": null,
   "id": "ac484d98-e592-496a-993b-274dd6eb366c",
   "metadata": {},
   "outputs": [],
   "source": [
    "'''Membership Operators (Membership operators in Python are used to test whether a value or variable is found within a \n",
    "sequence (like a list, tuple, string) or other iterable objects. They are useful for checking the presence or absence of elements.)'''\n",
    "numbers = [1, 2, 3, 4, 5]\n",
    "print(3 in numbers)  # Output: True\n",
    "print(6 in numbers)  # Output: False\n",
    "print(3 not in numbers)  # Output: False\n",
    "print(6 not in numbers)  # Output: True\n",
    "\n",
    "sentence = \"Hello, world!\"\n",
    "print(\"Hello\" in sentence)  # Output: True\n",
    "print(\"hello\" in sentence)  # Output: False (case-sensitive)\n",
    "print(\"Hello\" not in sentence)  # Output: False\n",
    "print(\"hello\" not in sentence)  # Output: True"
   ]
  },
  {
   "cell_type": "code",
   "execution_count": 38,
   "id": "167f9d59-4545-4e0c-8502-0be6b7e5705f",
   "metadata": {},
   "outputs": [
    {
     "name": "stdout",
     "output_type": "stream",
     "text": [
      "False\n",
      "True\n",
      "True\n",
      "False\n",
      "True\n",
      "False\n",
      "True\n",
      "False\n"
     ]
    }
   ],
   "source": [
    "#Identity Operators (Identity operators in Python are used to compare the memory addresses of two objects to determine if they are the same object.)\n",
    "a = [1,2,3]\n",
    "b = [1,2,3]\n",
    "c = a\n",
    "print(a is b)  # Output: False, because a and b are different objects with the same content\n",
    "print(a is c)  # Output: True, because c references the same object as a\n",
    "\n",
    "print(a is not b)  # Output: True, because a and b are different objects\n",
    "print(a is not c)  # Output: False, because c references the same object as a\n",
    "\n",
    "x = 256\n",
    "y = 256\n",
    "print(x is y)  # Output: True, because small integers are cached and reused\n",
    "\n",
    "x = 257\n",
    "y = 257\n",
    "print(x is y)  # Output: False, because integers outside the small range are not cached (-5 to 256)\n",
    "\n",
    "a = \"hello\"\n",
    "b = \"hello\"\n",
    "print(a is b)  # Output: True, because small strings are interned and reused\n",
    "\n",
    "a = \"hello world\"\n",
    "b = \"hello world\"\n",
    "print(a is b)  # Output: False, because long strings are not interned"
   ]
  },
  {
   "cell_type": "code",
   "execution_count": null,
   "id": "49542c6c-1565-403c-86f1-fb16c458d6c9",
   "metadata": {},
   "outputs": [],
   "source": [
    "try:\n",
    "    # Code that might raise an exception\n",
    "    number = int(input(\"Enter a number: \"))\n",
    "    result = 10 / number\n",
    "    print(f\"The result is: {result}\")\n",
    "except ZeroDivisionError:\n",
    "    # Code to handle the division by zero error\n",
    "    print(\"Error: You cannot divide by zero.\")\n",
    "except ValueError:\n",
    "    # Code to handle invalid input (non-integer)\n",
    "    print(\"Error: Invalid input. Please enter a valid integer.\")\n"
   ]
  },
  {
   "cell_type": "code",
   "execution_count": null,
   "id": "6cb70706-6b0b-43e4-845d-7e4b02a6dafc",
   "metadata": {},
   "outputs": [],
   "source": [
    "#Specific exceptions\n",
    "try:\n",
    "    # Code that might raise an exception\n",
    "    number = int(input(\"Enter a number: \"))\n",
    "    result = 10 / number\n",
    "    print(f\"The result is: {result}\")\n",
    "except ZeroDivisionError:\n",
    "    # Handle division by zero error\n",
    "    print(\"Error: You cannot divide by zero.\")\n",
    "except ValueError:\n",
    "    # Handle invalid input (non-integer)\n",
    "    print(\"Error: Invalid input. Please enter a valid integer.\")\n",
    "except Exception as e:\n",
    "    # Handle any other exceptions\n",
    "    print(f\"An unexpected error occurred: {e}\")"
   ]
  },
  {
   "cell_type": "code",
   "execution_count": null,
   "id": "0f811dc5-3033-4651-9bdd-94b93f4b6f44",
   "metadata": {},
   "outputs": [],
   "source": [
    "# pass is used as a placeholder where you plan to add code later.\n",
    "try:\n",
    "    # Code that might raise an exception\n",
    "    number = int(input(\"Enter a number: \"))\n",
    "    result = 10 / number\n",
    "    print(f\"The result is: {result}\")\n",
    "except ZeroDivisionError:\n",
    "    # To be implemented later\n",
    "    pass\n",
    "except ValueError:\n",
    "    # To be implemented later\n",
    "    pass\n",
    "except Exception as e:\n",
    "    # To handle any other unexpected exceptions\n",
    "    print(f\"An unexpected error occurred: {e}\")"
   ]
  },
  {
   "cell_type": "code",
   "execution_count": null,
   "id": "9700c660-d4e7-43fe-b2d1-97d148b704cc",
   "metadata": {},
   "outputs": [],
   "source": []
  }
 ],
 "metadata": {
  "kernelspec": {
   "display_name": "Python 3 (ipykernel)",
   "language": "python",
   "name": "python3"
  },
  "language_info": {
   "codemirror_mode": {
    "name": "ipython",
    "version": 3
   },
   "file_extension": ".py",
   "mimetype": "text/x-python",
   "name": "python",
   "nbconvert_exporter": "python",
   "pygments_lexer": "ipython3",
   "version": "3.10.1"
  }
 },
 "nbformat": 4,
 "nbformat_minor": 5
}
