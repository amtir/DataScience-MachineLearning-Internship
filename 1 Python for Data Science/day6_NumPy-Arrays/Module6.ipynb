{
 "cells": [
  {
   "cell_type": "markdown",
   "id": "60cb8eaa-eeae-4cdd-afd5-c7daa1825c1e",
   "metadata": {},
   "source": [
    "# Module6: NumPy"
   ]
  },
  {
   "cell_type": "code",
   "execution_count": 18,
   "id": "f380575e-a450-4f66-b328-0e55a046f3b7",
   "metadata": {},
   "outputs": [
    {
     "name": "stdout",
     "output_type": "stream",
     "text": [
      "Reading line by line\n",
      "Holao Edurekans.....\n",
      "\n",
      "Welcome to the Edureka's internship program Data Science and Machine Learning.\n",
      "\n",
      "Reading all lines\n",
      "<_io.TextIOWrapper name='module5.txt' mode='r+' encoding='cp1252'>\n",
      "<_io.TextIOWrapper name='module5.txt' mode='a' encoding='cp1252'>\n",
      "<_io.TextIOWrapper name='module5.txt' mode='a+' encoding='cp1252'>\n",
      "Holao Edurekans.....\n",
      "\n"
     ]
    }
   ],
   "source": [
    "# Mode 1  Read only \n",
    "with open('module5.txt', 'r') as file: \n",
    "    content = file.read()\n",
    "    #print(content)\n",
    "    file.seek(0)\n",
    "    print(\"Reading line by line\")\n",
    "    print(file.readline())\n",
    "    print(file.readline())\n",
    "\n",
    "    file.seek(0)\n",
    "    print(\"Reading all lines\")\n",
    "    #print(file.readlines())\n",
    "\n",
    "# Mode2 r+ read & write \n",
    "file2 = open('module5.txt','r+')\n",
    "file2.write(\"Hola\")\n",
    "print(file2)\n",
    "file2.close()\n",
    "\n",
    "# Mode3 a append \n",
    "file3 = open('module5.txt', 'a')\n",
    "file3.write(\"My own text ...\")\n",
    "print(file3)\n",
    "file3.close()\n",
    "\n",
    "# Mode4 a+ append \n",
    "file4 = open('module5.txt', 'a+')\n",
    "file4.write(\"My own text ...\")\n",
    "print(file4)\n",
    "file4.seek(0)\n",
    "print(file4.readline())\n",
    "file4.close()\n",
    "\n",
    "import os\n",
    "os.rename('module55.txt', 'tinkywinky.txt')\n",
    "os.remove('tinkywinky.txt')\n"
   ]
  },
  {
   "cell_type": "code",
   "execution_count": 31,
   "id": "280416c0-5644-424a-8271-30ab362b31c7",
   "metadata": {},
   "outputs": [
    {
     "name": "stdout",
     "output_type": "stream",
     "text": [
      "The BMW M3 Blue Start BRrroouumm...\n",
      "The BMW M3 Blue Stop ...\n",
      "The Alpha Spider Green Start BRrroouumm...\n",
      "The Alpha Spider Green Stop ...\n"
     ]
    }
   ],
   "source": [
    "# Classes\n",
    "class car:\n",
    "    def __init__(self,make,model,color, year):\n",
    "        self.make=make\n",
    "        self.model=model\n",
    "        self.color=color\n",
    "        self.year = year\n",
    "\n",
    "    def start(self):\n",
    "        print(f\"The {self.make} {self.model} {self.color} Start BRrroouumm...\")\n",
    "    \n",
    "    def stop(self):\n",
    "        print(f\"The {self.make} {self.model} {self.color} Stop ...\")\n",
    "\n",
    "car1 = car(\"BMW\", \"M3\", \"Blue\", 2024)\n",
    "car1.start()\n",
    "car1.stop()\n",
    "\n",
    "car2 = car(\"Alpha\", \"Spider\", \"Green\", 2024)\n",
    "car2.start()\n",
    "car2.stop()"
   ]
  },
  {
   "cell_type": "code",
   "execution_count": null,
   "id": "025fe836-7920-47de-bb52-f63c532a3c0f",
   "metadata": {},
   "outputs": [],
   "source": []
  },
  {
   "cell_type": "code",
   "execution_count": 49,
   "id": "41a109e6-94be-446a-94cc-d3ab2d32033e",
   "metadata": {},
   "outputs": [
    {
     "name": "stdout",
     "output_type": "stream",
     "text": [
      "<class 'list'>\n",
      "[[1, 2, 3], [3, 4, 5], [6, 7, 8]]\n",
      "<class 'numpy.ndarray'>\n",
      "<class 'numpy.int64'>\n",
      "arr.shape: (3, 3) size array in each diemsion\n",
      "arr.ndim: 2  Number of axes dimension\n",
      "arr.size: 9 Total number of elements\n",
      "arr.dtype: int64\n",
      "arr.itemsize: 8\n"
     ]
    }
   ],
   "source": [
    "import numpy as np\n",
    "# creatin an ndarray \n",
    "x = [[1,2,3], [3,4,5], [6,7,8]]\n",
    "print(type(x))\n",
    "print(x)\n",
    "arr = np.array(x)\n",
    "print(type(arr))\n",
    "print(type(arr[0][0]))\n",
    "arr\n",
    "\n",
    "# ndarray attributes  \n",
    "print(f'arr.shape: {arr.shape} size array in each diemsion')\n",
    "print(f'arr.ndim: {arr.ndim}  Number of axes dimension')\n",
    "print(f'arr.size: {arr.size} Total number of elements')\n",
    "print(f'arr.dtype: {arr.dtype}')\n",
    "print(f'arr.itemsize: {arr.itemsize}')"
   ]
  },
  {
   "cell_type": "code",
   "execution_count": 50,
   "id": "a45bd544-cbf5-4c30-b038-090699a2a1da",
   "metadata": {},
   "outputs": [
    {
     "name": "stdout",
     "output_type": "stream",
     "text": [
      "[[0. 0. 0. 0. 0.]\n",
      " [0. 0. 0. 0. 0.]\n",
      " [0. 0. 0. 0. 0.]\n",
      " [0. 0. 0. 0. 0.]\n",
      " [0. 0. 0. 0. 0.]]\n",
      "[[1. 1. 1. 1. 1.]\n",
      " [1. 1. 1. 1. 1.]\n",
      " [1. 1. 1. 1. 1.]\n",
      " [1. 1. 1. 1. 1.]\n",
      " [1. 1. 1. 1. 1.]]\n",
      "[1 2 3 4 5]\n",
      "2077521514192\n",
      "2077893956144\n",
      "[1 2 3 4 5]\n",
      "[0 2 3 4 5]\n",
      "[ 0  1  2  3  4  5  6  7  8  9 10 11 12 13 14 15 16 17 18 19]\n",
      "[ 0.  5. 10. 15. 20.]\n",
      "<class 'numpy.ndarray'>\n",
      "<class 'numpy.float64'>\n",
      "1\n",
      "(5,)\n",
      "float64\n",
      "5\n",
      "8\n"
     ]
    }
   ],
   "source": [
    "arr2 = np.zeros((5,5))\n",
    "print(arr2)\n",
    "\n",
    "arr3 = np.ones((5,5))\n",
    "print(arr3)\n",
    "\n",
    "arr4 = np.array([1,2,3,4,5])\n",
    "print(arr4)\n",
    "\n",
    "arr5 = arr4.copy()\n",
    "arr5[0]=0\n",
    "print(id(arr4))\n",
    "print(id(arr5))\n",
    "print(arr4)\n",
    "print(arr5)\n",
    "\n",
    "arr6 = np.arange(0,20)\n",
    "print(arr6)\n",
    "\n",
    "vector = np.linspace(0,20,5)\n",
    "print(vector)\n",
    "print(type(vector))\n",
    "print(type(vector[0]))\n",
    "print(vector.ndim)\n",
    "print(vector.shape)\n",
    "print(vector.dtype)\n",
    "print(vector.size)\n",
    "print(vector.itemsize)"
   ]
  },
  {
   "cell_type": "code",
   "execution_count": 51,
   "id": "2e525845-3496-4fe8-9291-390671cac09f",
   "metadata": {},
   "outputs": [
    {
     "name": "stdout",
     "output_type": "stream",
     "text": [
      "[[1 2 3 4 5]]\n"
     ]
    }
   ],
   "source": [
    "a = np.array([1, 2, 3,4,5], ndmin = 2)\n",
    "print(a)"
   ]
  },
  {
   "cell_type": "code",
   "execution_count": 53,
   "id": "36ca47c3-b900-4586-8e2c-025b6cdb67bf",
   "metadata": {},
   "outputs": [
    {
     "name": "stdout",
     "output_type": "stream",
     "text": [
      "[0 1 2 3]\n",
      "[4 5 6 7]\n",
      "[ 4  6  8 10]\n"
     ]
    }
   ],
   "source": [
    "A = np.arange(0,4)\n",
    "B=np.arange(4,8)\n",
    "print(A)\n",
    "print(B)\n",
    "print(A+B)\n"
   ]
  },
  {
   "cell_type": "code",
   "execution_count": 54,
   "id": "d8bc6b8a-a1fc-437a-a6a9-d055f9108e1b",
   "metadata": {},
   "outputs": [
    {
     "name": "stdout",
     "output_type": "stream",
     "text": [
      "12\n"
     ]
    }
   ],
   "source": [
    "ary = np.array([1,2,3,5,8])\n",
    "ary = ary * 6\n",
    "print (ary[1])"
   ]
  },
  {
   "cell_type": "code",
   "execution_count": 55,
   "id": "25f50a94-88db-484e-aab7-0a4f08c950c8",
   "metadata": {},
   "outputs": [
    {
     "name": "stdout",
     "output_type": "stream",
     "text": [
      "[1 2 3 5 8]\n",
      "[0 3 4 2 1]\n",
      "[1 5 7 7 9]\n",
      "[ 1 10 21 35 72]\n",
      "21\n"
     ]
    }
   ],
   "source": [
    "a = np.array([1,2,3,5,8])\n",
    "b = np.array([0,3,4,2,1])\n",
    "c = a + b\n",
    "print(a)\n",
    "print(b)\n",
    "print(c)\n",
    "c = c*a\n",
    "print(c)\n",
    "print (c[2])"
   ]
  },
  {
   "cell_type": "code",
   "execution_count": 57,
   "id": "82c06ef4-a9e9-4f9e-b183-7a0ef8da694a",
   "metadata": {},
   "outputs": [
    {
     "name": "stdout",
     "output_type": "stream",
     "text": [
      "[ 5  6  7  9 12]\n",
      "[ 3  6  9 15 24]\n"
     ]
    }
   ],
   "source": [
    "# Arithmetic Operations\n",
    "a = np.array([1,2,3,5,8])\n",
    "print(a+4)\n",
    "print(a*3)"
   ]
  },
  {
   "cell_type": "code",
   "execution_count": 60,
   "id": "a6f227f6-38b8-494b-a6ce-1d26e19135f8",
   "metadata": {},
   "outputs": [
    {
     "data": {
      "text/plain": [
       "array([ 0,  6, 12, 10,  8])"
      ]
     },
     "execution_count": 60,
     "metadata": {},
     "output_type": "execute_result"
    }
   ],
   "source": [
    "a = np.array([1,2,3,5,8])\n",
    "b = np.array([0,3,4,2,1])\n",
    "a*b\n"
   ]
  },
  {
   "cell_type": "code",
   "execution_count": 67,
   "id": "a7f7de16-4490-4466-a559-769a5e862ace",
   "metadata": {},
   "outputs": [
    {
     "name": "stdout",
     "output_type": "stream",
     "text": [
      "[0 1 2 3 4 5 6 7 8]\n",
      "[[0 1 2]\n",
      " [3 4 5]\n",
      " [6 7 8]]\n",
      "[[1. 1. 1.]\n",
      " [1. 1. 1.]\n",
      " [1. 1. 1.]]\n"
     ]
    },
    {
     "data": {
      "text/plain": [
       "array([[0., 1., 2.],\n",
       "       [3., 4., 5.],\n",
       "       [6., 7., 8.]])"
      ]
     },
     "execution_count": 67,
     "metadata": {},
     "output_type": "execute_result"
    }
   ],
   "source": [
    "a=np.arange(0,9)\n",
    "print(a)\n",
    "b=a.reshape((3,3))\n",
    "print(b)\n",
    "c=np.ones((3,3))\n",
    "print(c)\n",
    "b*c\n"
   ]
  },
  {
   "cell_type": "code",
   "execution_count": null,
   "id": "85eff2d3-7817-48c4-86b1-0dba41b411d2",
   "metadata": {},
   "outputs": [],
   "source": []
  }
 ],
 "metadata": {
  "kernelspec": {
   "display_name": "Python 3 (ipykernel)",
   "language": "python",
   "name": "python3"
  },
  "language_info": {
   "codemirror_mode": {
    "name": "ipython",
    "version": 3
   },
   "file_extension": ".py",
   "mimetype": "text/x-python",
   "name": "python",
   "nbconvert_exporter": "python",
   "pygments_lexer": "ipython3",
   "version": "3.10.1"
  }
 },
 "nbformat": 4,
 "nbformat_minor": 5
}
