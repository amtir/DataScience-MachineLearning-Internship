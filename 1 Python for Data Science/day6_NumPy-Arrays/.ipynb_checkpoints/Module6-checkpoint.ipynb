{
 "cells": [
  {
   "cell_type": "markdown",
   "id": "60cb8eaa-eeae-4cdd-afd5-c7daa1825c1e",
   "metadata": {},
   "source": [
    "# Module6: NumPy"
   ]
  },
  {
   "cell_type": "code",
   "execution_count": 18,
   "id": "f380575e-a450-4f66-b328-0e55a046f3b7",
   "metadata": {},
   "outputs": [
    {
     "name": "stdout",
     "output_type": "stream",
     "text": [
      "Reading line by line\n",
      "Holao Edurekans.....\n",
      "\n",
      "Welcome to the Edureka's internship program Data Science and Machine Learning.\n",
      "\n",
      "Reading all lines\n",
      "<_io.TextIOWrapper name='module5.txt' mode='r+' encoding='cp1252'>\n",
      "<_io.TextIOWrapper name='module5.txt' mode='a' encoding='cp1252'>\n",
      "<_io.TextIOWrapper name='module5.txt' mode='a+' encoding='cp1252'>\n",
      "Holao Edurekans.....\n",
      "\n"
     ]
    }
   ],
   "source": [
    "# Mode 1  Read only \n",
    "with open('module5.txt', 'r') as file: \n",
    "    content = file.read()\n",
    "    #print(content)\n",
    "    file.seek(0)\n",
    "    print(\"Reading line by line\")\n",
    "    print(file.readline())\n",
    "    print(file.readline())\n",
    "\n",
    "    file.seek(0)\n",
    "    print(\"Reading all lines\")\n",
    "    #print(file.readlines())\n",
    "\n",
    "# Mode2 r+ read & write \n",
    "file2 = open('module5.txt','r+')\n",
    "file2.write(\"Hola\")\n",
    "print(file2)\n",
    "file2.close()\n",
    "\n",
    "# Mode3 a append \n",
    "file3 = open('module5.txt', 'a')\n",
    "file3.write(\"My own text ...\")\n",
    "print(file3)\n",
    "file3.close()\n",
    "\n",
    "# Mode4 a+ append \n",
    "file4 = open('module5.txt', 'a+')\n",
    "file4.write(\"My own text ...\")\n",
    "print(file4)\n",
    "file4.seek(0)\n",
    "print(file4.readline())\n",
    "file4.close()\n",
    "\n",
    "import os\n",
    "os.rename('module55.txt', 'tinkywinky.txt')\n",
    "os.remove('tinkywinky.txt')\n"
   ]
  },
  {
   "cell_type": "code",
   "execution_count": 30,
   "id": "280416c0-5644-424a-8271-30ab362b31c7",
   "metadata": {},
   "outputs": [
    {
     "name": "stdout",
     "output_type": "stream",
     "text": [
      "The BMW M3 Blue Start BRrr...\n",
      "The BMW M3 Blue Stop ...\n",
      "The Alpha Spider Green Start BRrr...\n",
      "The Alpha Spider Green Stop ...\n"
     ]
    }
   ],
   "source": [
    "# Classes\n",
    "class car:\n",
    "    def __init__(self,make,model,color, year):\n",
    "        self.make=make\n",
    "        self.model=model\n",
    "        self.color=color\n",
    "        self.year = year\n",
    "\n",
    "    def start(self):\n",
    "        print(f\"The {self.make} {self.model} {self.color} Start BRrroouumm...\")\n",
    "    \n",
    "    def stop(self):\n",
    "        print(f\"The {self.make} {self.model} {self.color} Stop ...\")\n",
    "\n",
    "car1 = car(\"BMW\", \"M3\", \"Blue\", 2024)\n",
    "car1.start()\n",
    "car1.stop()\n",
    "\n",
    "car2 = car(\"Alpha\", \"Spider\", \"Green\", 2024)\n",
    "car2.start()\n",
    "car2.stop()"
   ]
  },
  {
   "cell_type": "code",
   "execution_count": null,
   "id": "025fe836-7920-47de-bb52-f63c532a3c0f",
   "metadata": {},
   "outputs": [],
   "source": []
  },
  {
   "cell_type": "code",
   "execution_count": 25,
   "id": "41a109e6-94be-446a-94cc-d3ab2d32033e",
   "metadata": {},
   "outputs": [
    {
     "name": "stdout",
     "output_type": "stream",
     "text": [
      "<class 'list'>\n",
      "[[1, 2, 3], [3, 4, 5], [6, 7, 8]]\n",
      "<class 'numpy.ndarray'>\n",
      "<class 'numpy.int64'>\n"
     ]
    },
    {
     "data": {
      "text/plain": [
       "array([[1, 2, 3],\n",
       "       [3, 4, 5],\n",
       "       [6, 7, 8]])"
      ]
     },
     "execution_count": 25,
     "metadata": {},
     "output_type": "execute_result"
    }
   ],
   "source": [
    "import numpy as np\n",
    "# creatin an ndarray \n",
    "x = [[1,2,3], [3,4,5], [6,7,8]]\n",
    "print(type(x))\n",
    "print(x)\n",
    "arr = np.array(x)\n",
    "print(type(arr))\n",
    "print(type(arr[0][0]))\n",
    "arr"
   ]
  },
  {
   "cell_type": "code",
   "execution_count": null,
   "id": "a45bd544-cbf5-4c30-b038-090699a2a1da",
   "metadata": {},
   "outputs": [],
   "source": []
  }
 ],
 "metadata": {
  "kernelspec": {
   "display_name": "Python 3 (ipykernel)",
   "language": "python",
   "name": "python3"
  },
  "language_info": {
   "codemirror_mode": {
    "name": "ipython",
    "version": 3
   },
   "file_extension": ".py",
   "mimetype": "text/x-python",
   "name": "python",
   "nbconvert_exporter": "python",
   "pygments_lexer": "ipython3",
   "version": "3.10.1"
  }
 },
 "nbformat": 4,
 "nbformat_minor": 5
}
