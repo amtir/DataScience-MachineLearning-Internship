{
 "cells": [
  {
   "cell_type": "code",
   "execution_count": null,
   "id": "fae4b3c5-4085-4e98-8a9a-d753331c2438",
   "metadata": {},
   "outputs": [],
   "source": []
  },
  {
   "cell_type": "code",
   "execution_count": 1,
   "id": "1d48ba3a-d22d-4666-88d8-43bbad0e5f93",
   "metadata": {},
   "outputs": [],
   "source": [
    "import pandas as pd \n",
    "data = {'values': [10,20,20,40,50,50,70,80,90,100]}\n",
    "df = pd.DataFrame(data)"
   ]
  },
  {
   "cell_type": "code",
   "execution_count": 3,
   "id": "da7d82e4-bcdc-4177-b35e-c8110de6020b",
   "metadata": {},
   "outputs": [
    {
     "name": "stdout",
     "output_type": "stream",
     "text": [
      "52.5\n"
     ]
    }
   ],
   "source": [
    "Q1 = df['values'].quantile(0.25)\n",
    "Q3 = df['values'].quantile(0.75)\n",
    "IQR = Q3 -Q1\n",
    "print(IQR)"
   ]
  },
  {
   "cell_type": "code",
   "execution_count": 5,
   "id": "9e64bc36-afa8-4d2f-a322-869021f83d2e",
   "metadata": {},
   "outputs": [
    {
     "name": "stdout",
     "output_type": "stream",
     "text": [
      "-53.75 156.25\n"
     ]
    }
   ],
   "source": [
    "lb = Q1 - 1.5*IQR \n",
    "ub = Q3 + 1.5*IQR\n",
    "print(lb,ub)"
   ]
  },
  {
   "cell_type": "code",
   "execution_count": 8,
   "id": "828e1152-80f0-496c-b38c-fb5c6af26c24",
   "metadata": {},
   "outputs": [
    {
     "name": "stdout",
     "output_type": "stream",
     "text": [
      "Empty DataFrame\n",
      "Columns: [values]\n",
      "Index: []\n"
     ]
    }
   ],
   "source": [
    "outliers = df[(df['values']<lb) | (df['values']>ub)]\n",
    "print(outliers)"
   ]
  },
  {
   "cell_type": "code",
   "execution_count": 23,
   "id": "233e41d5-56de-4685-b689-b5aeb61bd14b",
   "metadata": {},
   "outputs": [
    {
     "name": "stdout",
     "output_type": "stream",
     "text": [
      "Skewness 0.11536777373627873\n",
      "Kurtosis -1.335424332985406\n",
      "----------------\n",
      "A skewness close to zero suggests a symmetrical distribution.\n",
      "Positive skewness indicates a right-skewed distribution.\n",
      "Negative skewness indicates a left-skewed distribution.\n",
      "----------------\n",
      "A kurtosis of zero (when fisher=True) indicates a normal, bell-shaped curve.\n",
      "Positive kurtosis (leptokurtic) suggests heavy tails.\n",
      "Negative kurtosis (platykurtic) indicates lighter tails (flatter distribution).\n",
      "--------------------------\n",
      "This allows quick insight into distribution shape without visualization.\n"
     ]
    }
   ],
   "source": [
    "# Calculate skewness\n",
    "skewness = df['values'].skew()\n",
    "\n",
    "# Calculate kurtosis\n",
    "kurtosis = df['values'].kurtosis()\n",
    "\n",
    "print(\"Skewness\", skewness)\n",
    "print(\"Kurtosis\",kurtosis)\n",
    "print(\"----------------\")\n",
    "print('''A skewness close to zero suggests a symmetrical distribution.\n",
    "Positive skewness indicates a right-skewed distribution.\n",
    "Negative skewness indicates a left-skewed distribution.''')\n",
    "print(\"----------------\")\n",
    "print('''A kurtosis of zero (when fisher=True) indicates a normal, bell-shaped curve.\n",
    "Positive kurtosis (leptokurtic) suggests heavy tails.\n",
    "Negative kurtosis (platykurtic) indicates lighter tails (flatter distribution).''')\n",
    "print(\"--------------------------\")\n",
    "print(\"This allows quick insight into distribution shape without visualization.\")"
   ]
  },
  {
   "cell_type": "code",
   "execution_count": 15,
   "id": "be91ee2e-69ca-4621-b891-6d8d94558515",
   "metadata": {},
   "outputs": [
    {
     "name": "stdout",
     "output_type": "stream",
     "text": [
      "5.0\n",
      "4.5 24.5\n",
      "57   -1.0\n",
      "Name: carbo, dtype: float64\n",
      "(77, 16)\n",
      "(1,)\n"
     ]
    }
   ],
   "source": [
    "data = pd.read_csv('cereal.csv')\n",
    "data.carbo.head()\n",
    "\n",
    "def roq(df, col):\n",
    "    Q1 = df[col].quantile(0.25)\n",
    "    Q3 = df[col].quantile(0.75)\n",
    "    IQR = Q3 -Q1\n",
    "    print(IQR)\n",
    "    lb = Q1 - 1.5*IQR \n",
    "    ub = Q3 + 1.5*IQR\n",
    "    print(lb,ub)\n",
    "    outliers = df[col][(df[col]<lb) | (df[col]>ub)]\n",
    "    print(outliers)\n",
    "    return outliers\n",
    "\n",
    "df2 = roq(data, 'carbo')\n",
    "print(data.shape)\n",
    "print(df2.shape)"
   ]
  },
  {
   "cell_type": "code",
   "execution_count": 27,
   "id": "967d2aec-1978-4e1a-9c1a-c6770366b1e5",
   "metadata": {},
   "outputs": [
    {
     "name": "stdout",
     "output_type": "stream",
     "text": [
      "Skewness: -0.4391558193199932\n",
      "Kurtosis (excess): 1.1692875676314447\n"
     ]
    }
   ],
   "source": [
    "# Using Scipy for Skewness and Kurtosis\n",
    "\n",
    "from scipy.stats import skew, kurtosis\n",
    "\n",
    "# Calculate skewness\n",
    "skewness = skew(data['carbo'])\n",
    "\n",
    "# Calculate kurtosis\n",
    "kurtosis_value = kurtosis(data['carbo'], fisher=True)  # `fisher=True` gives excess kurtosis\n",
    "\n",
    "print(\"Skewness:\", skewness)\n",
    "print(\"Kurtosis (excess):\", kurtosis_value)"
   ]
  },
  {
   "cell_type": "code",
   "execution_count": null,
   "id": "6da8cf81-ec0d-4863-ab7e-24651f6b869a",
   "metadata": {},
   "outputs": [],
   "source": []
  }
 ],
 "metadata": {
  "kernelspec": {
   "display_name": "Python 3 (ipykernel)",
   "language": "python",
   "name": "python3"
  },
  "language_info": {
   "codemirror_mode": {
    "name": "ipython",
    "version": 3
   },
   "file_extension": ".py",
   "mimetype": "text/x-python",
   "name": "python",
   "nbconvert_exporter": "python",
   "pygments_lexer": "ipython3",
   "version": "3.10.1"
  }
 },
 "nbformat": 4,
 "nbformat_minor": 5
}
