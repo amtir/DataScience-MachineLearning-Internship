{
 "cells": [
  {
   "cell_type": "code",
   "execution_count": 1,
   "id": "f589a1d0-50b6-450e-9afe-4697468e7798",
   "metadata": {},
   "outputs": [],
   "source": [
    "# demo\n"
   ]
  },
  {
   "cell_type": "code",
   "execution_count": 4,
   "id": "7048b5d8-0a21-4e90-9449-9644a3eee9bd",
   "metadata": {},
   "outputs": [
    {
     "name": "stdout",
     "output_type": "stream",
     "text": [
      "-1.3333333333333333\n",
      "0.18242243945173575\n",
      "Accept null hypothesis\n"
     ]
    }
   ],
   "source": [
    "import numpy as np\n",
    "from scipy import stats\n",
    "\n",
    "# values\n",
    "sm = 18\n",
    "pm = 20\n",
    "pstd = 15 \n",
    "sample = 100 \n",
    "\n",
    "z_score = (sm-pm)/(pstd/np.sqrt(sample))\n",
    "print(z_score)\n",
    "\n",
    "p_value = 2* stats.norm.cdf(-np.abs(z_score))\n",
    "print(p_value)\n",
    "\n",
    "if p_value < 0.05: \n",
    "    print(\"Reject null hypothesis\")\n",
    "else:\n",
    "    print(\"Accept null hypothesis\")\n"
   ]
  },
  {
   "cell_type": "code",
   "execution_count": 3,
   "id": "2132fdf7-c72a-4f22-aca2-ba498317682b",
   "metadata": {},
   "outputs": [
    {
     "name": "stdout",
     "output_type": "stream",
     "text": [
      "0.18242243945173575\n",
      "Accept null hypothesis\n"
     ]
    }
   ],
   "source": [
    "p_value = 2* stats.norm.cdf(-np.abs(z_score))\n",
    "print(p_value)\n",
    "\n",
    "if p_value < 0.05: \n",
    "    print(\"Reject null hypothesis\")\n",
    "else:\n",
    "    print(\"Accept null hypothesis\")"
   ]
  },
  {
   "cell_type": "code",
   "execution_count": 8,
   "id": "e14c7fc0-b089-496a-9ed5-1ea36c6e77dd",
   "metadata": {},
   "outputs": [
    {
     "name": "stdout",
     "output_type": "stream",
     "text": [
      "-0.44476989896991936 0.6617879268163556\n",
      "Accept null hypothesis\n"
     ]
    }
   ],
   "source": [
    "from scipy.stats import ttest_ind\n",
    "\n",
    "a = [78,65,67,98,56,76,67,45,34,56]\n",
    "b = [34,67,89,65,76,87,98,65,54,45]\n",
    "\n",
    "t_stat, p_value = ttest_ind(a,b)\n",
    "print(t_stat, p_value)\n",
    "\n",
    "if p_value < 0.05:\n",
    "    print(\"Reject null hypothesis\")\n",
    "else:\n",
    "    print(\"Accept null hypothesis\")\n"
   ]
  },
  {
   "cell_type": "code",
   "execution_count": 10,
   "id": "ee9bf3b0-b6b6-496c-af92-354c41cba80a",
   "metadata": {},
   "outputs": [
    {
     "name": "stdout",
     "output_type": "stream",
     "text": [
      "0.7607547169811322 0.383092439071283 1 [[21.875 33.125]\n",
      " [48.125 72.875]]\n",
      "Accept null hypothesis\n"
     ]
    }
   ],
   "source": [
    "from scipy.stats import chi2_contingency\n",
    "\n",
    "data = np.array([[25,30],[45,76]])\n",
    "\n",
    "chi2, p_value, dof, expected = chi2_contingency(data)\n",
    "print(chi2, p_value, dof, expected)\n",
    "\n",
    "if p_value < 0.05:\n",
    "    print('Rejected null hypothesis')\n",
    "else:\n",
    "    print('Accept null hypothesis')\n"
   ]
  },
  {
   "cell_type": "code",
   "execution_count": null,
   "id": "13416386-ed3f-401a-b81d-28a00e18f44b",
   "metadata": {},
   "outputs": [],
   "source": []
  }
 ],
 "metadata": {
  "kernelspec": {
   "display_name": "Python 3 (ipykernel)",
   "language": "python",
   "name": "python3"
  },
  "language_info": {
   "codemirror_mode": {
    "name": "ipython",
    "version": 3
   },
   "file_extension": ".py",
   "mimetype": "text/x-python",
   "name": "python",
   "nbconvert_exporter": "python",
   "pygments_lexer": "ipython3",
   "version": "3.10.1"
  }
 },
 "nbformat": 4,
 "nbformat_minor": 5
}
