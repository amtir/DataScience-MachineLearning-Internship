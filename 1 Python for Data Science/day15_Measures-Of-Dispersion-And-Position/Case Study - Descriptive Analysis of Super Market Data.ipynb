{
 "cells": [
  {
   "cell_type": "markdown",
   "metadata": {},
   "source": [
    "# Descriptive Statistics\n",
    "<h2> Case Study: Descriptive Analysis of Super Market Data </h2>\n",
    "\n",
    "In this case study, you will perform simple descriptive analysis on data."
   ]
  },
  {
   "cell_type": "code",
   "execution_count": 1,
   "metadata": {},
   "outputs": [
    {
     "ename": "ModuleNotFoundError",
     "evalue": "No module named 'scipy'",
     "output_type": "error",
     "traceback": [
      "\u001b[1;31m---------------------------------------------------------------------------\u001b[0m",
      "\u001b[1;31mModuleNotFoundError\u001b[0m                       Traceback (most recent call last)",
      "Cell \u001b[1;32mIn[1], line 4\u001b[0m\n\u001b[0;32m      2\u001b[0m \u001b[38;5;28;01mimport\u001b[39;00m \u001b[38;5;21;01mpandas\u001b[39;00m \u001b[38;5;28;01mas\u001b[39;00m \u001b[38;5;21;01mpd\u001b[39;00m\n\u001b[0;32m      3\u001b[0m \u001b[38;5;28;01mimport\u001b[39;00m \u001b[38;5;21;01mnumpy\u001b[39;00m \u001b[38;5;28;01mas\u001b[39;00m \u001b[38;5;21;01mnp\u001b[39;00m\n\u001b[1;32m----> 4\u001b[0m \u001b[38;5;28;01mimport\u001b[39;00m \u001b[38;5;21;01mscipy\u001b[39;00m\u001b[38;5;21;01m.\u001b[39;00m\u001b[38;5;21;01mstats\u001b[39;00m\n",
      "\u001b[1;31mModuleNotFoundError\u001b[0m: No module named 'scipy'"
     ]
    }
   ],
   "source": [
    "#Step1: Import the required libraries\n",
    "import pandas as pd\n",
    "import numpy as np\n",
    "import scipy.stats"
   ]
  },
  {
   "cell_type": "code",
   "execution_count": 2,
   "metadata": {},
   "outputs": [],
   "source": [
    "#Step2: Read data from the uploaded csv file\n",
    "df = pd.read_csv(\"supermarket.csv\")"
   ]
  },
  {
   "cell_type": "code",
   "execution_count": 3,
   "metadata": {},
   "outputs": [
    {
     "data": {
      "text/html": [
       "<div>\n",
       "<style scoped>\n",
       "    .dataframe tbody tr th:only-of-type {\n",
       "        vertical-align: middle;\n",
       "    }\n",
       "\n",
       "    .dataframe tbody tr th {\n",
       "        vertical-align: top;\n",
       "    }\n",
       "\n",
       "    .dataframe thead th {\n",
       "        text-align: right;\n",
       "    }\n",
       "</style>\n",
       "<table border=\"1\" class=\"dataframe\">\n",
       "  <thead>\n",
       "    <tr style=\"text-align: right;\">\n",
       "      <th></th>\n",
       "      <th>ProductCode</th>\n",
       "      <th>Date</th>\n",
       "      <th>Amount</th>\n",
       "      <th>Received Cash</th>\n",
       "      <th>CashierName</th>\n",
       "    </tr>\n",
       "  </thead>\n",
       "  <tbody>\n",
       "    <tr>\n",
       "      <th>0</th>\n",
       "      <td>LBVT18010004435</td>\n",
       "      <td>01-05-2018 12:36</td>\n",
       "      <td>1121.2</td>\n",
       "      <td>1121.2</td>\n",
       "      <td>MAYTE</td>\n",
       "    </tr>\n",
       "    <tr>\n",
       "      <th>1</th>\n",
       "      <td>LBVT18010004436</td>\n",
       "      <td>01-05-2018 12:37</td>\n",
       "      <td>18.5</td>\n",
       "      <td>20.0</td>\n",
       "      <td>MAYTE</td>\n",
       "    </tr>\n",
       "    <tr>\n",
       "      <th>2</th>\n",
       "      <td>LBVT18010004437</td>\n",
       "      <td>01-05-2018 12:38</td>\n",
       "      <td>160.0</td>\n",
       "      <td>200.0</td>\n",
       "      <td>MAYTE</td>\n",
       "    </tr>\n",
       "    <tr>\n",
       "      <th>3</th>\n",
       "      <td>LBVT18010004438</td>\n",
       "      <td>01-05-2018 12:47</td>\n",
       "      <td>397.5</td>\n",
       "      <td>397.5</td>\n",
       "      <td>MAYTE</td>\n",
       "    </tr>\n",
       "    <tr>\n",
       "      <th>4</th>\n",
       "      <td>LBVT18010004439</td>\n",
       "      <td>01-05-2018 12:48</td>\n",
       "      <td>22.0</td>\n",
       "      <td>50.0</td>\n",
       "      <td>MAYTE</td>\n",
       "    </tr>\n",
       "  </tbody>\n",
       "</table>\n",
       "</div>"
      ],
      "text/plain": [
       "       ProductCode              Date  Amount  Received Cash CashierName\n",
       "0  LBVT18010004435  01-05-2018 12:36  1121.2         1121.2       MAYTE\n",
       "1  LBVT18010004436  01-05-2018 12:37    18.5           20.0       MAYTE\n",
       "2  LBVT18010004437  01-05-2018 12:38   160.0          200.0       MAYTE\n",
       "3  LBVT18010004438  01-05-2018 12:47   397.5          397.5       MAYTE\n",
       "4  LBVT18010004439  01-05-2018 12:48    22.0           50.0       MAYTE"
      ]
     },
     "execution_count": 3,
     "metadata": {},
     "output_type": "execute_result"
    }
   ],
   "source": [
    "#Step3: Display the dataframe\n",
    "df.head()                            #Use the head method to display the first five rows"
   ]
  },
  {
   "cell_type": "code",
   "execution_count": 4,
   "metadata": {},
   "outputs": [
    {
     "name": "stdout",
     "output_type": "stream",
     "text": [
      "The mean of amount is: 189.78\n",
      "The median of amount is: 95\n"
     ]
    }
   ],
   "source": [
    "#Step4: Calculate the measures of central tendency\n",
    "print(\"The mean of amount is:\" , round(df.Amount.mean(), 2))       #Upto 2 places of decimal\n",
    "\n",
    "print(\"The median of amount is:\" , round(df.Amount.median())) "
   ]
  },
  {
   "cell_type": "code",
   "execution_count": 6,
   "metadata": {},
   "outputs": [
    {
     "name": "stdout",
     "output_type": "stream",
     "text": [
      "The range of amount is: 15036.8\n",
      "The Interquartile range is: 189.7\n",
      "The standard deviation of amount is: 284\n",
      "The variance of amount is: 80674\n"
     ]
    },
    {
     "name": "stderr",
     "output_type": "stream",
     "text": [
      "C:\\Users\\Prerna\\Anaconda3\\lib\\site-packages\\numpy\\core\\fromnumeric.py:2389: FutureWarning: Method .ptp is deprecated and will be removed in a future version. Use numpy.ptp instead.\n",
      "  return ptp(axis=axis, out=out, **kwargs)\n"
     ]
    }
   ],
   "source": [
    "#Step5: Calculate the measures of dispersion\n",
    "print(\"The range of amount is:\" , np.ptp(df.Amount, axis=0)) \n",
    "\n",
    "from scipy.stats import iqr\n",
    "print(\"The Interquartile range is:\", iqr(df.Amount, axis=0))\n",
    "\n",
    "print(\"The standard deviation of amount is:\" , round(np.std(df.Amount, axis=0)))\n",
    "\n",
    "print(\"The variance of amount is:\" , round(np.var(df.Amount, axis=0)))"
   ]
  },
  {
   "cell_type": "code",
   "execution_count": null,
   "metadata": {},
   "outputs": [],
   "source": []
  },
  {
   "cell_type": "code",
   "execution_count": 6,
   "metadata": {},
   "outputs": [
    {
     "name": "stdout",
     "output_type": "stream",
     "text": [
      "The 20th percentile of amount is: 30.0\n",
      "The 25th percentile of amount is: 38.0\n",
      "The 75th percentile of amount is: 227.7\n",
      "The 3rd quartile of amount is: 227.7\n"
     ]
    }
   ],
   "source": [
    "#Step6: Calculate the measures of position\n",
    "print(\"The 20th percentile of amount is:\" , np.percentile(df.Amount, 20, axis=0))\n",
    "print(\"The 25th percentile of amount is:\" , np.percentile(df.Amount, 25, axis=0))\n",
    "print(\"The 75th percentile of amount is:\" , np.percentile(df.Amount, 75, axis=0))\n",
    "\n",
    "print(\"The 3rd quartile of amount is:\" , df.Amount.quantile(0.75))"
   ]
  },
  {
   "cell_type": "code",
   "execution_count": 7,
   "metadata": {},
   "outputs": [
    {
     "name": "stdout",
     "output_type": "stream",
     "text": [
      "The 20th percentile of amount is: 30.0\n",
      "The 3rd quartile of amount is: 227.7\n",
      "The z-score of all values in amount is: [ 3.27928664 -0.60303678 -0.10485163 ... -0.59296746 -0.49213338\n",
      " -0.56205533]\n"
     ]
    }
   ],
   "source": [
    "#Step6: Calculate the measures of position\n",
    "print(\"The 20th percentile of amount is:\" , np.percentile(df.Amount, 20, axis=0))\n",
    "print(\"The 75th percentile of amount is:\" , np.percentile(df.Amount, 75, axis=0))\n",
    "\n",
    "print(\"The 3rd quartile of amount is:\" , df.Amount.quantile(0.75))\n",
    "\n",
    "from scipy.stats import zscore\n",
    "print(\"The z-score of all values in amount is:\" , zscore(df.Amount, axis=0))"
   ]
  },
  {
   "cell_type": "code",
   "execution_count": null,
   "metadata": {},
   "outputs": [],
   "source": []
  }
 ],
 "metadata": {
  "kernelspec": {
   "display_name": "Python 3 (ipykernel)",
   "language": "python",
   "name": "python3"
  },
  "language_info": {
   "codemirror_mode": {
    "name": "ipython",
    "version": 3
   },
   "file_extension": ".py",
   "mimetype": "text/x-python",
   "name": "python",
   "nbconvert_exporter": "python",
   "pygments_lexer": "ipython3",
   "version": "3.10.1"
  }
 },
 "nbformat": 4,
 "nbformat_minor": 4
}
