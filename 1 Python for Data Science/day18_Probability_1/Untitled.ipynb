{
 "cells": [
  {
   "cell_type": "code",
   "execution_count": 2,
   "id": "0ca1a1d2-5f0b-409b-b863-6a6e64e81445",
   "metadata": {},
   "outputs": [],
   "source": [
    "# Demo: Probability I \n",
    "# Day 18  \n",
    "# Date: 06-11-2024\n",
    "# Probability is nothing but a measure of chance of getting a desired outcome. "
   ]
  },
  {
   "cell_type": "code",
   "execution_count": 4,
   "id": "0408179e-ea34-445f-9ef4-b0fbdf374523",
   "metadata": {},
   "outputs": [],
   "source": [
    "import pandas as pd\n",
    "import numpy as np \n"
   ]
  },
  {
   "cell_type": "code",
   "execution_count": null,
   "id": "6e8d9a26-e9c9-4cfb-bd2f-be0d8a93944c",
   "metadata": {},
   "outputs": [],
   "source": [
    "'''\n",
    "Sample for 2 rolled dice\n",
    "\n",
    "size of my sample = 6^2 (Sample size for 1 power the no. we are doing) =36\n",
    "\n",
    "{(1,1),(1,2),(1,3),(1,4),(1,5),(1,6),\n",
    "\n",
    "(2,1),(2,2),(2,3),(2,4),(2,5),(2,6),\n",
    "\n",
    "(3,1),(3,2),(3,3),(3,4),(3,5),(3,6),\n",
    "\n",
    "(4,1),(4,2),(4,3),(4,4),(4,5),(4,6),\n",
    "\n",
    "(5,1),(5,2),(5,3),(5,4),(5,5),(5,6),\n",
    "\n",
    "(6,1),(6,2),(6,3),(6,4),(6,5),(6,6)}\n",
    "\n",
    "  \n",
    "\n",
    "1. sum is less than is equals to 1 = 0/36 = 0\n",
    "\n",
    "2. sum is less than is equals to 6 =  15/36 = 0.42\n",
    "\n",
    "3. sum is greater than or equals to 2 = 36/36 =1\n",
    "\n",
    "'''"
   ]
  }
 ],
 "metadata": {
  "kernelspec": {
   "display_name": "Python 3 (ipykernel)",
   "language": "python",
   "name": "python3"
  },
  "language_info": {
   "codemirror_mode": {
    "name": "ipython",
    "version": 3
   },
   "file_extension": ".py",
   "mimetype": "text/x-python",
   "name": "python",
   "nbconvert_exporter": "python",
   "pygments_lexer": "ipython3",
   "version": "3.10.1"
  }
 },
 "nbformat": 4,
 "nbformat_minor": 5
}
