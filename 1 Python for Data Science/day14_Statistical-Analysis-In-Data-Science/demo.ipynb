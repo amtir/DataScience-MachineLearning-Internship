{
 "cells": [
  {
   "cell_type": "code",
   "execution_count": 1,
   "id": "a5aec0f9-5a1f-4acf-9e96-704e8d02a010",
   "metadata": {},
   "outputs": [],
   "source": [
    "# Central tendency \n"
   ]
  },
  {
   "cell_type": "code",
   "execution_count": 5,
   "id": "00721895-7c91-4b1b-b5b3-e2402b94444f",
   "metadata": {},
   "outputs": [
    {
     "name": "stdout",
     "output_type": "stream",
     "text": [
      "mean:  59.4\n",
      "median:  55\n",
      "mode:  44\n"
     ]
    }
   ],
   "source": [
    "import statistics as s \n",
    "\n",
    "data = [67,87,87,66,67,87,67,55,44,44,44,44,44,44,44]\n",
    "\n",
    "mean = s.mean(data)\n",
    "median = s.median(data)\n",
    "mode = s.mode(data)\n",
    "\n",
    "print(\"mean: \",mean)\n",
    "print(\"median: \",median)\n",
    "print(\"mode: \",mode)\n"
   ]
  }
 ],
 "metadata": {
  "kernelspec": {
   "display_name": "Python 3 (ipykernel)",
   "language": "python",
   "name": "python3"
  },
  "language_info": {
   "codemirror_mode": {
    "name": "ipython",
    "version": 3
   },
   "file_extension": ".py",
   "mimetype": "text/x-python",
   "name": "python",
   "nbconvert_exporter": "python",
   "pygments_lexer": "ipython3",
   "version": "3.10.1"
  }
 },
 "nbformat": 4,
 "nbformat_minor": 5
}
