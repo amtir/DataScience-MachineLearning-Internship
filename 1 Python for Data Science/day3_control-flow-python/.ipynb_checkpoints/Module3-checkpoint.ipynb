{
 "cells": [
  {
   "cell_type": "code",
   "execution_count": 5,
   "id": "e396b432-04ce-42aa-bda1-0574e380ba90",
   "metadata": {},
   "outputs": [
    {
     "name": "stdin",
     "output_type": "stream",
     "text": [
      "Enter your age :  12\n"
     ]
    }
   ],
   "source": [
    "#if Statement\n",
    "'''An \"if\" statement is a basic concept in programming that allows a program to make decisions. It lets you execute \n",
    "certain code only if a specific condition is true. If the condition is false, the code inside the \"if\" statement is skipped.'''\n",
    "age = int(input(\"Enter your age : \"))\n",
    "if age >= 18:\n",
    "    print(\"You are an adult.\")"
   ]
  },
  {
   "cell_type": "code",
   "execution_count": 9,
   "id": "83412474-86c8-4102-9455-6bd40ed0ab9d",
   "metadata": {},
   "outputs": [
    {
     "name": "stdin",
     "output_type": "stream",
     "text": [
      "Enter your age :  24\n"
     ]
    },
    {
     "name": "stdout",
     "output_type": "stream",
     "text": [
      "You are an adult.\n"
     ]
    }
   ],
   "source": [
    "#if-else Statement\n",
    "'''An \"if-else\" statement is a control flow statement in programming that allows you to execute \n",
    "one block of code if a condition is true and a different block of code if the condition is false.'''\n",
    "age = int(input(\"Enter your age : \"))\n",
    "if age >= 18:\n",
    "    print(\"You are an adult.\")\n",
    "else:\n",
    "    print(\"You are a minor.\")"
   ]
  },
  {
   "cell_type": "code",
   "execution_count": 15,
   "id": "55d1815d-8854-4712-bf9d-4c74d2a47c7a",
   "metadata": {},
   "outputs": [
    {
     "name": "stdin",
     "output_type": "stream",
     "text": [
      "Enter the temperature :  40\n"
     ]
    },
    {
     "name": "stdout",
     "output_type": "stream",
     "text": [
      "It's a hot day.\n"
     ]
    }
   ],
   "source": [
    "#if-elif-else Statement\n",
    "'''An \"if-elif-else\" statement is a control flow structure in programming that lets you check multiple conditions in sequence.\n",
    " It allows you to execute different blocks of code based on different conditions.'''\n",
    "temperature = int(input(\"Enter the temperature : \"))\n",
    "if temperature > 30:             #First Condition \n",
    "    print(\"It's a hot day.\")\n",
    "elif temperature > 20:          #Second Condition \n",
    "    print(\"It's a warm day.\")\n",
    "else:\n",
    "    print(\"It's a cool day.\")"
   ]
  },
  {
   "cell_type": "code",
   "execution_count": 17,
   "id": "bcf1b64a-3c6d-4847-9c6b-aba8b794f4ea",
   "metadata": {},
   "outputs": [
    {
     "name": "stdout",
     "output_type": "stream",
     "text": [
      "1\n",
      "2\n",
      "3\n",
      "4\n",
      "5\n"
     ]
    }
   ],
   "source": [
    "#While loop\n",
    "'''A while loop repeats a block of code as long as a condition is true.'''\n",
    "# Start with a counter set to 1\n",
    "counter = 1\n",
    "\n",
    "# Loop while counter is less than or equal to 5\n",
    "while counter <= 5:\n",
    "    print(counter)  # Print the current value of counter\n",
    "    counter += 1    # Increase counter by 1"
   ]
  },
  {
   "cell_type": "code",
   "execution_count": 2,
   "id": "bae9b00d-0c08-4a46-9a6d-4b208ad6594f",
   "metadata": {},
   "outputs": [
    {
     "name": "stdout",
     "output_type": "stream",
     "text": [
      "0\n",
      "1\n",
      "2\n",
      "3\n",
      "4\n",
      "5\n",
      "The loop has finished executing: 6\n"
     ]
    }
   ],
   "source": [
    "#While else loop\n",
    "# Initialize counter\n",
    "counter = 0\n",
    "\n",
    "# Start the while loop\n",
    "while counter <= 5:\n",
    "    print(counter)\n",
    "    counter += 1\n",
    "else:\n",
    "    print(f\"The loop has finished executing: {counter}\")"
   ]
  },
  {
   "cell_type": "code",
   "execution_count": 4,
   "id": "b91fc442-c437-435e-a910-a7575a177491",
   "metadata": {},
   "outputs": [
    {
     "name": "stdout",
     "output_type": "stream",
     "text": [
      "115\n",
      "114\n",
      "113\n",
      "The tea is cool enough: 112°C\n"
     ]
    }
   ],
   "source": [
    "temp =115\n",
    "while temp>112:\n",
    "    print(temp)\n",
    "    temp-=1\n",
    "else:\n",
    "    print(f\"The tea is cool enough: {temp}°C\")"
   ]
  },
  {
   "cell_type": "code",
   "execution_count": 1,
   "id": "50afb716-9421-459d-aeb7-56a547679fb7",
   "metadata": {},
   "outputs": [
    {
     "name": "stdout",
     "output_type": "stream",
     "text": [
      "apple\n",
      "banana\n",
      "cherry\n",
      "0\n",
      "1\n",
      "2\n",
      "3\n",
      "4\n",
      "e\n",
      "d\n",
      "u\n",
      "r\n",
      "e\n",
      "k\n",
      "a\n"
     ]
    }
   ],
   "source": [
    "#for loop\n",
    "'''A for loop is a control flow statement used to iterate over a sequence of elements, such as a list, range, or string.\n",
    " It allows you to execute a block of code repeatedly for each item in the sequence.'''\n",
    "# A list of fruits\n",
    "fruits = [\"apple\", \"banana\", \"cherry\"]\n",
    "# Iterate over each fruit in the list\n",
    "for fruit in fruits:\n",
    "    print(fruit)\n",
    "\n",
    "# Iterate from 0 to 4\n",
    "for i in range(5):\n",
    "    print(i)\n",
    "\n",
    "# A string\n",
    "word = \"edureka\"\n",
    "# Iterate over each character in the string\n",
    "for char in word:\n",
    "    print(char)"
   ]
  },
  {
   "cell_type": "code",
   "execution_count": 25,
   "id": "97dec638-6a4d-40f0-bba0-5f2051e19c44",
   "metadata": {},
   "outputs": [
    {
     "name": "stdout",
     "output_type": "stream",
     "text": [
      "orange\n",
      "apple\n",
      "cherry\n"
     ]
    }
   ],
   "source": [
    "fruits = ['orange','apple','cherry']\n",
    "for fruit in fruits:\n",
    "    print(fruit)"
   ]
  },
  {
   "cell_type": "code",
   "execution_count": 23,
   "id": "ea65a28b-b7be-464e-b1c8-7a9e7e5c7ef3",
   "metadata": {},
   "outputs": [
    {
     "name": "stdout",
     "output_type": "stream",
     "text": [
      "1\n",
      "2\n",
      "3\n",
      "4\n",
      "5\n",
      "Finished iterating over the list.\n"
     ]
    }
   ],
   "source": [
    "#for else loop\n",
    "# List of numbers\n",
    "numbers = [1, 2, 3, 4, 5]\n",
    "\n",
    "# Iterate over the list\n",
    "for number in numbers:\n",
    "    print(number)\n",
    "else:\n",
    "    print(\"Finished iterating over the list.\")"
   ]
  },
  {
   "cell_type": "code",
   "execution_count": 27,
   "id": "773f7852-ad2a-485c-ab9d-e7082122d8b7",
   "metadata": {},
   "outputs": [
    {
     "name": "stdout",
     "output_type": "stream",
     "text": [
      "Welcome to the Guessing Game!\n",
      "I'm thinking of a number between 1 and 100\n"
     ]
    },
    {
     "name": "stdin",
     "output_type": "stream",
     "text": [
      "Enter your guess :  66\n"
     ]
    },
    {
     "name": "stdout",
     "output_type": "stream",
     "text": [
      "Too low! Try again.\n"
     ]
    },
    {
     "name": "stdin",
     "output_type": "stream",
     "text": [
      "Enter your guess :  85\n"
     ]
    },
    {
     "name": "stdout",
     "output_type": "stream",
     "text": [
      "Too low! Try again.\n"
     ]
    },
    {
     "name": "stdin",
     "output_type": "stream",
     "text": [
      "Enter your guess :  120\n"
     ]
    },
    {
     "name": "stdout",
     "output_type": "stream",
     "text": [
      "Too high! Try again.\n"
     ]
    },
    {
     "name": "stdin",
     "output_type": "stream",
     "text": [
      "Enter your guess :  96\n"
     ]
    },
    {
     "name": "stdout",
     "output_type": "stream",
     "text": [
      "Too high! Try again.\n"
     ]
    },
    {
     "name": "stdin",
     "output_type": "stream",
     "text": [
      "Enter your guess :  89\n"
     ]
    },
    {
     "name": "stdout",
     "output_type": "stream",
     "text": [
      "Too high! Try again.\n",
      "Sorry, you've reached the maximum number of guesses. The secret number was 86.\n"
     ]
    }
   ],
   "source": [
    "#Guessing Game\n",
    "'''We are creating a guessing game where the user has to guess a number between 1 and 100.'''\n",
    "\n",
    "import random\n",
    "secret_number = random.randint(1, 100)\n",
    "print(\"Welcome to the Guessing Game!\")\n",
    "print(\"I'm thinking of a number between 1 and 100\")\n",
    "\n",
    "#Allow the player to guess upto 5 times\n",
    "for guess in range(5):\n",
    "    guess = int(input(\"Enter your guess : \"))\n",
    "    if guess < secret_number:\n",
    "        print(\"Too low! Try again.\")\n",
    "    elif guess > secret_number:\n",
    "        print(\"Too high! Try again.\")\n",
    "    else:\n",
    "        break\n",
    "if guess == secret_number:\n",
    "    print(f\"Congratulations! You guessed the number {secret_number} correctly!\")\n",
    "else:\n",
    "    print(f\"Sorry, you've reached the maximum number of guesses. The secret number was {secret_number}.\")"
   ]
  },
  {
   "cell_type": "code",
   "execution_count": null,
   "id": "c768ece2-220a-46f2-ac81-6946751f07b0",
   "metadata": {},
   "outputs": [],
   "source": [
    "'''NESTED LOOPS'''"
   ]
  },
  {
   "cell_type": "code",
   "execution_count": null,
   "id": "4125644c-45f5-4d8f-9f3b-8331baa307c0",
   "metadata": {},
   "outputs": [],
   "source": [
    "#Example 1 (for loop under for loop)   it works with rows and columns\n",
    "\n",
    "#Example 1.1: 2x2 Grid of Fixed Numbers\n",
    "\n",
    "# Fixed number to print\n",
    "number = 1\n",
    "# Outer loop for rows\n",
    "for i in range(2):\n",
    "    # Inner loop for columns\n",
    "    for j in range(2):\n",
    "        # Print the fixed number\n",
    "        print(number, end=' ')\n",
    "    # Move to the next line after each row\n",
    "    print()\n",
    "    \n",
    "'''Explanation:\n",
    "1.Outer while Loop: Controls the rows of the grid. It continues as long as row is less than num_rows.\n",
    "2.Inner while Loop: Controls the columns within the current row. It continues as long as col is less than num_cols.\n",
    "3.Print Statement: Outputs the current cell position (row, col) in the format \"(row, col)\".\n",
    "4.Counters: Both row and col counters are incremented appropriately to move to the next cell and row.'''\n",
    "\n",
    "#Example 1.2: Multiplication Table\n",
    "\n",
    "# Number of rows and columns\n",
    "rows = 5\n",
    "cols = 5\n",
    "\n",
    "# Outer loop for rows\n",
    "for i in range(1, rows + 1):\n",
    "    # Inner loop for columns\n",
    "    for j in range(1, cols + 1):\n",
    "        # Print the product of the current row and column\n",
    "        print(i * j, end='\\t')\n",
    "    # Move to the next line after each row\n",
    "    print()\n",
    "    \n",
    "'''Explanation:\n",
    "1.Initialization: rows and cols are both set to 5. This means the table will have 5 rows and 5 columns.\n",
    "2.Outer Loop:\n",
    "                  for i in range(1, rows + 1):\n",
    "This loop iterates over the rows. i will take values from 1 to 5 (inclusive).\n",
    "The range(1, rows + 1) generates a sequence of numbers from 1 to 5. The +1 is used because the range function generates numbers up to but not including the end value.\n",
    "3.Inner Loop:\n",
    "                  for j in range(1, cols + 1):\n",
    "This loop iterates over the columns for each row. j will also take values from 1 to 5 (inclusive).\n",
    "Similar to the outer loop, range(1, cols + 1) generates numbers from 1 to 5.\n",
    "4.Print Statement Inside Inner Loop:\n",
    "                  print(i * j, end='\\t')\n",
    "This statement calculates the product of i (current row number) and j (current column number) and prints it.\n",
    "end='\\t' ensures that each product is followed by a tab space, so the numbers are aligned in columns.\n",
    "5.Move to Next Line:\n",
    "                  print()\n",
    "This statement is executed after the inner loop completes for the current row.\n",
    "It moves the cursor to the next line, ensuring that the next row of the multiplication table is printed on a new line.'''"
   ]
  },
  {
   "cell_type": "code",
   "execution_count": null,
   "id": "3e7613e2-7400-44bc-8395-6740049c86c7",
   "metadata": {},
   "outputs": [],
   "source": [
    "#Example 2 (While loop under under loop)\n",
    "\n",
    "#Example: Printing Numbers with Nested while Loops\n",
    "\n",
    "# Initialize outer loop counter\n",
    "i = 0\n",
    "\n",
    "# Outer while loop\n",
    "while i < 2:  # This loop runs 2 times\n",
    "    # Initialize inner loop counter\n",
    "    j = 0\n",
    "    \n",
    "    # Inner while loop\n",
    "    while j < 3:  # This loop runs 3 times for each outer loop iteration\n",
    "        # Print a number with space, end='' keeps it on the same line\n",
    "        print(j, end=' ')\n",
    "        # Increment inner loop counter\n",
    "        j += 1\n",
    "    \n",
    "    # Move to the next line after the inner loop completes\n",
    "    print()\n",
    "    \n",
    "    # Increment outer loop counter\n",
    "    i += 1\n",
    "    \n",
    "'''Explanation:\n",
    "1.Outer while Loop: Runs 2 times (i goes from 0 to 1). Each iteration of this loop represents one row of output.\n",
    "2.Inner while Loop: Runs 3 times for each iteration of the outer loop (j goes from 0 to 2). Each iteration prints a number on the same line.\n",
    "3.Print Statement: Outputs the current number j, and end=' ' ensures the numbers are printed on the same line with a space between them.\n",
    "4.Counters: i and j are incremented to control the loop execution and output.'''"
   ]
  },
  {
   "cell_type": "code",
   "execution_count": null,
   "id": "503c4e0a-e3fe-4d09-a6f6-cef1e09222ac",
   "metadata": {},
   "outputs": [],
   "source": [
    "#Example 3 (For loop under while loop)\n",
    "\n",
    "# Initialize the outer loop counter\n",
    "i = 1\n",
    "# Outer while loop\n",
    "while i <= 3:  # This loop runs 3 times\n",
    "    # Inner for loop\n",
    "    for j in range(1, i + 1):  # This loop runs `i` times\n",
    "        # Print the current number\n",
    "        print(j, end=' ')\n",
    "    # Move to the next line after inner loop completes\n",
    "    print()\n",
    "    \n",
    "    # Increment the outer loop counter\n",
    "    i += 1\n",
    "\n",
    "'''Explanation:\n",
    "1.Outer while Loop:\n",
    "               while i <= 3:\n",
    "This loop controls the number of rows. It will continue running as long as i is less than or equal to 3. In each iteration, it will execute the inner for loop.\n",
    "2.Inner for Loop:\n",
    "               for j in range(1, i + 1):\n",
    "This loop controls the number of numbers printed on each line. It runs from 1 to i (inclusive). For example, when i is 1, the inner loop will run once; when i is 2, the inner loop will run twice, and so on.\n",
    "3.Print Statement Inside Inner Loop:\n",
    "               print(j, end=' ')\n",
    "This prints the current number j followed by a space. end=' ' ensures that the numbers are printed on the same line with a space between them.\n",
    "4.Move to Next Line:\n",
    "               print()\n",
    "After the for loop completes, this statement is executed to move to the next line. This ensures that each row of numbers is printed on a new line.\n",
    "5.Increment Outer Loop Counter:\n",
    "               i += 1\n",
    "This increments the i counter to control the number of rows. It ensures that the outer while loop will eventually terminate.'''"
   ]
  },
  {
   "cell_type": "code",
   "execution_count": 1,
   "id": "825023e7-0a11-4734-ab98-23f4b0aa50b9",
   "metadata": {},
   "outputs": [
    {
     "name": "stdout",
     "output_type": "stream",
     "text": [
      "1 \n",
      "1 2 \n",
      "1 2 3 \n",
      "1 2 3 4 \n"
     ]
    },
    {
     "data": {
      "text/plain": [
       "\"Explanation:\\n1.Outer for Loop:\\n             for i in range(1, num_rows + 1):\\nThis loop controls the number of rows. It iterates from 1 to num_rows (inclusive). For example, if num_rows is 4, i will take values 1, 2, 3, and 4.\\n2.Initialize Counter for while Loop:\\n            j = 1\\nThe j counter is initialized to 1 for each iteration of the outer for loop. This counter will be used by the inner while loop.\\n3.Inner while Loop:\\n            while j <= i:\\nThis loop runs as long as j is less than or equal to i. It prints numbers from 1 up to the current value of i.\\n4.Print Statement Inside while Loop:\\n            print(j, end=' ')\\nThis prints the current value of j followed by a space. The end=' ' parameter ensures that the numbers are printed on the same line with a space between them.\\n5.Increment while Loop Counter:\\n            j += 1\\nThis increments the j counter after each print statement to eventually terminate the while loop.\\n6.Move to Next Line:\\n            print()\\nAfter the while loop completes, this statement moves to the next line, ensuring that each row starts on a new line.\""
      ]
     },
     "execution_count": 1,
     "metadata": {},
     "output_type": "execute_result"
    }
   ],
   "source": [
    "#Example 4 (While loop under for loop)\n",
    "\n",
    "# Number of rows\n",
    "num_rows = 4\n",
    "\n",
    "# Outer for loop\n",
    "for i in range(1, num_rows + 1):\n",
    "    # Initialize the counter for the while loop\n",
    "    j = 1\n",
    "    \n",
    "    # Inner while loop\n",
    "    while j <= i:\n",
    "        # Print the current number\n",
    "        print(j, end=' ')\n",
    "        # Increment the while loop counter\n",
    "        j += 1\n",
    "    \n",
    "    # Move to the next line after inner loop completes\n",
    "    print()\n",
    "\n",
    "'''Explanation:\n",
    "1.Outer for Loop:\n",
    "             for i in range(1, num_rows + 1):\n",
    "This loop controls the number of rows. It iterates from 1 to num_rows (inclusive). For example, if num_rows is 4, i will take values 1, 2, 3, and 4.\n",
    "2.Initialize Counter for while Loop:\n",
    "            j = 1\n",
    "The j counter is initialized to 1 for each iteration of the outer for loop. This counter will be used by the inner while loop.\n",
    "3.Inner while Loop:\n",
    "            while j <= i:\n",
    "This loop runs as long as j is less than or equal to i. It prints numbers from 1 up to the current value of i.\n",
    "4.Print Statement Inside while Loop:\n",
    "            print(j, end=' ')\n",
    "This prints the current value of j followed by a space. The end=' ' parameter ensures that the numbers are printed on the same line with a space between them.\n",
    "5.Increment while Loop Counter:\n",
    "            j += 1\n",
    "This increments the j counter after each print statement to eventually terminate the while loop.\n",
    "6.Move to Next Line:\n",
    "            print()\n",
    "After the while loop completes, this statement moves to the next line, ensuring that each row starts on a new line.'''"
   ]
  },
  {
   "cell_type": "code",
   "execution_count": 2,
   "id": "7d96d874-72f3-40b4-82ca-33341e9d3aa3",
   "metadata": {},
   "outputs": [
    {
     "name": "stdout",
     "output_type": "stream",
     "text": [
      "Loop ends here!\n"
     ]
    }
   ],
   "source": [
    "for k in range(1,3):\n",
    "    pass\n",
    "print(\"Loop ends here!\")"
   ]
  },
  {
   "cell_type": "code",
   "execution_count": 9,
   "id": "5e2a9939-7098-4349-9753-b38f51d696c4",
   "metadata": {},
   "outputs": [
    {
     "name": "stdout",
     "output_type": "stream",
     "text": [
      "[1, 3, 5, 7, 9]\n",
      "[2, 4, 6, 8, 10]\n"
     ]
    }
   ],
   "source": [
    "def is_even(e):\n",
    "    #for e in dstr:\n",
    "    if e%2!=0:\n",
    "        return True\n",
    "    else:\n",
    "        return False\n",
    "\n",
    "a=[1,2,3,4,5,6,7,8,9,10]\n",
    "\n",
    "n = list(filter(is_even,a))\n",
    "j = list(filter(lambda n : (n%2==0), a))\n",
    "k = list(map(lambda n:2*n,a))\n",
    "\n",
    "print(n)\n",
    "print(j)\n",
    "print(k)"
   ]
  },
  {
   "cell_type": "code",
   "execution_count": null,
   "id": "a83dff05-0e5a-4ada-9127-1fe6f2850e7e",
   "metadata": {},
   "outputs": [],
   "source": []
  }
 ],
 "metadata": {
  "kernelspec": {
   "display_name": "Python 3 (ipykernel)",
   "language": "python",
   "name": "python3"
  },
  "language_info": {
   "codemirror_mode": {
    "name": "ipython",
    "version": 3
   },
   "file_extension": ".py",
   "mimetype": "text/x-python",
   "name": "python",
   "nbconvert_exporter": "python",
   "pygments_lexer": "ipython3",
   "version": "3.10.1"
  }
 },
 "nbformat": 4,
 "nbformat_minor": 5
}
