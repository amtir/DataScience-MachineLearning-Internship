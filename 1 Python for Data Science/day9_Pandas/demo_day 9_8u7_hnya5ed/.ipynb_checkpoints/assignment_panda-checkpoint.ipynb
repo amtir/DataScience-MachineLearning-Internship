{
 "cells": [
  {
   "cell_type": "markdown",
   "id": "094d21ae-1307-4b67-af83-c13981ddcd24",
   "metadata": {},
   "source": [
    "# Q1. Problem Statement: Creating Pandas Series \n",
    "Write a Python program to create two lists - one for countries and another for \n",
    "country codes. \n",
    "Create a pandas series from these two lists with the codes as the \n",
    "index. \n",
    "Print the length, shape, and size of the series too"
   ]
  },
  {
   "cell_type": "code",
   "execution_count": 12,
   "id": "55622806-3fd7-42a5-a75c-010a5cc3ad9a",
   "metadata": {},
   "outputs": [
    {
     "name": "stdout",
     "output_type": "stream",
     "text": [
      "AUS     Australia\n",
      "JAP         Japan\n",
      "GERM      Germany\n",
      "FRA        France\n",
      "dtype: object\n",
      "AUS     9\n",
      "JAP     5\n",
      "GERM    7\n",
      "FRA     6\n",
      "dtype: int64\n",
      "the Length of the series is : 4\n",
      "the Shape of the series is : (4,)\n",
      "the Size of the series is : 4\n"
     ]
    }
   ],
   "source": [
    "import pandas as pd \n",
    "countries = ['Australia', 'Japan', 'Germany', 'France' ]\n",
    "codes = ['AUS', 'JAP', 'GERM', 'FRA']\n",
    "s = pd.Series(countries, index=codes)\n",
    "print(s)\n",
    "print(s.str.len())\n",
    "print(f'the Length of the series is : {s.size}')\n",
    "print(f'the Shape of the series is : {s.shape}')\n",
    "print(f'the Size of the series is : {s.size}')"
   ]
  },
  {
   "cell_type": "markdown",
   "id": "a1554265-e56a-401d-b70e-8a0f2e5c58ad",
   "metadata": {},
   "source": [
    "# Q2. Problem Statement: Creating Pandas DataFrame\n",
    "Write a Python program that reads Name, Age, and Roll no. as input from the \n",
    "user and stores it into a DataFrame, and printsthe DataFrame you have created."
   ]
  },
  {
   "cell_type": "code",
   "execution_count": 22,
   "id": "823ec2a5-f55c-47d4-937e-4d4b49ec38b5",
   "metadata": {},
   "outputs": [
    {
     "name": "stdin",
     "output_type": "stream",
     "text": [
      "Please select an option\n",
      "1 - Enter new user\n",
      "2 - Quit\n",
      "Your choice:  2\n"
     ]
    },
    {
     "data": {
      "text/html": [
       "<div>\n",
       "<style scoped>\n",
       "    .dataframe tbody tr th:only-of-type {\n",
       "        vertical-align: middle;\n",
       "    }\n",
       "\n",
       "    .dataframe tbody tr th {\n",
       "        vertical-align: top;\n",
       "    }\n",
       "\n",
       "    .dataframe thead th {\n",
       "        text-align: right;\n",
       "    }\n",
       "</style>\n",
       "<table border=\"1\" class=\"dataframe\">\n",
       "  <thead>\n",
       "    <tr style=\"text-align: right;\">\n",
       "      <th></th>\n",
       "    </tr>\n",
       "  </thead>\n",
       "  <tbody>\n",
       "  </tbody>\n",
       "</table>\n",
       "</div>"
      ],
      "text/plain": [
       "Empty DataFrame\n",
       "Columns: []\n",
       "Index: []"
      ]
     },
     "execution_count": 22,
     "metadata": {},
     "output_type": "execute_result"
    }
   ],
   "source": [
    "import pandas as pd \n",
    "data = []\n",
    "\n",
    "def add_user():\n",
    "    user = {}\n",
    "    user['Name'] = input(\"Enter your name: \")\n",
    "    user['Age']  = int(input(\"Enter your age: \"))\n",
    "    user['Roll N°']  = input(\"Enter your Roll N°: \")\n",
    "    print(user)\n",
    "    data.append(user)\n",
    "\n",
    "while(True):\n",
    "    opt = int(input(\"Please select an option\\n1 - Enter new user\\n2 - Quit\\nYour choice: \"))\n",
    "    if opt == 1:\n",
    "        add_user()\n",
    "    elif opt == 2: \n",
    "        print(\"Bye :-D\")\n",
    "        break\n",
    "    else:\n",
    "        print(\"Invalid choice!\")\n",
    "        continue\n",
    "    \n",
    "    \n",
    "\n",
    "user_df = pd.DataFrame(data)\n",
    "user_df\n"
   ]
  },
  {
   "cell_type": "code",
   "execution_count": null,
   "id": "54714639-70d5-4d95-b5fa-7eed530f49e2",
   "metadata": {},
   "outputs": [],
   "source": []
  }
 ],
 "metadata": {
  "kernelspec": {
   "display_name": "Python 3 (ipykernel)",
   "language": "python",
   "name": "python3"
  },
  "language_info": {
   "codemirror_mode": {
    "name": "ipython",
    "version": 3
   },
   "file_extension": ".py",
   "mimetype": "text/x-python",
   "name": "python",
   "nbconvert_exporter": "python",
   "pygments_lexer": "ipython3",
   "version": "3.10.1"
  }
 },
 "nbformat": 4,
 "nbformat_minor": 5
}
