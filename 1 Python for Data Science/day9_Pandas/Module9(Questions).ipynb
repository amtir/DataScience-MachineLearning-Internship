{
  "cells": [
    {
      "cell_type": "code",
      "execution_count": null,
      "id": "69381cc7-14e0-4e12-b599-8a36ef5f3daa",
      "metadata": {
        "id": "69381cc7-14e0-4e12-b599-8a36ef5f3daa",
        "outputId": "298aa2ec-ff4a-459c-8ca2-12b03aed74c8"
      },
      "outputs": [
        {
          "name": "stdout",
          "output_type": "stream",
          "text": [
            "0    13\n",
            "1    -5\n",
            "2     7\n",
            "3    19\n",
            "dtype: int64\n"
          ]
        }
      ],
      "source": [
        "#Question 1\n",
        "import numpy as np\n",
        "import pandas as pd\n",
        "x = [13,-5,7,19]\n",
        "s = pd.Series(x)\n",
        "print(s)"
      ]
    },
    {
      "cell_type": "code",
      "execution_count": null,
      "id": "72148f1a-a1c9-4512-bc8d-9d9bc2459835",
      "metadata": {
        "id": "72148f1a-a1c9-4512-bc8d-9d9bc2459835",
        "outputId": "931500c6-044b-496c-b7c9-00663e8876f4"
      },
      "outputs": [
        {
          "name": "stdout",
          "output_type": "stream",
          "text": [
            "a    23.0\n",
            "b     3.0\n",
            "c     7.0\n",
            "d    11.0\n",
            "dtype: float64\n"
          ]
        }
      ],
      "source": [
        "arr = np.array([23,3.0,7,11])\n",
        "s1 = pd.Series(arr,index=['a','b','c','d'])\n",
        "print(s1)"
      ]
    },
    {
      "cell_type": "code",
      "execution_count": null,
      "id": "8cb99138-7a08-4977-8945-8f8098d3299a",
      "metadata": {
        "id": "8cb99138-7a08-4977-8945-8f8098d3299a",
        "outputId": "fbd9ddff-3fdf-40bd-c2af-52ca85bf4550"
      },
      "outputs": [
        {
          "data": {
            "text/plain": [
              "array([13, -5,  7, 19], dtype=int64)"
            ]
          },
          "execution_count": 47,
          "metadata": {},
          "output_type": "execute_result"
        }
      ],
      "source": [
        "s.values"
      ]
    },
    {
      "cell_type": "code",
      "execution_count": null,
      "id": "383665b9-9106-410d-942e-9b17b6367eca",
      "metadata": {
        "id": "383665b9-9106-410d-942e-9b17b6367eca",
        "outputId": "5573948c-5d00-49cf-ea72-4e2d4b71a088"
      },
      "outputs": [
        {
          "data": {
            "text/plain": [
              "array([23.,  3.,  7., 11.])"
            ]
          },
          "execution_count": 49,
          "metadata": {},
          "output_type": "execute_result"
        }
      ],
      "source": [
        "s1.values"
      ]
    },
    {
      "cell_type": "code",
      "execution_count": null,
      "id": "c82a77e0-4d79-49ae-a8de-489dcd8baf1a",
      "metadata": {
        "id": "c82a77e0-4d79-49ae-a8de-489dcd8baf1a",
        "outputId": "8b3a2a7f-5af4-4389-b6a4-5f9a8028e15d"
      },
      "outputs": [
        {
          "data": {
            "text/plain": [
              "RangeIndex(start=0, stop=4, step=1)"
            ]
          },
          "execution_count": 51,
          "metadata": {},
          "output_type": "execute_result"
        }
      ],
      "source": [
        "s.index"
      ]
    },
    {
      "cell_type": "code",
      "execution_count": null,
      "id": "cc6137a6-88a3-430c-8408-262d3a06169d",
      "metadata": {
        "id": "cc6137a6-88a3-430c-8408-262d3a06169d",
        "outputId": "e632f241-657a-4821-c12e-4d0a20f6b058"
      },
      "outputs": [
        {
          "data": {
            "text/plain": [
              "Index(['a', 'b', 'c', 'd'], dtype='object')"
            ]
          },
          "execution_count": 53,
          "metadata": {},
          "output_type": "execute_result"
        }
      ],
      "source": [
        "s1.index"
      ]
    },
    {
      "cell_type": "code",
      "execution_count": null,
      "id": "191f2eee-2fdd-4e50-a12e-69926dd29320",
      "metadata": {
        "id": "191f2eee-2fdd-4e50-a12e-69926dd29320",
        "outputId": "dce11a1b-4d66-4641-f642-d3c6d562e779"
      },
      "outputs": [
        {
          "name": "stdout",
          "output_type": "stream",
          "text": [
            "23.0\n",
            "3.0\n",
            "7.0\n",
            "11.0\n"
          ]
        }
      ],
      "source": [
        "print(s1['a'])  # Output: 23.0\n",
        "print(s1['b'])  # Output: 3.0\n",
        "print(s1['c'])  # Output: 7.0\n",
        "print(s1['d'])  # Output: 11.0"
      ]
    },
    {
      "cell_type": "code",
      "execution_count": null,
      "id": "ff6294c7-5bfa-4612-8d2f-762222559bd6",
      "metadata": {
        "id": "ff6294c7-5bfa-4612-8d2f-762222559bd6",
        "outputId": "3f6eab4f-e10b-4d6a-d949-3687a704fccc"
      },
      "outputs": [
        {
          "name": "stdout",
          "output_type": "stream",
          "text": [
            "56.0\n"
          ]
        }
      ],
      "source": [
        "s1['a'] = 56\n",
        "print(s1['a'])"
      ]
    },
    {
      "cell_type": "code",
      "execution_count": null,
      "id": "c860d8c2-cc13-4f43-86cf-536b7da2758a",
      "metadata": {
        "id": "c860d8c2-cc13-4f43-86cf-536b7da2758a",
        "outputId": "32ce3fa5-504c-48a1-bd25-d9d31ae780b7"
      },
      "outputs": [
        {
          "name": "stdout",
          "output_type": "stream",
          "text": [
            "a    56.0\n",
            "b     3.0\n",
            "c     7.0\n",
            "d    11.0\n",
            "dtype: float64\n"
          ]
        }
      ],
      "source": [
        "print(s1)"
      ]
    },
    {
      "cell_type": "code",
      "execution_count": null,
      "id": "6cee1a32-6615-4f54-a35b-457ac67b8bc1",
      "metadata": {
        "id": "6cee1a32-6615-4f54-a35b-457ac67b8bc1",
        "outputId": "e2b76edf-2eae-4f0c-83b6-c6ba8e9d1de9"
      },
      "outputs": [
        {
          "name": "stdout",
          "output_type": "stream",
          "text": [
            "0    Amit\n",
            "1     Bob\n",
            "2    Kate\n",
            "3       A\n",
            "4       b\n",
            "5     NaN\n",
            "6     Car\n",
            "7     dog\n",
            "8     cat\n",
            "dtype: object\n"
          ]
        }
      ],
      "source": [
        "#Quetsion 2\n",
        "data = ['Amit','Bob','Kate','A','b',np.nan,'Car','dog','cat']\n",
        "s3=pd.Series(data)\n",
        "print(s3)"
      ]
    },
    {
      "cell_type": "code",
      "execution_count": null,
      "id": "281cb7aa-2f62-4912-b416-42415e387b98",
      "metadata": {
        "id": "281cb7aa-2f62-4912-b416-42415e387b98",
        "outputId": "575f6fff-5823-49f9-f428-c518d400c053"
      },
      "outputs": [
        {
          "name": "stdout",
          "output_type": "stream",
          "text": [
            "0    amit\n",
            "1     bob\n",
            "2    kate\n",
            "3       a\n",
            "4       b\n",
            "5     NaN\n",
            "6     car\n",
            "7     dog\n",
            "8     cat\n",
            "dtype: object\n"
          ]
        }
      ],
      "source": [
        "print(s3.str.lower())"
      ]
    },
    {
      "cell_type": "code",
      "execution_count": null,
      "id": "e5589f09-d18b-4b13-b096-a1493036baf4",
      "metadata": {
        "id": "e5589f09-d18b-4b13-b096-a1493036baf4",
        "outputId": "1c5c186f-0695-41a5-f940-dfa57ceb1461"
      },
      "outputs": [
        {
          "name": "stdout",
          "output_type": "stream",
          "text": [
            "0    AMIT\n",
            "1     BOB\n",
            "2    KATE\n",
            "3       A\n",
            "4       B\n",
            "5     NaN\n",
            "6     CAR\n",
            "7     DOG\n",
            "8     CAT\n",
            "dtype: object\n"
          ]
        }
      ],
      "source": [
        "print(s3.str.upper())"
      ]
    },
    {
      "cell_type": "code",
      "execution_count": null,
      "id": "5817c59d-016f-46b6-a43c-285466d7bc48",
      "metadata": {
        "id": "5817c59d-016f-46b6-a43c-285466d7bc48",
        "outputId": "995c1657-c682-436b-bd43-e853a84d3ffb"
      },
      "outputs": [
        {
          "name": "stdout",
          "output_type": "stream",
          "text": [
            "0    4.0\n",
            "1    3.0\n",
            "2    4.0\n",
            "3    1.0\n",
            "4    1.0\n",
            "5    NaN\n",
            "6    3.0\n",
            "7    3.0\n",
            "8    3.0\n",
            "dtype: float64\n"
          ]
        }
      ],
      "source": [
        "print(s3.str.len())"
      ]
    },
    {
      "cell_type": "code",
      "execution_count": null,
      "id": "e0a173c6-6c83-4c28-b4d4-f4ebe4f3ef3b",
      "metadata": {
        "id": "e0a173c6-6c83-4c28-b4d4-f4ebe4f3ef3b",
        "outputId": "5fcf3b02-2cd3-4863-8588-1f4e4ccffbd5"
      },
      "outputs": [
        {
          "name": "stdout",
          "output_type": "stream",
          "text": [
            "0      Arya\n",
            "1     John \n",
            "2      jack\n",
            "3       Sam\n",
            "dtype: object\n"
          ]
        }
      ],
      "source": [
        "#Question 3\n",
        "data = ['Arya',' John ',' jack','Sam']\n",
        "s4 = pd.Series(data)\n",
        "print(s4)"
      ]
    },
    {
      "cell_type": "code",
      "execution_count": null,
      "id": "b9d714bc-1993-4d2c-942a-008f7ccbd94b",
      "metadata": {
        "id": "b9d714bc-1993-4d2c-942a-008f7ccbd94b",
        "outputId": "b776d479-c733-4fca-d0e4-9b3c7a122851"
      },
      "outputs": [
        {
          "name": "stdout",
          "output_type": "stream",
          "text": [
            "0    Arya\n",
            "1    John\n",
            "2    jack\n",
            "3     Sam\n",
            "dtype: object\n"
          ]
        }
      ],
      "source": [
        "print(s4.str.strip()) # removed the extra spaces from the left and right of each string in the Series."
      ]
    },
    {
      "cell_type": "code",
      "execution_count": null,
      "id": "1382e45d-f20b-4f70-b294-5f3620992e44",
      "metadata": {
        "id": "1382e45d-f20b-4f70-b294-5f3620992e44",
        "outputId": "bd2a8a8e-3527-4938-8900-d41f3e9c1bfc"
      },
      "outputs": [
        {
          "name": "stdout",
          "output_type": "stream",
          "text": [
            "0     Arya\n",
            "1    John \n",
            "2     jack\n",
            "3      Sam\n",
            "dtype: object\n"
          ]
        }
      ],
      "source": [
        "print(s4.str.lstrip()) # removed the extra spaces from the left side of each string while preserving the spaces on the right side."
      ]
    },
    {
      "cell_type": "code",
      "execution_count": null,
      "id": "f6f01426-a630-4f2b-9135-43ef067c8dac",
      "metadata": {
        "id": "f6f01426-a630-4f2b-9135-43ef067c8dac",
        "outputId": "63281db4-e3ea-48d6-c5ef-50b982147b05"
      },
      "outputs": [
        {
          "name": "stdout",
          "output_type": "stream",
          "text": [
            "0     Arya\n",
            "1     John\n",
            "2     jack\n",
            "3      Sam\n",
            "dtype: object\n"
          ]
        }
      ],
      "source": [
        "print(s4.str.rstrip()) ## removed the extra spaces from the right side of each string while preserving the spaces on the left side."
      ]
    },
    {
      "cell_type": "code",
      "execution_count": null,
      "id": "efc8b8a8-c15a-4a9a-bd25-b3ef8a7932ce",
      "metadata": {
        "id": "efc8b8a8-c15a-4a9a-bd25-b3ef8a7932ce"
      },
      "outputs": [],
      "source": []
    }
  ],
  "metadata": {
    "kernelspec": {
      "display_name": "Python 3 (ipykernel)",
      "language": "python",
      "name": "python3"
    },
    "language_info": {
      "codemirror_mode": {
        "name": "ipython",
        "version": 3
      },
      "file_extension": ".py",
      "mimetype": "text/x-python",
      "name": "python",
      "nbconvert_exporter": "python",
      "pygments_lexer": "ipython3",
      "version": "3.12.4"
    },
    "colab": {
      "provenance": []
    }
  },
  "nbformat": 4,
  "nbformat_minor": 5
}