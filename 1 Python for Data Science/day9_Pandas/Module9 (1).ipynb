{
  "nbformat": 4,
  "nbformat_minor": 0,
  "metadata": {
    "colab": {
      "provenance": []
    },
    "kernelspec": {
      "name": "python3",
      "display_name": "Python 3"
    },
    "language_info": {
      "name": "python"
    }
  },
  "cells": [
    {
      "cell_type": "code",
      "execution_count": 1,
      "metadata": {
        "id": "qgDahKi3TJRT"
      },
      "outputs": [],
      "source": [
        "import numpy as np\n",
        "array = np.array([[1,2,3],[5,6,7],[7,9,6]])"
      ]
    },
    {
      "cell_type": "code",
      "source": [
        "result = np.vsplit(array,3)\n",
        "print(result)"
      ],
      "metadata": {
        "colab": {
          "base_uri": "https://localhost:8080/"
        },
        "id": "b1JR3G_9f8rZ",
        "outputId": "91e9593a-31d9-4910-f103-7b347e2abba6"
      },
      "execution_count": 6,
      "outputs": [
        {
          "output_type": "stream",
          "name": "stdout",
          "text": [
            "[array([[1, 2, 3]]), array([[5, 6, 7]]), array([[7, 9, 6]])]\n"
          ]
        }
      ]
    },
    {
      "cell_type": "code",
      "source": [
        "!pip install pandas"
      ],
      "metadata": {
        "colab": {
          "base_uri": "https://localhost:8080/"
        },
        "id": "K4Od0hj8gJNn",
        "outputId": "b48fa7be-cfbc-4246-abff-552f4bf20282"
      },
      "execution_count": 7,
      "outputs": [
        {
          "output_type": "stream",
          "name": "stdout",
          "text": [
            "Requirement already satisfied: pandas in /usr/local/lib/python3.10/dist-packages (2.2.2)\n",
            "Requirement already satisfied: numpy>=1.22.4 in /usr/local/lib/python3.10/dist-packages (from pandas) (1.26.4)\n",
            "Requirement already satisfied: python-dateutil>=2.8.2 in /usr/local/lib/python3.10/dist-packages (from pandas) (2.8.2)\n",
            "Requirement already satisfied: pytz>=2020.1 in /usr/local/lib/python3.10/dist-packages (from pandas) (2024.2)\n",
            "Requirement already satisfied: tzdata>=2022.7 in /usr/local/lib/python3.10/dist-packages (from pandas) (2024.2)\n",
            "Requirement already satisfied: six>=1.5 in /usr/local/lib/python3.10/dist-packages (from python-dateutil>=2.8.2->pandas) (1.16.0)\n"
          ]
        }
      ]
    },
    {
      "cell_type": "code",
      "source": [
        "import pandas as pd\n",
        "import numpy as np\n",
        "\n",
        "#Numpy ndarrays\n",
        "array = np.array([1,2,3,4,5])\n",
        "ser1 = pd.Series(array)\n",
        "print(ser1)"
      ],
      "metadata": {
        "colab": {
          "base_uri": "https://localhost:8080/"
        },
        "id": "5l7hX45vpkKD",
        "outputId": "3ae0d4fa-be2b-422f-b9f4-6601fc15e83f"
      },
      "execution_count": 8,
      "outputs": [
        {
          "output_type": "stream",
          "name": "stdout",
          "text": [
            "0    1\n",
            "1    2\n",
            "2    3\n",
            "3    4\n",
            "4    5\n",
            "dtype: int64\n"
          ]
        }
      ]
    },
    {
      "cell_type": "code",
      "source": [
        "#creating a series from a dictionary\n",
        "\n",
        "dict1 = {'a':10,'b':20,'c':30}\n",
        "ser2 = pd.Series(dict1)\n",
        "print(ser2)"
      ],
      "metadata": {
        "colab": {
          "base_uri": "https://localhost:8080/"
        },
        "id": "Qmyk2ygBqvrC",
        "outputId": "20102d89-ce22-4712-f329-8325a066ed3f"
      },
      "execution_count": 9,
      "outputs": [
        {
          "output_type": "stream",
          "name": "stdout",
          "text": [
            "a    10\n",
            "b    20\n",
            "c    30\n",
            "dtype: int64\n"
          ]
        }
      ]
    },
    {
      "cell_type": "code",
      "source": [
        "#creating series with scalar value\n",
        "\n",
        "sv = 5\n",
        "ser3 = pd.Series(sv,index = ['a','b'])\n",
        "print(ser3)"
      ],
      "metadata": {
        "colab": {
          "base_uri": "https://localhost:8080/"
        },
        "id": "KaOd8OskrNCg",
        "outputId": "b97c1de8-a7bd-4a5a-d894-c6a29d6d095d"
      },
      "execution_count": 11,
      "outputs": [
        {
          "output_type": "stream",
          "name": "stdout",
          "text": [
            "a    5\n",
            "b    5\n",
            "dtype: int64\n"
          ]
        }
      ]
    },
    {
      "cell_type": "code",
      "source": [
        "#Dataframes\n",
        "\n",
        "#create from list\n",
        "list1 = [['20kq1a6133','chakresh',20],['20kq1a6133','sujatha',18],['20kq1a6133','jasmin',22]]\n",
        "df = pd.DataFrame(list1,columns = ['roll_number','Name','Age'])\n",
        "print(df)"
      ],
      "metadata": {
        "colab": {
          "base_uri": "https://localhost:8080/"
        },
        "id": "leHFF5Jtrhz8",
        "outputId": "b8805b48-6dcd-4a43-d168-9c8a90cf7ee2"
      },
      "execution_count": 15,
      "outputs": [
        {
          "output_type": "stream",
          "name": "stdout",
          "text": [
            "  roll_number      Name  Age\n",
            "0  20kq1a6133  chakresh   20\n",
            "1  20kq1a6133   sujatha   18\n",
            "2  20kq1a6133    jasmin   22\n"
          ]
        }
      ]
    },
    {
      "cell_type": "code",
      "source": [
        "#create from a list of dictionaries\n",
        "\n",
        "dict2 = [{'a':1,'b':2},{'a':5,'b':10,'c':20}]\n",
        "df2 = pd.DataFrame(dict2)\n",
        "print(df2)"
      ],
      "metadata": {
        "colab": {
          "base_uri": "https://localhost:8080/"
        },
        "id": "dhHvjjdJsHDy",
        "outputId": "21ce8352-13db-43e7-ad8c-00c6072f382e"
      },
      "execution_count": 13,
      "outputs": [
        {
          "output_type": "stream",
          "name": "stdout",
          "text": [
            "   a   b     c\n",
            "0  1   2   NaN\n",
            "1  5  10  20.0\n"
          ]
        }
      ]
    },
    {
      "cell_type": "code",
      "source": [
        "#Creating from dictionary of series\n",
        "\n",
        "dict3 = {'one':pd.Series([1,2,3],index = ['a','b','c']),'two':pd.Series([1,2,3,4],index = ['a','b','c','d'])}\n",
        "df3 = pd.DataFrame(dict3)\n",
        "print(df3)"
      ],
      "metadata": {
        "colab": {
          "base_uri": "https://localhost:8080/"
        },
        "id": "mnYKgU-RsZcd",
        "outputId": "2867bb7f-a3ee-4e68-edc7-9d269b70b972"
      },
      "execution_count": 16,
      "outputs": [
        {
          "output_type": "stream",
          "name": "stdout",
          "text": [
            "   one  two\n",
            "a  1.0    1\n",
            "b  2.0    2\n",
            "c  3.0    3\n",
            "d  NaN    4\n"
          ]
        }
      ]
    },
    {
      "cell_type": "code",
      "source": [
        "import pandas as pd\n",
        "\n",
        "df = pd.read_csv('/content/data.csv')\n",
        "print(df)"
      ],
      "metadata": {
        "colab": {
          "base_uri": "https://localhost:8080/"
        },
        "id": "_rlZmLoitX38",
        "outputId": "25aac605-21c7-4811-8f9c-82e947da6e89"
      },
      "execution_count": 18,
      "outputs": [
        {
          "output_type": "stream",
          "name": "stdout",
          "text": [
            "      ID       Value     Name\n",
            "0   2434   4627128.0      Jia\n",
            "1     45  53645677.0      Ria\n",
            "2   7547   6443543.0    Aryan\n",
            "3    546    343646.0      NaN\n",
            "4  36456  64353253.0     Maya\n",
            "5     35    543646.0     John\n",
            "6    436   3543655.0  Creeper\n",
            "7  65465         NaN      Jay\n",
            "8  46456     64677.0     Soni\n"
          ]
        }
      ]
    },
    {
      "cell_type": "code",
      "source": [
        "df3.to_csv('output.csv')"
      ],
      "metadata": {
        "id": "dJfSQCwEvQmZ"
      },
      "execution_count": 19,
      "outputs": []
    },
    {
      "cell_type": "code",
      "source": [
        "data = [10,20,30,40,50]\n",
        "index= ['a','b','c','d','e']\n",
        "ser = pd.Series(data,index)\n",
        "print(ser)"
      ],
      "metadata": {
        "colab": {
          "base_uri": "https://localhost:8080/"
        },
        "id": "wciHV5KyxFzp",
        "outputId": "8b2dba3d-9557-4e94-bd86-92c158b43b41"
      },
      "execution_count": 22,
      "outputs": [
        {
          "output_type": "stream",
          "name": "stdout",
          "text": [
            "a    10\n",
            "b    20\n",
            "c    30\n",
            "d    40\n",
            "e    50\n",
            "dtype: int64\n"
          ]
        }
      ]
    },
    {
      "cell_type": "code",
      "source": [
        "#series properties\n",
        "\n",
        "#values\n",
        "print(ser.values)"
      ],
      "metadata": {
        "colab": {
          "base_uri": "https://localhost:8080/"
        },
        "id": "s5eta4MSwcJ0",
        "outputId": "612a2c5f-5abe-4dcd-b2ce-c011dc960df8"
      },
      "execution_count": 23,
      "outputs": [
        {
          "output_type": "stream",
          "name": "stdout",
          "text": [
            "[10 20 30 40 50]\n"
          ]
        }
      ]
    },
    {
      "cell_type": "code",
      "source": [
        "#index\n",
        "print(ser.index)"
      ],
      "metadata": {
        "colab": {
          "base_uri": "https://localhost:8080/"
        },
        "id": "By4pJdfiwtSw",
        "outputId": "bf077e2f-3dc1-4627-bdc5-de05bae13d2c"
      },
      "execution_count": 24,
      "outputs": [
        {
          "output_type": "stream",
          "name": "stdout",
          "text": [
            "Index(['a', 'b', 'c', 'd', 'e'], dtype='object')\n"
          ]
        }
      ]
    },
    {
      "cell_type": "code",
      "source": [
        "#size\n",
        "print(ser.size)"
      ],
      "metadata": {
        "colab": {
          "base_uri": "https://localhost:8080/"
        },
        "id": "nchZwguDxoBE",
        "outputId": "90e59554-4894-4ff7-bbf7-749f0d59c15a"
      },
      "execution_count": 25,
      "outputs": [
        {
          "output_type": "stream",
          "name": "stdout",
          "text": [
            "5\n"
          ]
        }
      ]
    },
    {
      "cell_type": "code",
      "source": [
        "#shape\n",
        "\n",
        "print(ser.shape)"
      ],
      "metadata": {
        "colab": {
          "base_uri": "https://localhost:8080/"
        },
        "id": "v5CLqz18xsV4",
        "outputId": "4535aa00-6227-4afa-cc36-064dc4106f5a"
      },
      "execution_count": 26,
      "outputs": [
        {
          "output_type": "stream",
          "name": "stdout",
          "text": [
            "(5,)\n"
          ]
        }
      ]
    },
    {
      "cell_type": "code",
      "source": [],
      "metadata": {
        "id": "sx6WALGlxxZK"
      },
      "execution_count": null,
      "outputs": []
    }
  ]
}