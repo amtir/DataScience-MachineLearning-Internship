{
 "cells": [
  {
   "cell_type": "code",
   "execution_count": 1,
   "id": "fca7eae9-a357-4039-a3e0-c5ad03cf733f",
   "metadata": {},
   "outputs": [],
   "source": [
    "# Module 8: NumPy Array manipulation "
   ]
  },
  {
   "cell_type": "code",
   "execution_count": 9,
   "id": "06c522ce-48e7-4ca2-a1c2-00937295a486",
   "metadata": {},
   "outputs": [],
   "source": [
    "import numpy as np"
   ]
  },
  {
   "cell_type": "code",
   "execution_count": 10,
   "id": "7ccab7bc-2324-4e10-a171-104243d908de",
   "metadata": {},
   "outputs": [
    {
     "name": "stdout",
     "output_type": "stream",
     "text": [
      "[ 0  1  2  3  4  5  6  7  8  9 10 11 12 13 14 15 16 17 18 19]\n",
      "[[ 0  1  2  3  4]\n",
      " [ 5  6  7  8  9]\n",
      " [10 11 12 13 14]\n",
      " [15 16 17 18 19]]\n",
      "[[ 0  5 10 15]\n",
      " [ 1  6 11 16]\n",
      " [ 2  7 12 17]\n",
      " [ 3  8 13 18]\n",
      " [ 4  9 14 19]]\n",
      "[[  30   80  130  180]\n",
      " [  80  255  430  605]\n",
      " [ 130  430  730 1030]\n",
      " [ 180  605 1030 1455]]\n"
     ]
    }
   ],
   "source": [
    "# Q1 Array manuipulation\n",
    "a=np.arange(20)\n",
    "print(a)\n",
    "b=a.reshape(4,5)\n",
    "print(b)\n",
    "c=b.T\n",
    "print(c)\n",
    "print(np.dot(b,c))"
   ]
  },
  {
   "cell_type": "code",
   "execution_count": 11,
   "id": "bef0a51a-aed0-4508-b96c-8f661c6a67ae",
   "metadata": {},
   "outputs": [
    {
     "name": "stdout",
     "output_type": "stream",
     "text": [
      "The first array: [[1 2]\n",
      " [3 4]]\n",
      "The second array: [[5 6]\n",
      " [7 8]]\n",
      "hstack \n",
      "[[1 2 5 6]\n",
      " [3 4 7 8]]\n",
      "vstack \n",
      "[[1 2]\n",
      " [3 4]\n",
      " [5 6]\n",
      " [7 8]]\n",
      "[1 2 3 4 5 6 7 8]\n"
     ]
    },
    {
     "data": {
      "text/plain": [
       "[array([1, 2]), array([3, 4]), array([5, 6]), array([7, 8])]"
      ]
     },
     "execution_count": 11,
     "metadata": {},
     "output_type": "execute_result"
    }
   ],
   "source": [
    "# Q2 Array Manipulation Stacking\n",
    "d=np.arange(1,5).reshape(2,2)\n",
    "e=np.arange(5,9).reshape(2,2)\n",
    "print(f\"The first array: {d}\")\n",
    "print(f\"The second array: {e}\")\n",
    "h=np.hstack((d,e))\n",
    "print(\"hstack \")\n",
    "print(h)\n",
    "i=np.vstack((d,e))\n",
    "print(\"vstack \")\n",
    "print(i)\n",
    "j=i.ravel()\n",
    "print(j)\n",
    "np.split(j,4)\n"
   ]
  },
  {
   "cell_type": "code",
   "execution_count": 5,
   "id": "586d5235-7ad9-4994-82cc-c215e95a36a6",
   "metadata": {},
   "outputs": [
    {
     "name": "stdout",
     "output_type": "stream",
     "text": [
      "1\n",
      "2\n",
      "3\n",
      "4\n",
      "5\n",
      "6\n",
      "7\n",
      "8\n"
     ]
    }
   ],
   "source": [
    "for l in np.nditer(j):\n",
    "    print(l)\n",
    "    "
   ]
  },
  {
   "cell_type": "code",
   "execution_count": 6,
   "id": "9c97f97e-9574-4a64-a7bb-74c681655b55",
   "metadata": {},
   "outputs": [
    {
     "name": "stdout",
     "output_type": "stream",
     "text": [
      "[27, 25, 23, 21]\n",
      "26\n"
     ]
    }
   ],
   "source": [
    "a = [21,22,23, 24, 25, 26,27]\n",
    "print(a[::-2])\n",
    "print(a[-2])"
   ]
  },
  {
   "cell_type": "code",
   "execution_count": 7,
   "id": "98140366-15d8-4711-a8ea-865af88d3905",
   "metadata": {},
   "outputs": [
    {
     "name": "stdout",
     "output_type": "stream",
     "text": [
      "[[[ 1  2  3]\n",
      "  [ 4  5  6]\n",
      "  [ 7  8  9]]\n",
      "\n",
      " [[10 11 12]\n",
      "  [13 14 15]\n",
      "  [16 17 18]]\n",
      "\n",
      " [[19 20 21]\n",
      "  [22 23 24]\n",
      "  [25 26 27]]]\n"
     ]
    }
   ],
   "source": [
    "import numpy as np \n",
    "b=np.arange(1,28,1).reshape(3,3,3)\n",
    "print(b)"
   ]
  },
  {
   "cell_type": "code",
   "execution_count": 8,
   "id": "7e132848-7d5f-424e-8c2f-31976333fc0c",
   "metadata": {},
   "outputs": [
    {
     "name": "stdout",
     "output_type": "stream",
     "text": [
      "<class 'numpy.ndarray'> [[1 2]\n",
      " [5 6]]\n"
     ]
    },
    {
     "ename": "TypeError",
     "evalue": "only integer scalar arrays can be converted to a scalar index",
     "output_type": "error",
     "traceback": [
      "\u001b[1;31m---------------------------------------------------------------------------\u001b[0m",
      "\u001b[1;31mTypeError\u001b[0m                                 Traceback (most recent call last)",
      "Cell \u001b[1;32mIn[8], line 4\u001b[0m\n\u001b[0;32m      2\u001b[0m ind \u001b[38;5;241m=\u001b[39m np\u001b[38;5;241m.\u001b[39marray([[\u001b[38;5;241m1\u001b[39m,\u001b[38;5;241m2\u001b[39m],[\u001b[38;5;241m5\u001b[39m,\u001b[38;5;241m6\u001b[39m]])\n\u001b[0;32m      3\u001b[0m \u001b[38;5;28mprint\u001b[39m(\u001b[38;5;28mtype\u001b[39m(ind), ind)\n\u001b[1;32m----> 4\u001b[0m \u001b[38;5;28mprint\u001b[39m(\u001b[43ma\u001b[49m\u001b[43m[\u001b[49m\u001b[43mind\u001b[49m\u001b[43m]\u001b[49m)\n",
      "\u001b[1;31mTypeError\u001b[0m: only integer scalar arrays can be converted to a scalar index"
     ]
    }
   ],
   "source": [
    "#fancy indexing \n",
    "ind = np.array([[1,2],[5,6]])\n",
    "print(type(ind), ind)\n",
    "print(a[ind])"
   ]
  },
  {
   "cell_type": "code",
   "execution_count": null,
   "id": "61e8299c-69b6-455e-b18b-95f343f3eec4",
   "metadata": {},
   "outputs": [],
   "source": [
    "#Slicing \n",
    "arr=np.arange(20)\n",
    "print(arr)\n",
    "s=slice(1,10,2)\n",
    "print(type(s), s)\n",
    "print(arr[s])"
   ]
  },
  {
   "cell_type": "code",
   "execution_count": 31,
   "id": "58a1c061-55f1-4789-a0f9-20637b9fa1ba",
   "metadata": {},
   "outputs": [
    {
     "name": "stdout",
     "output_type": "stream",
     "text": [
      "[ 0  1  2  3  4  5  6  7  8  9 10 11 12 13 14 15 16 17 18 19]\n",
      "[ 0  5 10 15]\n",
      "[ 0  1  2  3  4  5  6  7  8  9 10 11 12 13 14 15 16 17 18]\n",
      "[19 17 15 13 11  9  7  5  3  1]\n"
     ]
    }
   ],
   "source": [
    "print(a) \n",
    "print(a[::5])\n",
    "print(a[::-1])\n",
    "print(a[::-2])"
   ]
  },
  {
   "cell_type": "code",
   "execution_count": 46,
   "id": "fb88c052-83d3-459c-bc48-81787f8556d5",
   "metadata": {},
   "outputs": [
    {
     "name": "stdout",
     "output_type": "stream",
     "text": [
      "[[0 1 2 3 4]\n",
      " [5 6 7 8 9]]\n",
      "[[3 4]\n",
      " [8 9]]\n",
      "[[0 2 4]\n",
      " [5 7 9]]\n",
      "[[9 8 7 6 5]\n",
      " [4 3 2 1 0]]\n"
     ]
    }
   ],
   "source": [
    "m=np.arange(10).reshape(2,5)\n",
    "print(m)\n",
    "print(m[-2:,-2:])\n",
    "print(m[:,::2])\n",
    "print(m[::-1,::-1])"
   ]
  },
  {
   "cell_type": "code",
   "execution_count": 34,
   "id": "2edfd45a-0f67-4d1c-b8dc-eee3668f17ed",
   "metadata": {},
   "outputs": [
    {
     "name": "stdout",
     "output_type": "stream",
     "text": [
      "[[1 2]\n",
      " [3 4]]\n",
      "[[5 6]\n",
      " [7 8]]\n",
      "[1 2 3 4 5 6 7 8]\n",
      "[[1 2]\n",
      " [3 4]\n",
      " [5 6]\n",
      " [7 8]]\n",
      "[[1 2 5 6]\n",
      " [3 4 7 8]]\n"
     ]
    }
   ],
   "source": [
    "b=np.array([[1,2],[3,4]])\n",
    "c=np.array([[5,6],[7,8]])\n",
    "print(b)\n",
    "print(c)\n",
    "print(np.concatenate((b,c), axis=None))\n",
    "print(np.concatenate((b,c), axis=0)) # vertically\n",
    "print(np.concatenate((b,c), axis=1)) # Horizontally"
   ]
  },
  {
   "cell_type": "code",
   "execution_count": 35,
   "id": "0039880b-0199-416e-b7fb-feaaddf8c8ca",
   "metadata": {},
   "outputs": [
    {
     "data": {
      "text/plain": [
       "array([3, 7])"
      ]
     },
     "execution_count": 35,
     "metadata": {},
     "output_type": "execute_result"
    }
   ],
   "source": [
    "d=np.array([[9,9]])\n",
    "np.concatenate((b,d), axis=0)\n",
    "np.concatenate((b,d.T), axis=1)\n",
    "np.sum(b, axis=1)"
   ]
  },
  {
   "cell_type": "code",
   "execution_count": 36,
   "id": "fcb1dc76-43c2-4c02-b612-e00ad83dabd9",
   "metadata": {},
   "outputs": [
    {
     "name": "stdout",
     "output_type": "stream",
     "text": [
      "[1 2 3]\n",
      "[2 3 4]\n",
      "<class 'numpy.ndarray'>\n",
      "[1 2 3 2 3 4]\n"
     ]
    }
   ],
   "source": [
    "a=np.array((1,2,3))\n",
    "b=np.array((2,3,4))\n",
    "print(a)\n",
    "print(b)\n",
    "print(type(np.hstack((a,b))))\n",
    "print(np.hstack((a,b)))"
   ]
  },
  {
   "cell_type": "code",
   "execution_count": 37,
   "id": "86e77428-ff24-4a9c-ad77-47c5dbd2b5be",
   "metadata": {},
   "outputs": [
    {
     "name": "stdout",
     "output_type": "stream",
     "text": [
      "<class 'numpy.ndarray'>\n",
      "[[1 2 3]\n",
      " [2 3 4]]\n"
     ]
    }
   ],
   "source": [
    "print(type(np.vstack((a,b))))\n",
    "print(np.vstack((a,b)))"
   ]
  },
  {
   "cell_type": "code",
   "execution_count": 40,
   "id": "f86b75c5-32cb-4637-a631-93c3a5148ce9",
   "metadata": {},
   "outputs": [
    {
     "name": "stdout",
     "output_type": "stream",
     "text": [
      "<class 'numpy.ndarray'>\n",
      "<class 'list'>\n",
      "[array([0, 1, 2]), array([3, 4, 5]), array([6, 7, 8])]\n"
     ]
    }
   ],
   "source": [
    "x=np.arange(9)\n",
    "print(type(x))\n",
    "y=np.split(x,3)\n",
    "print(type(y))\n",
    "print(y)"
   ]
  },
  {
   "cell_type": "code",
   "execution_count": 46,
   "id": "4332a720-464b-458e-95fd-929a7c478ff8",
   "metadata": {},
   "outputs": [
    {
     "name": "stdout",
     "output_type": "stream",
     "text": [
      "u [[ 0  1  2  3]\n",
      " [ 4  5  6  7]\n",
      " [ 8  9 10 11]\n",
      " [12 13 14 15]]\n",
      "b [[ 0  1]\n",
      " [ 4  5]\n",
      " [ 8  9]\n",
      " [12 13]]\n",
      "c [[ 2  3]\n",
      " [ 6  7]\n",
      " [10 11]\n",
      " [14 15]]\n"
     ]
    }
   ],
   "source": [
    "u=np.arange(16).reshape((4,4))\n",
    "print(\"u\",u)\n",
    "[b,c]=np.hsplit(u,2)\n",
    "print(\"b\", b)\n",
    "print(\"c\", c)"
   ]
  },
  {
   "cell_type": "code",
   "execution_count": 48,
   "id": "389a237b-1eab-43c7-aa25-897ef292154c",
   "metadata": {},
   "outputs": [
    {
     "name": "stdout",
     "output_type": "stream",
     "text": [
      "b [[0 1 2 3]\n",
      " [4 5 6 7]]\n",
      "c [[ 8  9 10 11]\n",
      " [12 13 14 15]]\n"
     ]
    }
   ],
   "source": [
    "[b,c]=np.vsplit(u,2)\n",
    "print(\"b\", b)\n",
    "print(\"c\", c)"
   ]
  },
  {
   "cell_type": "code",
   "execution_count": 49,
   "id": "14843083-a679-46d1-a180-8ac24751ed18",
   "metadata": {},
   "outputs": [
    {
     "name": "stdout",
     "output_type": "stream",
     "text": [
      "b [1 2 3 4 5 6 7 8 9 0]\n"
     ]
    }
   ],
   "source": [
    "# File handling\n",
    "a=np.array([1,2,3,4,5,6,7,8,9,0])\n",
    "np.save('data.npy', a) \n",
    "\n",
    "b=np.load('data.npy')\n",
    "print(\"b\", b)"
   ]
  },
  {
   "cell_type": "code",
   "execution_count": 51,
   "id": "ef351299-40d6-4bee-9768-08ee14c8cc15",
   "metadata": {},
   "outputs": [
    {
     "name": "stdout",
     "output_type": "stream",
     "text": [
      "f NpzFile 'data.npz' with keys: a1, b1, c1, d1, e1 <class 'numpy.lib.npyio.NpzFile'>\n"
     ]
    }
   ],
   "source": [
    "b=np.array([1,2,3,4,5,6,7,8,9,1])\n",
    "c=np.array([1,2,3,4,5,6,7,8,9,2])\n",
    "d=np.array([1,2,3,4,5,6,7,8,9,3])\n",
    "e=np.array([1,2,3,4,5,6,7,8,9,4])\n",
    "np.savez('data.npz', a1=a,b1=b,c1=c,d1=d,e1=e)\n",
    "f=np.load('data.npz')\n",
    "print(\"f\", f, type(f)) \n"
   ]
  },
  {
   "cell_type": "code",
   "execution_count": 52,
   "id": "876cec64-a2e4-40b9-81ad-ed9fcd90b6ca",
   "metadata": {},
   "outputs": [
    {
     "data": {
      "text/plain": [
       "array([1, 2, 3, 4, 5, 6, 7, 8, 9, 1])"
      ]
     },
     "execution_count": 52,
     "metadata": {},
     "output_type": "execute_result"
    }
   ],
   "source": [
    "f['b1']"
   ]
  },
  {
   "cell_type": "code",
   "execution_count": 54,
   "id": "8e27296a-5d7b-43ce-82c8-11f4b011ccf7",
   "metadata": {},
   "outputs": [],
   "source": [
    "np.savetxt('data.txt', a, delimiter=',')"
   ]
  },
  {
   "cell_type": "code",
   "execution_count": 55,
   "id": "ff25bdc6-b651-445a-86f0-d1b8789f5d60",
   "metadata": {},
   "outputs": [
    {
     "name": "stdout",
     "output_type": "stream",
     "text": [
      "l [1. 2. 3. 4. 5. 6. 7. 8. 9. 0.] <class 'numpy.ndarray'>\n"
     ]
    }
   ],
   "source": [
    "l=np.loadtxt('data.txt', delimiter=',')\n",
    "print('l', l, type(l))"
   ]
  },
  {
   "cell_type": "code",
   "execution_count": 58,
   "id": "7496d86a-8601-43eb-a1bb-1f50997e42c5",
   "metadata": {},
   "outputs": [
    {
     "name": "stdout",
     "output_type": "stream",
     "text": [
      "o [1. 2. 3. 4. 5. 6. 7. 8. 9. 0.] <class 'numpy.ndarray'>\n"
     ]
    }
   ],
   "source": [
    "np.savetxt('data.csv', a, delimiter=',')\n",
    "o=np.loadtxt('data.csv', delimiter=',')\n",
    "print('o', o, type(o))"
   ]
  },
  {
   "cell_type": "code",
   "execution_count": 57,
   "id": "12e93ff8-cf90-47ff-a927-8958fd0f4473",
   "metadata": {},
   "outputs": [
    {
     "name": "stdout",
     "output_type": "stream",
     "text": [
      "m [1. 2. 3. 4. 5. 6. 7. 8. 9. 0.] <class 'numpy.ndarray'>\n"
     ]
    }
   ],
   "source": [
    "np.savetxt('data.xls', a, delimiter=',')\n",
    "m=np.loadtxt('data.xls', delimiter=',')\n",
    "print('m', m, type(m))"
   ]
  },
  {
   "cell_type": "code",
   "execution_count": 65,
   "id": "f8e8fb67-a0c1-43e0-8d7d-b92518b8020e",
   "metadata": {},
   "outputs": [
    {
     "name": "stdout",
     "output_type": "stream",
     "text": [
      "m [1. 2. 3. 4. 5. 6. 7. 8. 9. 0.] <class 'numpy.ndarray'>\n"
     ]
    }
   ],
   "source": [
    "np.savetxt('data.json', a)\n",
    "m=np.genfromtxt('data.json')\n",
    "print('m', m, type(m))"
   ]
  },
  {
   "cell_type": "code",
   "execution_count": 72,
   "id": "cdf7f349-9812-4595-b0a0-b1145f56bbfe",
   "metadata": {},
   "outputs": [
    {
     "data": {
      "text/plain": [
       "array([[ 1., nan,  3.],\n",
       "       [ 4.,  5.,  6.],\n",
       "       [ 7.,  8.,  9.],\n",
       "       [ 4., nan,  6.]])"
      ]
     },
     "execution_count": 72,
     "metadata": {},
     "output_type": "execute_result"
    }
   ],
   "source": [
    "data = np.array([[1,np.nan,3],[4,5,6],[7,8,9],[4,np.nan,6]])\n",
    "np.savetxt('data1.csv',data,delimiter=',')\n",
    "np.genfromtxt('data1.csv',delimiter=',',missing_values=\"np.nan\",filling_values= 1)"
   ]
  },
  {
   "cell_type": "code",
   "execution_count": 73,
   "id": "73554495-6709-42fc-aed9-7c0e451dcd3e",
   "metadata": {},
   "outputs": [
    {
     "name": "stdout",
     "output_type": "stream",
     "text": [
      "[[ 1. nan  3.]\n",
      " [ 4.  5.  6.]\n",
      " [ 7.  8.  9.]\n",
      " [ 4. nan  6.]]\n"
     ]
    }
   ],
   "source": [
    "loaded_data = np.genfromtxt('data1.csv', delimiter=',', missing_values=np.nan, filling_values=1)\n",
    "# Print the loaded data with NaN replaced\n",
    "print(loaded_data)"
   ]
  },
  {
   "cell_type": "code",
   "execution_count": 76,
   "id": "38c10467-7d44-4d0e-a2d4-5c1fd4456a4c",
   "metadata": {},
   "outputs": [
    {
     "name": "stdout",
     "output_type": "stream",
     "text": [
      "[[1. 0. 3.]\n",
      " [4. 5. 6.]\n",
      " [7. 8. 9.]\n",
      " [4. 0. 6.]]\n"
     ]
    }
   ],
   "source": [
    "import numpy as np\n",
    "\n",
    "# Create an array with NaN values\n",
    "data = np.array([[1, np.nan, 3], [4, 5, 6], [7, 8, 9], [4, np.nan, 6]])\n",
    "\n",
    "# Save the array to a CSV file\n",
    "np.savetxt('data1.csv', data, delimiter=',')\n",
    "\n",
    "# Load the data back, replacing empty fields (NaN) with 1\n",
    "loaded_data = np.genfromtxt('data1.csv', delimiter=',')\n",
    "\n",
    "# Replace NaN values with 1\n",
    "loaded_data = np.nan_to_num(loaded_data, nan=0)\n",
    "\n",
    "# Print the updated data\n",
    "print(loaded_data)\n"
   ]
  },
  {
   "cell_type": "code",
   "execution_count": null,
   "id": "eecb2066-4c30-4764-aeea-d697c8b3b934",
   "metadata": {},
   "outputs": [],
   "source": []
  }
 ],
 "metadata": {
  "kernelspec": {
   "display_name": "Python 3 (ipykernel)",
   "language": "python",
   "name": "python3"
  },
  "language_info": {
   "codemirror_mode": {
    "name": "ipython",
    "version": 3
   },
   "file_extension": ".py",
   "mimetype": "text/x-python",
   "name": "python",
   "nbconvert_exporter": "python",
   "pygments_lexer": "ipython3",
   "version": "3.10.1"
  }
 },
 "nbformat": 4,
 "nbformat_minor": 5
}
