{
 "cells": [
  {
   "cell_type": "code",
   "execution_count": 24,
   "id": "26db0666-eaf1-408c-860f-b6cafc4844d2",
   "metadata": {},
   "outputs": [],
   "source": [
    "import numpy as np  #package"
   ]
  },
  {
   "cell_type": "code",
   "execution_count": 26,
   "id": "37960469-9acb-4f7a-ac1d-65bc085d0cdf",
   "metadata": {},
   "outputs": [
    {
     "name": "stdout",
     "output_type": "stream",
     "text": [
      "[[0.7146867  0.67572853 0.33519366]\n",
      " [0.96815033 0.41354444 0.48543938]\n",
      " [0.38415944 0.85456534 0.89052332]]\n"
     ]
    }
   ],
   "source": [
    "random_array = np.random.rand(3,3)\n",
    "#3*3 array of random floats between 0 and 1\n",
    "np.sum(random_array)\n",
    "print(random_array)"
   ]
  },
  {
   "cell_type": "code",
   "execution_count": null,
   "id": "0a676ca5-c001-4f80-959f-cb1149f8f8db",
   "metadata": {},
   "outputs": [],
   "source": [
    "#import staements"
   ]
  },
  {
   "cell_type": "code",
   "execution_count": 28,
   "id": "8c531d51-a24a-4464-b170-927b6cd8e10e",
   "metadata": {},
   "outputs": [
    {
     "name": "stdout",
     "output_type": "stream",
     "text": [
      "4.0\n"
     ]
    }
   ],
   "source": [
    "#import a specific function\n",
    "from math import sqrt\n",
    "print(sqrt(16))"
   ]
  },
  {
   "cell_type": "code",
   "execution_count": 30,
   "id": "7229f296-41c3-44d8-9515-8d504f999644",
   "metadata": {},
   "outputs": [
    {
     "name": "stdout",
     "output_type": "stream",
     "text": [
      "[1 2 3 4]\n"
     ]
    }
   ],
   "source": [
    "#import a package or module with alias\n",
    "\n",
    "import numpy as np\n",
    "array = np.array([1,2,3,4])\n",
    "print(array)"
   ]
  },
  {
   "cell_type": "code",
   "execution_count": 32,
   "id": "819e2273-7bb9-4f0b-80e5-2ade2266728d",
   "metadata": {},
   "outputs": [
    {
     "name": "stdout",
     "output_type": "stream",
     "text": [
      "6.708203932499369\n"
     ]
    }
   ],
   "source": [
    "#whole module\n",
    "\n",
    "import math \n",
    "result = math.sqrt(45)\n",
    "print(result)"
   ]
  },
  {
   "cell_type": "code",
   "execution_count": 34,
   "id": "3816cd79-7670-4e62-95b6-d88849855211",
   "metadata": {},
   "outputs": [],
   "source": [
    "#import everything present in module or package\n",
    "\n",
    "from math import*"
   ]
  },
  {
   "cell_type": "code",
   "execution_count": 36,
   "id": "66f8603d-4da6-4bf4-b942-0983c7c3d68f",
   "metadata": {},
   "outputs": [],
   "source": [
    "#import a function from a submodule\n",
    "\n",
    "from numpy.random import rand"
   ]
  },
  {
   "cell_type": "code",
   "execution_count": 38,
   "id": "af14364b-72ed-43e9-b019-d51d5dda8159",
   "metadata": {},
   "outputs": [
    {
     "name": "stdout",
     "output_type": "stream",
     "text": [
      "['__doc__', '__loader__', '__name__', '__package__', '__spec__', 'acos', 'acosh', 'asin', 'asinh', 'atan', 'atan2', 'atanh', 'cbrt', 'ceil', 'comb', 'copysign', 'cos', 'cosh', 'degrees', 'dist', 'e', 'erf', 'erfc', 'exp', 'exp2', 'expm1', 'fabs', 'factorial', 'floor', 'fmod', 'frexp', 'fsum', 'gamma', 'gcd', 'hypot', 'inf', 'isclose', 'isfinite', 'isinf', 'isnan', 'isqrt', 'lcm', 'ldexp', 'lgamma', 'log', 'log10', 'log1p', 'log2', 'modf', 'nan', 'nextafter', 'perm', 'pi', 'pow', 'prod', 'radians', 'remainder', 'sin', 'sinh', 'sqrt', 'sumprod', 'tan', 'tanh', 'tau', 'trunc', 'ulp']\n"
     ]
    }
   ],
   "source": [
    "import math\n",
    "print(dir(math))"
   ]
  },
  {
   "cell_type": "code",
   "execution_count": null,
   "id": "2c3e5df0-cf8c-45e3-a9f6-13ae7b9963a8",
   "metadata": {},
   "outputs": [],
   "source": []
  }
 ],
 "metadata": {
  "kernelspec": {
   "display_name": "Python 3",
   "language": "python",
   "name": "python3"
  },
  "language_info": {
   "codemirror_mode": {
    "name": "ipython",
    "version": 3
   },
   "file_extension": ".py",
   "mimetype": "text/x-python",
   "name": "python",
   "nbconvert_exporter": "python",
   "pygments_lexer": "ipython3",
   "version": "3.12.4"
  }
 },
 "nbformat": 4,
 "nbformat_minor": 5
}
