{
  "nbformat": 4,
  "nbformat_minor": 0,
  "metadata": {
    "colab": {
      "provenance": []
    },
    "kernelspec": {
      "name": "python3",
      "display_name": "Python 3"
    },
    "language_info": {
      "name": "python"
    }
  },
  "cells": [
    {
      "cell_type": "code",
      "execution_count": 14,
      "metadata": {
        "colab": {
          "base_uri": "https://localhost:8080/"
        },
        "id": "s-ctECVzQfAw",
        "outputId": "60d31843-fbe4-40bb-8d8a-ff1b4bfb4170"
      },
      "outputs": [
        {
          "output_type": "stream",
          "name": "stdout",
          "text": [
            "Reading line by line\n",
            "Reading all lines\n",
            "['olao Edurekans.....\\n', \"Welcome to the Edureka's internship program Data Science and Machine Learning.\\n\", 'Data Science is an interdisciplinary field that combines techniques from statistics, computer science, and domain expertise to extract insights and knowledge from data. It involves collecting, cleaning, analyzing, and interpreting large amounts of data to make informed decisions or predictions.\\n', '\\n', 'Key Aspects:\\n', 'Data Collection: Gathering raw data from various sources such as databases, APIs, and sensors.\\n', 'Data Cleaning: Processing and transforming raw data into a usable format by handling missing values, inconsistencies, and errors.\\n', 'Exploratory Data Analysis (EDA): Using statistical and graphical techniques to explore and understand data patterns and relationships.\\n', 'Data Visualization: Creating charts, graphs, and dashboards to communicate insights effectively.\\n', 'Data Modeling: Building mathematical models to represent data and make predictions or decisions.\\n', 'Applications: Data science is used in various fields including business (for customer insights and market analysis), healthcare (for patient data analysis), finance (for risk management), and more.\\n', '\\n', 'Machine Learning\\n', 'Machine Learning is a subset of artificial intelligence (AI) focused on developing algorithms that allow computers to learn from and make predictions or decisions based on data. Instead of being explicitly programmed for each task, machine learning algorithms use data to identify patterns and improve their performance over time.\\n', '\\n', 'Key Concepts:\\n', 'Supervised Learning: Training models on labeled data (input-output pairs) to make predictions. Examples include regression (predicting continuous values) and classification (categorizing data into classes).\\n', 'Unsupervised Learning: Finding hidden patterns or structures in unlabeled data. Examples include clustering (grouping similar data points) and dimensionality reduction (reducing the number of features while retaining important information).\\n', 'Reinforcement Learning: Training models to make sequences of decisions by rewarding desirable actions and penalizing undesirable ones, often used in robotics and game playing.\\n', 'Model Evaluation: Assessing the performance of machine learning models using metrics like accuracy, precision, recall, and F1 score.\\n', 'Applications: Machine learning is used in areas like recommendation systems (e.g., Netflix, Amazon), image and speech recognition, natural language processing (e.g., chatbots), and autonomous systems (e.g., self-driving cars).\\n', '\\n', 'Summary\\n', 'Data Science focuses on the entire data lifecycle, from collection and cleaning to analysis and visualization, with the goal of deriving actionable insights.Edurekannsssssss\\n', 'Machine Learning involves building models that can learn from data to make predictions or decisions, focusing on creating and optimizing algorithms to handle specific tasks.Hiiii guyssssssssssss']\n"
          ]
        }
      ],
      "source": [
        "#Mode 1 = 'r' (read only)\n",
        "file1 = open('module5.txt','r')\n",
        "\n",
        "#or\n",
        "\n",
        "with open('module5.txt','r') as file:\n",
        "    content = file.read()\n",
        "   # print(content)\n",
        "    file.seek(1) #Move back to the start\n",
        "    print(\"Reading line by line\")\n",
        "    #print(file.readline())\n",
        "    #print(file.readline())\n",
        "\n",
        "    print(\"Reading all lines\")\n",
        "    print(file.readlines())\n",
        "    file.close()"
      ]
    },
    {
      "cell_type": "code",
      "source": [
        "#Mode 2 = 'r+' (rad and write)\n",
        "file2 = open('module5.txt','r+')\n",
        "file2.seek(0)\n",
        "file2.write(\"Hola\")\n",
        "print(file2)\n",
        "file2.close()"
      ],
      "metadata": {
        "colab": {
          "base_uri": "https://localhost:8080/"
        },
        "id": "QJ0Cak0cWscN",
        "outputId": "f25e32c6-dd1e-4398-b7ea-6d07e6ad8056"
      },
      "execution_count": 15,
      "outputs": [
        {
          "output_type": "stream",
          "name": "stdout",
          "text": [
            "<_io.TextIOWrapper name='module5.txt' mode='r+' encoding='UTF-8'>\n"
          ]
        }
      ]
    },
    {
      "cell_type": "code",
      "source": [
        "#Mode 3 = 'a' (append only)\n",
        "file3 = open('module5.txt','a')\n",
        "file3.seek(0)\n",
        "file3.write(\"Edurekannsssssss\")\n",
        "print(file3)\n",
        "file3.close()"
      ],
      "metadata": {
        "colab": {
          "base_uri": "https://localhost:8080/"
        },
        "id": "pWC8xdLIYvC2",
        "outputId": "3f5f6938-c214-4e55-9ade-616e05b4235c"
      },
      "execution_count": 16,
      "outputs": [
        {
          "output_type": "stream",
          "name": "stdout",
          "text": [
            "<_io.TextIOWrapper name='module5.txt' mode='a' encoding='UTF-8'>\n"
          ]
        }
      ]
    },
    {
      "cell_type": "code",
      "source": [
        "#Mode4 = 'a+'(append and read both)\n",
        "file4 = open('module5.txt','a+')\n",
        "file4.seek(0)\n",
        "file4.write(\"Hiiii guyssssssssssss\")\n",
        "print(file4)\n",
        "file4.close()"
      ],
      "metadata": {
        "colab": {
          "base_uri": "https://localhost:8080/"
        },
        "id": "KFGPO8XGZpx0",
        "outputId": "4e245e5e-2903-4106-e250-a309010ec802"
      },
      "execution_count": 17,
      "outputs": [
        {
          "output_type": "stream",
          "name": "stdout",
          "text": [
            "<_io.TextIOWrapper name='module5.txt' mode='a+' encoding='UTF-8'>\n"
          ]
        }
      ]
    },
    {
      "cell_type": "code",
      "source": [
        "import os\n",
        "os.rename('module5.txt','dsml.txt')"
      ],
      "metadata": {
        "id": "q2j2i-DWaIoe"
      },
      "execution_count": 18,
      "outputs": []
    },
    {
      "cell_type": "code",
      "source": [
        "os.remove('dsml.txt')"
      ],
      "metadata": {
        "id": "TASZPF9ka5Vj"
      },
      "execution_count": 20,
      "outputs": []
    },
    {
      "cell_type": "code",
      "source": [
        "class car:\n",
        "  #Constructor to intialize attributes (the car's details)\n",
        "  def __init__(self,make,model,color): #initializer or constructor\n",
        "    self.make = make\n",
        "    self.model = model\n",
        "    self.color = color\n",
        "  #Method to start the car (the opening act)\n",
        "  def start(self):\n",
        "    print(f\"The {self.color} {self.make} {self.model} is starting   Time to hit the road.............Whoaaaaaaaaaaaaaaaaaaa!!!\")\n",
        "\n",
        "  #Method to stop the car (the dramatic pause)\n",
        "  def stop(self,damage):\n",
        "    self.damage = damage\n",
        "    print(f\"The {self.color} {self.make} {self.model} is stopping.\")\n",
        "\n",
        "#Creating the objects (our comedy stars)\n",
        "car1 = car(\"BMW\",2024,'WHITE')\n",
        "car2 = car(\"LAMBORGHINI\",2004,'BLUE')\n",
        "\n",
        "#watch the magic happens!\n",
        "car1.start()\n",
        "car2.stop()\n",
        "car1.stop()\n",
        "car2.start()"
      ],
      "metadata": {
        "colab": {
          "base_uri": "https://localhost:8080/"
        },
        "id": "BXFgM1UzbIeT",
        "outputId": "355b6caf-95e9-4e79-c9b8-849ee57ca028"
      },
      "execution_count": 25,
      "outputs": [
        {
          "output_type": "stream",
          "name": "stdout",
          "text": [
            "The WHITE BMW 2024 is starting   Time to hit the road.............Whoaaaaaaaaaaaaaaaaaaa!!!\n",
            "The BLUE LAMBORGHINI 2004 is stopping.\n",
            "The WHITE BMW 2024 is stopping.\n",
            "The BLUE LAMBORGHINI 2004 is starting   Time to hit the road.............Whoaaaaaaaaaaaaaaaaaaa!!!\n"
          ]
        }
      ]
    },
    {
      "cell_type": "code",
      "source": [],
      "metadata": {
        "id": "5bE3D97uhQGs"
      },
      "execution_count": null,
      "outputs": []
    }
  ]
}