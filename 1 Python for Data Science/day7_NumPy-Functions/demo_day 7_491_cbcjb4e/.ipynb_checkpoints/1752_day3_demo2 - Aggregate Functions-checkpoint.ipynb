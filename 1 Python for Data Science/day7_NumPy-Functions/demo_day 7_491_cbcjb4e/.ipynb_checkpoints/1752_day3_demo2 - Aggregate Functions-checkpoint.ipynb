{
 "cells": [
  {
   "cell_type": "markdown",
   "metadata": {
    "id": "Y7f6xf5BRZAx"
   },
   "source": [
    "# NumPy Arrays and Functions\n",
    "\n",
    "### Demo 2: Aggregate Functions"
   ]
  },
  {
   "cell_type": "markdown",
   "metadata": {
    "id": "Ti8gMfsNRZA6"
   },
   "source": [
    "In this demo, you will be shown how to implement aggregate functions."
   ]
  },
  {
   "cell_type": "markdown",
   "metadata": {
    "id": "1KhOC3TmRZA7"
   },
   "source": [
    "#### Description about Hill Cipher"
   ]
  },
  {
   "cell_type": "markdown",
   "metadata": {
    "id": "KFK2JjtIRZA8"
   },
   "source": [
    "'''\n",
    "Hill Cipher is a polygraphic substitution cipher based on linear algebra.\n",
    "Here the plain text is converted into encrypted form.\n",
    "Each letter of plain text is represented by a number modulo 26.\n",
    "Often the simple scheme A=0, B=1,....Z=25 is used\n",
    "To encrypt a message, each block of n letters is multiplied by an invertible n × n matrix, against modulus 26\n",
    "The matrix used for encryption is the cipher key, and it should be chosen randomly\n",
    "Lets us take plain text = edureka and cipher key = [11 9\n",
    "                                                     8 17]\n",
    "Plain text is converted into 2×1 matrix format i.e. [e d] [u r] [e k]\n",
    "Again plain text is converted into numbers i.e. [4 3] [20 11] [4 10]\n",
    "So, encryption of hill cipher = (each column of plain text)*(key)*mod 26\n",
    "'''"
   ]
  },
  {
   "cell_type": "markdown",
   "metadata": {
    "id": "x_DsHAKZRZA9"
   },
   "source": [
    "#### Question: Perform aggregate function on marks.csv file"
   ]
  },
  {
   "cell_type": "markdown",
   "metadata": {
    "id": "iohO-NUrRZA-"
   },
   "source": [
    "### Step 1: Import the libraries"
   ]
  },
  {
   "cell_type": "code",
   "execution_count": 1,
   "metadata": {
    "id": "PJyY4L0ARZA_"
   },
   "outputs": [],
   "source": [
    "import numpy as np"
   ]
  },
  {
   "cell_type": "markdown",
   "metadata": {
    "id": "8dn3zqJ7RZBA"
   },
   "source": [
    "### Step 2: Load marks.csv file"
   ]
  },
  {
   "cell_type": "code",
   "execution_count": 2,
   "metadata": {
    "id": "rOwk-VRKRZBB"
   },
   "outputs": [],
   "source": [
    "data = np.loadtxt('marks.csv',delimiter=',',usecols=(5),skiprows=1)"
   ]
  },
  {
   "cell_type": "markdown",
   "metadata": {
    "id": "mR6B3HqJRZBC"
   },
   "source": [
    "### Step 3: Display the column on which we are going to perform different aggregate functions"
   ]
  },
  {
   "cell_type": "code",
   "execution_count": 3,
   "metadata": {
    "id": "COexKNS0RZBD",
    "outputId": "22338cbb-6919-4491-c947-0e9c08dfa2f8"
   },
   "outputs": [
    {
     "name": "stdout",
     "output_type": "stream",
     "text": [
      "Data: [420. 280. 350. 269. 317. 470. 333. 365. 305. 350. 460. 474. 409. 377.\n",
      " 415. 382. 298. 462. 370. 313. 464. 302. 252. 259. 308. 392. 424. 403.\n",
      " 370. 328. 398. 434. 291. 472. 263. 439. 464. 449. 401. 364. 296. 292.\n",
      " 438. 357. 331. 317. 429. 407. 321. 274. 447. 274. 437. 411. 257. 310.\n",
      " 396. 270. 311. 459. 378. 316. 283. 266. 381. 409. 313. 306. 448. 348.\n",
      " 292. 400. 352. 441. 428. 309. 441. 439. 264. 281. 302. 432. 423. 336.\n",
      " 383. 321. 469. 270. 341. 281. 403. 333. 323. 348. 345. 397. 449. 261.\n",
      " 456. 370. 322. 379. 446. 404. 301. 254. 351. 444. 264. 286. 463. 273.\n",
      " 316. 324. 465. 398. 324. 340. 414. 346. 408. 332. 394. 474. 398. 262.\n",
      " 410. 391. 444. 461.]\n",
      "--------------------\n",
      "sqrt [20.49390153 16.73320053 18.70828693 16.40121947 17.80449381 21.67948339\n",
      " 18.24828759 19.10497317 17.4642492  18.70828693 21.44761059 21.77154106\n",
      " 20.22374842 19.41648784 20.37154879 19.54482029 17.2626765  21.49418526\n",
      " 19.23538406 17.69180601 21.54065923 17.3781472  15.87450787 16.09347694\n",
      " 17.54992877 19.79898987 20.59126028 20.0748599  19.23538406 18.11077028\n",
      " 19.94993734 20.83266666 17.05872211 21.72556098 16.21727474 20.95232684\n",
      " 21.54065923 21.1896201  20.02498439 19.07878403 17.20465053 17.08800749\n",
      " 20.92844954 18.89444363 18.1934054  17.80449381 20.71231518 20.174241\n",
      " 17.91647287 16.55294536 21.14237451 16.55294536 20.90454496 20.27313493\n",
      " 16.03121954 17.60681686 19.89974874 16.43167673 17.63519209 21.42428529\n",
      " 19.4422221  17.77638883 16.82260384 16.30950643 19.5192213  20.22374842\n",
      " 17.69180601 17.49285568 21.16601049 18.65475811 17.08800749 20.\n",
      " 18.76166304 21.         20.68816087 17.57839583 21.         20.95232684\n",
      " 16.24807681 16.76305461 17.3781472  20.78460969 20.5669638  18.33030278\n",
      " 19.57038579 17.91647287 21.65640783 16.43167673 18.46618531 16.76305461\n",
      " 20.0748599  18.24828759 17.97220076 18.65475811 18.57417562 19.92485885\n",
      " 21.1896201  16.15549442 21.3541565  19.23538406 17.94435844 19.46792233\n",
      " 21.11871208 20.09975124 17.34935157 15.93737745 18.734994   21.07130751\n",
      " 16.24807681 16.91153453 21.51743479 16.52271164 17.77638883 18.\n",
      " 21.56385865 19.94993734 18.         18.43908891 20.34698995 18.60107524\n",
      " 20.19900988 18.22086716 19.84943324 21.77154106 19.94993734 16.18641406\n",
      " 20.24845673 19.77371993 21.07130751 21.47091055]\n"
     ]
    }
   ],
   "source": [
    "print(\"Data:\", data)\n",
    "print(20*\"-\")\n",
    "print(\"sqrt\", np.sqrt(data))"
   ]
  },
  {
   "cell_type": "markdown",
   "metadata": {
    "id": "kq1zWMgARZBE"
   },
   "source": [
    "### Step 4: Calculate different aggregate function on marks.csv file"
   ]
  },
  {
   "cell_type": "code",
   "execution_count": 4,
   "metadata": {
    "id": "BPLyXGFMRZBE",
    "outputId": "d0bd2664-41b8-4f2f-c174-dd1fe4ab981b"
   },
   "outputs": [
    {
     "name": "stdout",
     "output_type": "stream",
     "text": [
      "Sum: 47356.0\n"
     ]
    }
   ],
   "source": [
    "#Calculating sum of the given data\n",
    "print(\"Sum:\",data.sum())"
   ]
  },
  {
   "cell_type": "code",
   "execution_count": 5,
   "metadata": {
    "id": "b8KlCcA3RZBF",
    "outputId": "0b7de987-9c07-42ba-d6a5-d9ed56b53c1d"
   },
   "outputs": [
    {
     "name": "stdout",
     "output_type": "stream",
     "text": [
      "Minimum: 252.0\n"
     ]
    }
   ],
   "source": [
    "#Calculating minimum from the given data\n",
    "print(\"Minimum:\",data.min())"
   ]
  },
  {
   "cell_type": "code",
   "execution_count": 6,
   "metadata": {
    "id": "_to72SfuRZBG",
    "outputId": "b648f56e-8c70-42c4-e8f9-9460af87f05d"
   },
   "outputs": [
    {
     "name": "stdout",
     "output_type": "stream",
     "text": [
      "Maximum: 474.0\n"
     ]
    }
   ],
   "source": [
    "#Calculating maximum from the given data\n",
    "print(\"Maximum:\",data.max())"
   ]
  },
  {
   "cell_type": "code",
   "execution_count": 7,
   "metadata": {
    "id": "dm3l5UBGRZBI",
    "outputId": "244d04eb-2b6b-43ec-e407-aa7aaea24068"
   },
   "outputs": [
    {
     "name": "stdout",
     "output_type": "stream",
     "text": [
      "Mean: 364.2769230769231\n"
     ]
    }
   ],
   "source": [
    "#Calculating mean of the given data\n",
    "print(\"Mean:\",data.mean())"
   ]
  },
  {
   "cell_type": "code",
   "execution_count": 8,
   "metadata": {
    "id": "bg1AXkhgRZBJ",
    "outputId": "369a6a7d-d00b-4169-e240-9ec132152090"
   },
   "outputs": [
    {
     "name": "stdout",
     "output_type": "stream",
     "text": [
      "Standard Deviation: 66.17947803971762\n"
     ]
    }
   ],
   "source": [
    "#Calculating standard deviation of  the given data\n",
    "print(\"Standard Deviation:\",data.std())"
   ]
  },
  {
   "cell_type": "markdown",
   "metadata": {
    "id": "OumgObxxRZBK"
   },
   "source": [
    "#### Conclusion: This code demonstrates how to calculate aggregate functions"
   ]
  },
  {
   "cell_type": "code",
   "execution_count": 9,
   "metadata": {},
   "outputs": [
    {
     "name": "stdout",
     "output_type": "stream",
     "text": [
      "5.0\n"
     ]
    }
   ],
   "source": [
    "base = 3\n",
    "height = 4\n",
    "hypotenuse = np.hypot(base,height)\n",
    "print(hypotenuse)"
   ]
  },
  {
   "cell_type": "code",
   "execution_count": 10,
   "metadata": {},
   "outputs": [
    {
     "name": "stdout",
     "output_type": "stream",
     "text": [
      "[2, 3, 4, 5, 6, 7, 8]\n"
     ]
    }
   ],
   "source": [
    "my_list = [0, 1, 2, 3, 4, 5, 6, 7, 8, 9]\n",
    "print(my_list[2:9])"
   ]
  },
  {
   "cell_type": "code",
   "execution_count": 11,
   "metadata": {},
   "outputs": [
    {
     "name": "stdout",
     "output_type": "stream",
     "text": [
      "[0, 1, 2, 3, 4, 5, 6, 7]\n"
     ]
    }
   ],
   "source": [
    "print(my_list[:-2])\n"
   ]
  },
  {
   "cell_type": "code",
   "execution_count": 13,
   "metadata": {},
   "outputs": [
    {
     "name": "stdout",
     "output_type": "stream",
     "text": [
      "False\n"
     ]
    }
   ],
   "source": [
    "print(np.all(my_list))"
   ]
  },
  {
   "cell_type": "code",
   "execution_count": 15,
   "metadata": {},
   "outputs": [
    {
     "name": "stdout",
     "output_type": "stream",
     "text": [
      "[False  True]\n",
      "[ True  True False]\n"
     ]
    }
   ],
   "source": [
    "ar=[[1,2,0],[4,5,6]]\n",
    "print(np.all(ar,axis=1))   # 1 --> working on rows  We have 2 rows \n",
    "print(np.all(ar,axis=0))   # 1 columns  --> working on columns We have 3 columns "
   ]
  },
  {
   "cell_type": "code",
   "execution_count": null,
   "metadata": {},
   "outputs": [],
   "source": []
  }
 ],
 "metadata": {
  "colab": {
   "collapsed_sections": [],
   "name": "1752_day3_demo2 - Aggregate Functions.ipynb",
   "provenance": []
  },
  "kernelspec": {
   "display_name": "Python 3 (ipykernel)",
   "language": "python",
   "name": "python3"
  },
  "language_info": {
   "codemirror_mode": {
    "name": "ipython",
    "version": 3
   },
   "file_extension": ".py",
   "mimetype": "text/x-python",
   "name": "python",
   "nbconvert_exporter": "python",
   "pygments_lexer": "ipython3",
   "version": "3.10.1"
  }
 },
 "nbformat": 4,
 "nbformat_minor": 4
}
