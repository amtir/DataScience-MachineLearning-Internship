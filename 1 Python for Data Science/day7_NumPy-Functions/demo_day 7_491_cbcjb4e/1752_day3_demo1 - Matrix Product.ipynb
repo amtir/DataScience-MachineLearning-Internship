{
 "cells": [
  {
   "cell_type": "markdown",
   "metadata": {
    "id": "QYGTtIVB2abJ"
   },
   "source": [
    "# NumPy Arrays and Functions\n",
    "\n",
    "### Demo 1: Matrix Product"
   ]
  },
  {
   "cell_type": "markdown",
   "metadata": {
    "id": "62bxbSZu2abR"
   },
   "source": [
    "In this demo, you will be shown how to implement Hill Cipher using matrix product."
   ]
  },
  {
   "cell_type": "markdown",
   "metadata": {
    "id": "pcYVwkYo2abU"
   },
   "source": [
    "### Question1: Perform Hill Cipher using matrix product"
   ]
  },
  {
   "cell_type": "markdown",
   "metadata": {
    "id": "e5_Wa1Yn2abW"
   },
   "source": [
    "#### Description about Hill Cipher"
   ]
  },
  {
   "cell_type": "markdown",
   "metadata": {
    "id": "xf3gFl9C2abW"
   },
   "source": [
    "'''\n",
    "Hill Cipher is a polygraphic substitution cipher based on linear algebra.\n",
    "Here the plain text is converted into encrypted form.\n",
    "Each letter of plain text is represented by a number modulo 26.\n",
    "Often the simple scheme A=0, B=1,....Z=25 is used\n",
    "To encrypt a message, each block of n letters is multiplied by an invertible n × n matrix, against modulus 26\n",
    "The matrix used for encryption is the cipher key, and it should be chosen randomly\n",
    "Lets us take plain text = edureka and cipher key = [11 9\n",
    "                                                     8 17]\n",
    "Plain text is converted into 2×1 matrix format i.e. [e d] [u r] [e k]\n",
    "Again plain text is converted into numbers i.e. [4 3] [20 11] [4 10]\n",
    "So, encryption of hill cipher = (each column of plain text)*(key)*mod 26\n",
    "'''"
   ]
  },
  {
   "cell_type": "markdown",
   "metadata": {
    "id": "wl_NSJ_Q2abp"
   },
   "source": [
    "### Step 1: Import the libraries"
   ]
  },
  {
   "cell_type": "code",
   "execution_count": 3,
   "metadata": {
    "id": "lYdni9j02abp"
   },
   "outputs": [],
   "source": [
    "import numpy as np"
   ]
  },
  {
   "cell_type": "markdown",
   "metadata": {
    "id": "8CVhWus12abr"
   },
   "source": [
    "### Step 2: Create numpy array a as first column of plain text and array b as key"
   ]
  },
  {
   "cell_type": "code",
   "execution_count": 4,
   "metadata": {
    "id": "EBNSODVe2abs"
   },
   "outputs": [],
   "source": [
    "a = np.array([4,3])\n",
    "b= np.array([[11,9],[8,17]])"
   ]
  },
  {
   "cell_type": "markdown",
   "metadata": {
    "id": "658DbIcq2abs"
   },
   "source": [
    "### Step 3: Perform matrix product between array a and b"
   ]
  },
  {
   "cell_type": "code",
   "execution_count": 6,
   "metadata": {
    "id": "Y7mK4mE92abt"
   },
   "outputs": [
    {
     "name": "stdout",
     "output_type": "stream",
     "text": [
      "[4 3]\n",
      "[[11  9]\n",
      " [ 8 17]]\n",
      "[68 87]\n"
     ]
    }
   ],
   "source": [
    "print(a)\n",
    "print(b)\n",
    "c=np.dot(a,b)\n",
    "print(c)"
   ]
  },
  {
   "cell_type": "markdown",
   "metadata": {
    "id": "tpjAqdX92abt"
   },
   "source": [
    "### Step 4: Perform encryption of plain text using mod function"
   ]
  },
  {
   "cell_type": "code",
   "execution_count": null,
   "metadata": {
    "id": "DNhd0Rk82abu",
    "outputId": "97a4b12d-f54b-4586-afb8-f15d4cc29cda"
   },
   "outputs": [
    {
     "name": "stdout",
     "output_type": "stream",
     "text": [
      "h= [16  9]\n"
     ]
    }
   ],
   "source": [
    "\n",
    "h = np.mod(c,26)\n",
    "print(\"h=\",h)"
   ]
  },
  {
   "cell_type": "markdown",
   "metadata": {
    "id": "M68fF9Ju2abw"
   },
   "source": [
    "### Step 5: Create numpy array d of second column of plain text and array b as key"
   ]
  },
  {
   "cell_type": "code",
   "execution_count": null,
   "metadata": {
    "id": "NisHVT032abx"
   },
   "outputs": [],
   "source": [
    "d = np.array([20,11])"
   ]
  },
  {
   "cell_type": "markdown",
   "metadata": {
    "id": "Ep7FpsbB2aby"
   },
   "source": [
    "### Step 6: Perform matrix product between array d and b"
   ]
  },
  {
   "cell_type": "code",
   "execution_count": null,
   "metadata": {
    "id": "aZ2CWR4f2abz"
   },
   "outputs": [],
   "source": [
    "f = np.dot(d,b)"
   ]
  },
  {
   "cell_type": "markdown",
   "metadata": {
    "id": "tf_57sBF2ab0"
   },
   "source": [
    "### Step 7: Perform encyption of plain text using mod function"
   ]
  },
  {
   "cell_type": "code",
   "execution_count": null,
   "metadata": {
    "id": "84ryhLl02ab0",
    "outputId": "f64db1c5-cf51-45cd-d39f-478a3780efdf"
   },
   "outputs": [
    {
     "name": "stdout",
     "output_type": "stream",
     "text": [
      "h1= [22  3]\n"
     ]
    }
   ],
   "source": [
    "h1=np.mod(f,26)\n",
    "print(\"h1=\",h1)"
   ]
  },
  {
   "cell_type": "markdown",
   "metadata": {
    "id": "x4Onth282ab1"
   },
   "source": [
    "### Step 8: Create a numpy array g of last column of plain text and array b as key"
   ]
  },
  {
   "cell_type": "code",
   "execution_count": null,
   "metadata": {
    "id": "DS4-vw5B2ab2"
   },
   "outputs": [],
   "source": [
    "g = np.array([4,10])"
   ]
  },
  {
   "cell_type": "markdown",
   "metadata": {
    "id": "5DBMth4E2ab3"
   },
   "source": [
    "### Step 9: Perform matrix product between array g and b"
   ]
  },
  {
   "cell_type": "code",
   "execution_count": null,
   "metadata": {
    "id": "lsmPPDOZ2ab4"
   },
   "outputs": [],
   "source": [
    "j =np.dot(g,b)"
   ]
  },
  {
   "cell_type": "markdown",
   "metadata": {
    "id": "V51Y7PpK2ab5"
   },
   "source": [
    "### Step 10: Perform encyption of plain text using mod function"
   ]
  },
  {
   "cell_type": "code",
   "execution_count": null,
   "metadata": {
    "id": "uRM7E5zR2ab5",
    "outputId": "3950685a-5209-479b-c624-37e7bdc2e753",
    "scrolled": true
   },
   "outputs": [
    {
     "name": "stdout",
     "output_type": "stream",
     "text": [
      "h2 [20 24]\n"
     ]
    }
   ],
   "source": [
    "h2=np.mod(j,26) \n",
    "print(\"h2\",h2)"
   ]
  },
  {
   "cell_type": "markdown",
   "metadata": {
    "id": "wrM25HMc2ab6"
   },
   "source": [
    "Represent the matrix h, h1, h2 in alphabetic manner as explained above. So Plain Text in encypted format will be qjwduy"
   ]
  },
  {
   "cell_type": "markdown",
   "metadata": {
    "id": "ElPWBgID2ab6"
   },
   "source": [
    "#### Conclusion: This code demonstrates how to perform matrix product"
   ]
  },
  {
   "cell_type": "code",
   "execution_count": 12,
   "metadata": {},
   "outputs": [
    {
     "name": "stdin",
     "output_type": "stream",
     "text": [
      "Enter the plain text (must be of even length):  qwertzui\n"
     ]
    },
    {
     "name": "stdout",
     "output_type": "stream",
     "text": [
      "Encrypted Text: oyyntyye\n",
      "Decrypted Text: qwertzui\n"
     ]
    }
   ],
   "source": [
    "import numpy as np\n",
    "\n",
    "# Function to convert text to numbers (A=0, B=1, ..., Z=25)\n",
    "def text_to_numbers(text):\n",
    "    return [ord(char) - ord('a') for char in text]\n",
    "\n",
    "# Function to convert numbers back to text\n",
    "def numbers_to_text(numbers):\n",
    "    return ''.join([chr(num + ord('a')) for num in numbers])\n",
    "\n",
    "# Encryption function\n",
    "def hill_cipher_encrypt(plain_text, key_matrix):\n",
    "    # Convert plaintext to numbers\n",
    "    plain_numbers = text_to_numbers(plain_text)\n",
    "    \n",
    "    # Reshape plain text into 2x1 blocks\n",
    "    plain_matrix = np.array(plain_numbers).reshape(-1, 2)\n",
    "    \n",
    "    # Encrypt by multiplying with key matrix and taking mod 26\n",
    "    encrypted_matrix = np.dot(plain_matrix, key_matrix)\n",
    "    encrypted_matrix = np.mod(encrypted_matrix, 26)\n",
    "    \n",
    "    # Flatten the matrix and convert back to text\n",
    "    encrypted_text = numbers_to_text(encrypted_matrix.flatten())\n",
    "    return encrypted_text\n",
    "\n",
    "# Decryption function\n",
    "def hill_cipher_decrypt(cipher_text, key_matrix):\n",
    "    # Compute the inverse of the key matrix mod 26\n",
    "    determinant = int(np.round(np.linalg.det(key_matrix)))\n",
    "    determinant_inv = pow(determinant, -1, 26)  # Find modular inverse of determinant\n",
    "    \n",
    "    # Compute the adjugate matrix\n",
    "    adjugate_matrix = np.round(np.linalg.inv(key_matrix) * determinant).astype(int)\n",
    "    \n",
    "    # Multiply the adjugate matrix by the modular inverse of the determinant and take mod 26\n",
    "    key_matrix_inv = (determinant_inv * adjugate_matrix) % 26\n",
    "    \n",
    "    # Convert cipher text to numbers\n",
    "    cipher_numbers = text_to_numbers(cipher_text)\n",
    "    \n",
    "    # Reshape cipher text into 2x1 blocks\n",
    "    cipher_matrix = np.array(cipher_numbers).reshape(-1, 2)\n",
    "    \n",
    "    # Decrypt by multiplying with the inverse key matrix and taking mod 26\n",
    "    decrypted_matrix = np.dot(cipher_matrix, key_matrix_inv)\n",
    "    decrypted_matrix = np.mod(decrypted_matrix, 26)\n",
    "    \n",
    "    # Flatten the matrix and convert back to text\n",
    "    decrypted_text = numbers_to_text(decrypted_matrix.flatten())\n",
    "    return decrypted_text\n",
    "\n",
    "# Define a 2x2 key matrix\n",
    "key_matrix = np.array([[11, 9], [8, 17]])\n",
    "\n",
    "# Get plain text input from the user\n",
    "plain_text = input(\"Enter the plain text (must be of even length): \").lower()\n",
    "\n",
    "# Ensure the plain text length is even for 2x2 matrix encryption\n",
    "if len(plain_text) % 2 != 0:\n",
    "    print(\"Plain text must be of even length. Please try again.\")\n",
    "else:\n",
    "    # Encrypt the plain text\n",
    "    encrypted_text = hill_cipher_encrypt(plain_text, key_matrix)\n",
    "    print(f\"Encrypted Text: {encrypted_text}\")\n",
    "\n",
    "    # Decrypt the cipher text\n",
    "    decrypted_text = hill_cipher_decrypt(encrypted_text, key_matrix)\n",
    "    print(f\"Decrypted Text: {decrypted_text}\")\n"
   ]
  },
  {
   "cell_type": "code",
   "execution_count": null,
   "metadata": {},
   "outputs": [],
   "source": []
  }
 ],
 "metadata": {
  "colab": {
   "collapsed_sections": [],
   "name": "1752_day3_demo1 - Matrix Product.ipynb",
   "provenance": []
  },
  "kernelspec": {
   "display_name": "Python 3 (ipykernel)",
   "language": "python",
   "name": "python3"
  },
  "language_info": {
   "codemirror_mode": {
    "name": "ipython",
    "version": 3
   },
   "file_extension": ".py",
   "mimetype": "text/x-python",
   "name": "python",
   "nbconvert_exporter": "python",
   "pygments_lexer": "ipython3",
   "version": "3.10.1"
  }
 },
 "nbformat": 4,
 "nbformat_minor": 4
}
