{
 "cells": [
  {
   "cell_type": "code",
   "execution_count": 5,
   "id": "e2fe195a-4355-42c6-83a9-364e8b194220",
   "metadata": {},
   "outputs": [
    {
     "name": "stdout",
     "output_type": "stream",
     "text": [
      "[ 0  1  2  3  4  5  6  7  8  9 10 11]\n"
     ]
    }
   ],
   "source": [
    "import numpy as np\n",
    "a = np.arange(0,12)\n",
    "print(a)"
   ]
  },
  {
   "cell_type": "code",
   "execution_count": 41,
   "id": "4c2a8517-15ab-4a02-8c7d-e2575e1a9d67",
   "metadata": {},
   "outputs": [
    {
     "name": "stdout",
     "output_type": "stream",
     "text": [
      "[[ 0  1  2]\n",
      " [ 3  4  5]\n",
      " [ 6  7  8]\n",
      " [ 9 10 11]]\n"
     ]
    }
   ],
   "source": [
    "b= a.reshape(4,3)\n",
    "print(b)"
   ]
  },
  {
   "cell_type": "code",
   "execution_count": 19,
   "id": "654e8afb-d73f-4fc7-bbfd-81c8010aff76",
   "metadata": {},
   "outputs": [],
   "source": [
    "c = np.ones((3,4))"
   ]
  },
  {
   "cell_type": "code",
   "execution_count": 29,
   "id": "36f6eef6-f022-4b4a-8cc0-fe3f0edafbc8",
   "metadata": {},
   "outputs": [],
   "source": [
    "d = b*c"
   ]
  },
  {
   "cell_type": "code",
   "execution_count": 35,
   "id": "0de52a94-ecdb-4a5e-93db-c521414a2d10",
   "metadata": {},
   "outputs": [
    {
     "name": "stdout",
     "output_type": "stream",
     "text": [
      "[[ 0.  1.  2.  3.]\n",
      " [ 4.  5.  6.  7.]\n",
      " [ 8.  9. 10. 11.]]\n",
      "[[ 0.  1.  2.]\n",
      " [ 3.  4.  5.]\n",
      " [ 6.  7.  8.]\n",
      " [ 9. 10. 11.]]\n"
     ]
    }
   ],
   "source": [
    "print(d)\n",
    "e = d.reshape(4,3)\n",
    "print(e)"
   ]
  },
  {
   "cell_type": "code",
   "execution_count": 43,
   "id": "a8688580-8459-49ee-9100-3e57a0031d0f",
   "metadata": {},
   "outputs": [
    {
     "name": "stdout",
     "output_type": "stream",
     "text": [
      "[[ 20.  23.  26.  29.]\n",
      " [ 56.  68.  80.  92.]\n",
      " [ 92. 113. 134. 155.]\n",
      " [128. 158. 188. 218.]]\n"
     ]
    }
   ],
   "source": [
    "f= np.dot(b,d)\n",
    "print(f)"
   ]
  },
  {
   "cell_type": "code",
   "execution_count": 45,
   "id": "12f7579a-49c5-4060-9947-10d142a2f4c3",
   "metadata": {},
   "outputs": [
    {
     "name": "stdout",
     "output_type": "stream",
     "text": [
      "[1 4 3]\n"
     ]
    }
   ],
   "source": [
    "#mod function  \n",
    "\n",
    "a= np.array([1,4,8])\n",
    "b= np.array([7,8,5])\n",
    "c = np.mod(a,b)\n",
    "print(c)"
   ]
  },
  {
   "cell_type": "code",
   "execution_count": 47,
   "id": "55a0d35e-b00e-42f1-a3cb-96bd13ab56d3",
   "metadata": {},
   "outputs": [
    {
     "name": "stdout",
     "output_type": "stream",
     "text": [
      "[0.         1.38629436 2.07944154]\n"
     ]
    }
   ],
   "source": [
    "#log() logarithm\n",
    "d=np.log(a)\n",
    "print(d)"
   ]
  },
  {
   "cell_type": "code",
   "execution_count": 49,
   "id": "79dd43f5-90c8-4828-8b25-c572bfd3fca1",
   "metadata": {},
   "outputs": [
    {
     "name": "stdout",
     "output_type": "stream",
     "text": [
      "[1.94591015 2.07944154 1.60943791]\n"
     ]
    }
   ],
   "source": [
    "print(np.log(b))"
   ]
  },
  {
   "cell_type": "code",
   "execution_count": 51,
   "id": "e0008969-7cc6-4af4-ae21-4c6f54dbc09e",
   "metadata": {},
   "outputs": [
    {
     "name": "stdout",
     "output_type": "stream",
     "text": [
      "[1 0 0]\n"
     ]
    }
   ],
   "source": [
    "#bitwise_and\n",
    "\n",
    "print(np.bitwise_and(a,b))"
   ]
  },
  {
   "cell_type": "code",
   "execution_count": 53,
   "id": "04704321-60e7-4f0c-a410-07fff123b282",
   "metadata": {},
   "outputs": [
    {
     "name": "stdout",
     "output_type": "stream",
     "text": [
      "[14 15 13 12 15]\n"
     ]
    }
   ],
   "source": [
    "#Broadcasting\n",
    "\n",
    "#scalar value can broadcast with any array\n",
    "\n",
    "a = np.array([8,9,7,6,9])\n",
    "print(a+6)"
   ]
  },
  {
   "cell_type": "code",
   "execution_count": 55,
   "id": "9cbc1a22-a8f9-4c09-94c7-94491ec1e395",
   "metadata": {},
   "outputs": [
    {
     "name": "stdout",
     "output_type": "stream",
     "text": [
      "[[ 9 11 10 10 14]\n",
      " [17 17 14 12 14]]\n"
     ]
    }
   ],
   "source": [
    "#2d and 1 d arrays\n",
    "b = np.array([[1,2,3,4,5],[9,8,7,6,5]])\n",
    "print(a+b)"
   ]
  },
  {
   "cell_type": "code",
   "execution_count": 61,
   "id": "e205e99b-5e9c-4ebf-b84f-e85ec50d50c6",
   "metadata": {},
   "outputs": [
    {
     "name": "stdout",
     "output_type": "stream",
     "text": [
      "[8 9 7 6 9]\n",
      "[[1]\n",
      " [2]\n",
      " [3]]\n",
      "[[ 9 10  8  7 10]\n",
      " [10 11  9  8 11]\n",
      " [11 12 10  9 12]]\n"
     ]
    }
   ],
   "source": [
    "# Mismatched shapes\n",
    "print(a)\n",
    "c = np.array([[1],[2],[3]])\n",
    "print(c)\n",
    "print(a+c)"
   ]
  },
  {
   "cell_type": "code",
   "execution_count": 1,
   "id": "9a9eed65-8497-4dfe-a6e4-b0ca78a969c1",
   "metadata": {},
   "outputs": [
    {
     "name": "stdout",
     "output_type": "stream",
     "text": [
      "45\n"
     ]
    }
   ],
   "source": [
    "import numpy as np\n",
    "a = np.array([1,2,3,4,5,6,7,8,9])\n",
    "print(a.sum())"
   ]
  },
  {
   "cell_type": "code",
   "execution_count": 3,
   "id": "61b27bc2-59d2-40ef-aa4d-43e36361b15e",
   "metadata": {},
   "outputs": [
    {
     "name": "stdout",
     "output_type": "stream",
     "text": [
      "1\n"
     ]
    }
   ],
   "source": [
    "print(a.min())"
   ]
  },
  {
   "cell_type": "code",
   "execution_count": 5,
   "id": "a2898705-097e-489a-8eb2-bbadd172272e",
   "metadata": {},
   "outputs": [
    {
     "name": "stdout",
     "output_type": "stream",
     "text": [
      "9\n"
     ]
    }
   ],
   "source": [
    "print(a.max())"
   ]
  },
  {
   "cell_type": "code",
   "execution_count": 7,
   "id": "07bb249f-8011-4ab4-82ce-98f9de51d3ac",
   "metadata": {},
   "outputs": [
    {
     "name": "stdout",
     "output_type": "stream",
     "text": [
      "5.0\n"
     ]
    }
   ],
   "source": [
    "print(a.mean())"
   ]
  },
  {
   "cell_type": "code",
   "execution_count": 9,
   "id": "efcca6ba-1f14-4c0e-a43c-fba0d95399d3",
   "metadata": {},
   "outputs": [
    {
     "name": "stdout",
     "output_type": "stream",
     "text": [
      "2.581988897471611\n"
     ]
    }
   ],
   "source": [
    "print(a.std())"
   ]
  },
  {
   "cell_type": "code",
   "execution_count": 11,
   "id": "5714a15d-369e-4638-bc63-5a2d3dc85276",
   "metadata": {},
   "outputs": [
    {
     "name": "stdout",
     "output_type": "stream",
     "text": [
      "False\n"
     ]
    }
   ],
   "source": [
    "b = np.array([[True,True,False],[True,True,True]])\n",
    "print(np.all(b))"
   ]
  },
  {
   "cell_type": "code",
   "execution_count": 13,
   "id": "c530c72d-5467-49f5-bfc3-4b71d1c9537d",
   "metadata": {},
   "outputs": [
    {
     "name": "stdout",
     "output_type": "stream",
     "text": [
      "True\n"
     ]
    }
   ],
   "source": [
    "b = np.array([[True,True,True],[True,True,True]])\n",
    "print(np.all(b))"
   ]
  },
  {
   "cell_type": "code",
   "execution_count": 15,
   "id": "8c59cd2d-756a-4084-a651-a91bc40ce601",
   "metadata": {},
   "outputs": [
    {
     "name": "stdout",
     "output_type": "stream",
     "text": [
      "[False  True]\n"
     ]
    }
   ],
   "source": [
    "b = np.array([[True,True,False],[True,True,True]])\n",
    "print(np.all(b,axis = 1))   #rows"
   ]
  },
  {
   "cell_type": "code",
   "execution_count": 17,
   "id": "b71c9539-44e6-4365-92ac-dfc2abf9a4c7",
   "metadata": {},
   "outputs": [
    {
     "name": "stdout",
     "output_type": "stream",
     "text": [
      "[ True  True False]\n"
     ]
    }
   ],
   "source": [
    "b = np.array([[True,True,False],[True,True,True]])\n",
    "print(np.all(b,axis = 0))  #columns"
   ]
  },
  {
   "cell_type": "code",
   "execution_count": 25,
   "id": "c23705d8-c568-4408-87d9-b01755673f5b",
   "metadata": {},
   "outputs": [
    {
     "name": "stdout",
     "output_type": "stream",
     "text": [
      "True\n"
     ]
    }
   ],
   "source": [
    "e = np.array([3,5,5])\n",
    "print(np.all(e))"
   ]
  },
  {
   "cell_type": "code",
   "execution_count": 31,
   "id": "08726a00-36b6-4455-ae88-1ed761883dc1",
   "metadata": {},
   "outputs": [
    {
     "name": "stdout",
     "output_type": "stream",
     "text": [
      "True\n"
     ]
    }
   ],
   "source": [
    "e = np.array([3,np.nan,5])\n",
    "print(np.all(e))   #np.nan = 0"
   ]
  },
  {
   "cell_type": "code",
   "execution_count": 33,
   "id": "ef929a3a-f202-4372-a3b1-52f3d8d92656",
   "metadata": {},
   "outputs": [
    {
     "name": "stdout",
     "output_type": "stream",
     "text": [
      "True\n"
     ]
    }
   ],
   "source": [
    "b = np.array([[True,True,True],[True,True,True]])\n",
    "print(np.any(b))  #or"
   ]
  },
  {
   "cell_type": "code",
   "execution_count": 35,
   "id": "115169f9-8db3-4e72-af74-ee8023e6b0b8",
   "metadata": {},
   "outputs": [
    {
     "name": "stdout",
     "output_type": "stream",
     "text": [
      "[ True  True]\n"
     ]
    }
   ],
   "source": [
    "b = np.array([[True,True,False],[True,True,True]])\n",
    "print(np.any(b,axis = 1))   #rows"
   ]
  },
  {
   "cell_type": "code",
   "execution_count": 37,
   "id": "a387a558-63e2-45cb-9ccb-e8c9f7d53ea6",
   "metadata": {},
   "outputs": [
    {
     "name": "stdout",
     "output_type": "stream",
     "text": [
      "[ True  True  True]\n"
     ]
    }
   ],
   "source": [
    "b = np.array([[True,True,False],[True,True,True]])\n",
    "print(np.any(b,axis = 0))   #columns"
   ]
  },
  {
   "cell_type": "code",
   "execution_count": 41,
   "id": "e83c4a30-7637-41fb-9ee5-ffc348156e06",
   "metadata": {},
   "outputs": [
    {
     "name": "stdout",
     "output_type": "stream",
     "text": [
      "[[ True False]\n",
      " [False False]]\n"
     ]
    }
   ],
   "source": [
    "data = np.array([[1+1j, 2],[3,4+0j]])\n",
    "print(np.iscomplex(data))"
   ]
  },
  {
   "cell_type": "code",
   "execution_count": 43,
   "id": "baf5329d-ec88-471a-9352-9b6aa5cc897d",
   "metadata": {},
   "outputs": [
    {
     "name": "stdout",
     "output_type": "stream",
     "text": [
      "[[False  True]\n",
      " [ True  True]]\n"
     ]
    }
   ],
   "source": [
    "data = np.array([[1+1j, 2],[3,4+0j]])\n",
    "print(np.isreal(data))"
   ]
  },
  {
   "cell_type": "code",
   "execution_count": null,
   "id": "79a0c932-1b3d-4b94-9e37-0ee3ae23ec77",
   "metadata": {},
   "outputs": [],
   "source": []
  }
 ],
 "metadata": {
  "kernelspec": {
   "display_name": "Python 3",
   "language": "python",
   "name": "python3"
  },
  "language_info": {
   "codemirror_mode": {
    "name": "ipython",
    "version": 3
   },
   "file_extension": ".py",
   "mimetype": "text/x-python",
   "name": "python",
   "nbconvert_exporter": "python",
   "pygments_lexer": "ipython3",
   "version": "3.12.4"
  }
 },
 "nbformat": 4,
 "nbformat_minor": 5
}
